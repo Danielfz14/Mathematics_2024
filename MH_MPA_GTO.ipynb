{
 "cells": [
  {
   "cell_type": "code",
   "execution_count": 1,
   "id": "168a3536",
   "metadata": {},
   "outputs": [],
   "source": [
    "import numpy as np\n",
    "from mealpy import FloatVar, MPA\n",
    "\n",
    "\n"
   ]
  },
  {
   "cell_type": "code",
   "execution_count": 11,
   "id": "95806f05",
   "metadata": {},
   "outputs": [],
   "source": [
    "import numpy as np\n",
    "import matlab.engine\n",
    "from mealpy import FloatVar, MPA\n",
    "\n",
    "eng = matlab.engine.start_matlab()\n",
    "matlab_folder = r\"C:\\Users\\A00836756\\Desktop\\matematics\" \n",
    "eng.cd(matlab_folder)\n",
    "\n",
    "num_evaluations = 0\n",
    "\n",
    "def objective_function(solution):\n",
    "    global num_evaluations\n",
    "    num_evaluations += 1\n",
    "    x1, x2, x3 = float(solution[0]), float(solution[1]), float(solution[2])\n",
    "    fcost = eng.HHmododeslizante2(x1, x2, x3)\n",
    "    return fcost\n",
    "\n",
    "problem_dict = {\n",
    "    \"bounds\": FloatVar(lb=(0.0, 0.0, 0.0), ub=(75.0, 0.1, 5.0), name=\"delta\"),\n",
    "    \"minmax\": \"min\",\n",
    "    \"obj_func\": objective_function\n",
    "}\n",
    "\n",
    "model = MPA.OriginalMPA(epoch=60, pop_size=20)\n",
    "g_best = model.solve(problem_dict)\n",
    "\n",
    "print(f\"Solution: {g_best.solution}, Fitness: {g_best.target.fitness}\")\n",
    "print(f\"Solution: {model.g_best.solution}, Fitness: {model.g_best.target.fitness}\")\n",
    "print(num_evaluations)\n"
   ]
  },
  {
   "cell_type": "code",
   "execution_count": 12,
   "id": "d569874f",
   "metadata": {},
   "outputs": [
    {
     "name": "stderr",
     "output_type": "stream",
     "text": [
      "2024/11/13 03:10:18 PM, INFO, mealpy.swarm_based.MPA.OriginalMPA: Solving single objective optimization problem.\n",
      "2024/11/13 03:10:33 PM, INFO, mealpy.swarm_based.MPA.OriginalMPA: >>>Problem: P, Epoch: 1, Current best: 0.9265900587594599, Global best: 0.9265900587594599, Runtime: 7.30747 seconds\n",
      "2024/11/13 03:10:37 PM, INFO, mealpy.swarm_based.MPA.OriginalMPA: >>>Problem: P, Epoch: 2, Current best: 0.40079570784922053, Global best: 0.40079570784922053, Runtime: 4.32211 seconds\n",
      "2024/11/13 03:10:41 PM, INFO, mealpy.swarm_based.MPA.OriginalMPA: >>>Problem: P, Epoch: 3, Current best: 0.32395764221321843, Global best: 0.32395764221321843, Runtime: 4.20913 seconds\n",
      "2024/11/13 03:10:45 PM, INFO, mealpy.swarm_based.MPA.OriginalMPA: >>>Problem: P, Epoch: 4, Current best: 0.31779797605056376, Global best: 0.31779797605056376, Runtime: 4.26962 seconds\n",
      "2024/11/13 03:10:50 PM, INFO, mealpy.swarm_based.MPA.OriginalMPA: >>>Problem: P, Epoch: 5, Current best: 0.13660524691878623, Global best: 0.13660524691878623, Runtime: 4.35565 seconds\n",
      "2024/11/13 03:10:54 PM, INFO, mealpy.swarm_based.MPA.OriginalMPA: >>>Problem: P, Epoch: 6, Current best: 0.09441728250897298, Global best: 0.09441728250897298, Runtime: 4.25985 seconds\n",
      "2024/11/13 03:10:58 PM, INFO, mealpy.swarm_based.MPA.OriginalMPA: >>>Problem: P, Epoch: 7, Current best: 0.09441728250897298, Global best: 0.09441728250897298, Runtime: 4.28856 seconds\n",
      "2024/11/13 03:11:03 PM, INFO, mealpy.swarm_based.MPA.OriginalMPA: >>>Problem: P, Epoch: 8, Current best: 0.09441728250897298, Global best: 0.09441728250897298, Runtime: 4.34074 seconds\n",
      "2024/11/13 03:11:07 PM, INFO, mealpy.swarm_based.MPA.OriginalMPA: >>>Problem: P, Epoch: 9, Current best: 0.08835683570639812, Global best: 0.08835683570639812, Runtime: 4.31614 seconds\n",
      "2024/11/13 03:11:11 PM, INFO, mealpy.swarm_based.MPA.OriginalMPA: >>>Problem: P, Epoch: 10, Current best: 0.08835683570639812, Global best: 0.08835683570639812, Runtime: 4.26731 seconds\n",
      "2024/11/13 03:11:16 PM, INFO, mealpy.swarm_based.MPA.OriginalMPA: >>>Problem: P, Epoch: 11, Current best: 0.08442701668125104, Global best: 0.08442701668125104, Runtime: 4.29941 seconds\n",
      "2024/11/13 03:11:20 PM, INFO, mealpy.swarm_based.MPA.OriginalMPA: >>>Problem: P, Epoch: 12, Current best: 0.08442701668125104, Global best: 0.08442701668125104, Runtime: 4.36574 seconds\n",
      "2024/11/13 03:11:24 PM, INFO, mealpy.swarm_based.MPA.OriginalMPA: >>>Problem: P, Epoch: 13, Current best: 0.08240624899939458, Global best: 0.08240624899939458, Runtime: 4.30984 seconds\n",
      "2024/11/13 03:11:29 PM, INFO, mealpy.swarm_based.MPA.OriginalMPA: >>>Problem: P, Epoch: 14, Current best: 0.08170744030933245, Global best: 0.08170744030933245, Runtime: 4.30620 seconds\n",
      "2024/11/13 03:11:33 PM, INFO, mealpy.swarm_based.MPA.OriginalMPA: >>>Problem: P, Epoch: 15, Current best: 0.08170744030933245, Global best: 0.08170744030933245, Runtime: 4.32022 seconds\n",
      "2024/11/13 03:11:37 PM, INFO, mealpy.swarm_based.MPA.OriginalMPA: >>>Problem: P, Epoch: 16, Current best: 0.07798325814727833, Global best: 0.07798325814727833, Runtime: 4.37799 seconds\n",
      "2024/11/13 03:11:42 PM, INFO, mealpy.swarm_based.MPA.OriginalMPA: >>>Problem: P, Epoch: 17, Current best: 0.07758399218034097, Global best: 0.07758399218034097, Runtime: 4.27374 seconds\n",
      "2024/11/13 03:11:46 PM, INFO, mealpy.swarm_based.MPA.OriginalMPA: >>>Problem: P, Epoch: 18, Current best: 0.07192808893031384, Global best: 0.07192808893031384, Runtime: 4.31762 seconds\n",
      "2024/11/13 03:11:50 PM, INFO, mealpy.swarm_based.MPA.OriginalMPA: >>>Problem: P, Epoch: 19, Current best: 0.06694570490184353, Global best: 0.06694570490184353, Runtime: 4.31903 seconds\n",
      "2024/11/13 03:11:55 PM, INFO, mealpy.swarm_based.MPA.OriginalMPA: >>>Problem: P, Epoch: 20, Current best: 0.06694570490184353, Global best: 0.06694570490184353, Runtime: 4.32798 seconds\n",
      "2024/11/13 03:11:59 PM, INFO, mealpy.swarm_based.MPA.OriginalMPA: >>>Problem: P, Epoch: 21, Current best: 0.06694570490184353, Global best: 0.06694570490184353, Runtime: 4.30669 seconds\n",
      "2024/11/13 03:12:03 PM, INFO, mealpy.swarm_based.MPA.OriginalMPA: >>>Problem: P, Epoch: 22, Current best: 0.05659703099420978, Global best: 0.05659703099420978, Runtime: 4.31601 seconds\n",
      "2024/11/13 03:12:08 PM, INFO, mealpy.swarm_based.MPA.OriginalMPA: >>>Problem: P, Epoch: 23, Current best: 0.05659703099420978, Global best: 0.05659703099420978, Runtime: 4.35561 seconds\n",
      "2024/11/13 03:12:12 PM, INFO, mealpy.swarm_based.MPA.OriginalMPA: >>>Problem: P, Epoch: 24, Current best: 0.05598527450468537, Global best: 0.05598527450468537, Runtime: 4.33947 seconds\n",
      "2024/11/13 03:12:16 PM, INFO, mealpy.swarm_based.MPA.OriginalMPA: >>>Problem: P, Epoch: 25, Current best: 0.04872104472988691, Global best: 0.04872104472988691, Runtime: 4.29321 seconds\n",
      "2024/11/13 03:12:21 PM, INFO, mealpy.swarm_based.MPA.OriginalMPA: >>>Problem: P, Epoch: 26, Current best: 0.03996432593674786, Global best: 0.03996432593674786, Runtime: 4.35150 seconds\n",
      "2024/11/13 03:12:25 PM, INFO, mealpy.swarm_based.MPA.OriginalMPA: >>>Problem: P, Epoch: 27, Current best: 0.03725799564545014, Global best: 0.03725799564545014, Runtime: 4.38131 seconds\n",
      "2024/11/13 03:12:29 PM, INFO, mealpy.swarm_based.MPA.OriginalMPA: >>>Problem: P, Epoch: 28, Current best: 0.03354513166746251, Global best: 0.03354513166746251, Runtime: 4.32986 seconds\n",
      "2024/11/13 03:12:34 PM, INFO, mealpy.swarm_based.MPA.OriginalMPA: >>>Problem: P, Epoch: 29, Current best: 0.031234029068906998, Global best: 0.031234029068906998, Runtime: 4.32651 seconds\n",
      "2024/11/13 03:12:38 PM, INFO, mealpy.swarm_based.MPA.OriginalMPA: >>>Problem: P, Epoch: 30, Current best: 0.028242549044220563, Global best: 0.028242549044220563, Runtime: 4.28923 seconds\n"
     ]
    },
    {
     "name": "stdout",
     "output_type": "stream",
     "text": [
      "Solution: [3.94530807e+01 3.35893568e-09 1.11010988e+00], Fitness: 0.028242549044220563\n",
      "Solution: [3.94530807e+01 3.35893568e-09 1.11010988e+00], Fitness: 0.028242549044220563\n",
      "621\n"
     ]
    }
   ],
   "source": [
    "model = MPA.OriginalMPA(epoch=60, pop_size=20)\n",
    "g_best = model.solve(problem_dict)\n",
    "\n",
    "print(f\"Solution: {g_best.solution}, Fitness: {g_best.target.fitness}\")\n",
    "print(f\"Solution: {model.g_best.solution}, Fitness: {model.g_best.target.fitness}\")\n",
    "print(num_evaluations)"
   ]
  },
  {
   "cell_type": "code",
   "execution_count": 13,
   "id": "31fe5e80",
   "metadata": {},
   "outputs": [
    {
     "name": "stderr",
     "output_type": "stream",
     "text": [
      "2024/11/13 03:17:21 PM, INFO, mealpy.swarm_based.MPA.OriginalMPA: Solving single objective optimization problem.\n",
      "2024/11/13 03:17:30 PM, INFO, mealpy.swarm_based.MPA.OriginalMPA: >>>Problem: P, Epoch: 1, Current best: 10.130927505337926, Global best: 10.130927505337926, Runtime: 4.34310 seconds\n",
      "2024/11/13 03:17:34 PM, INFO, mealpy.swarm_based.MPA.OriginalMPA: >>>Problem: P, Epoch: 2, Current best: 10.066844851051341, Global best: 10.066844851051341, Runtime: 4.31357 seconds\n",
      "2024/11/13 03:17:39 PM, INFO, mealpy.swarm_based.MPA.OriginalMPA: >>>Problem: P, Epoch: 3, Current best: 9.77545829197874, Global best: 9.77545829197874, Runtime: 4.24385 seconds\n",
      "2024/11/13 03:17:43 PM, INFO, mealpy.swarm_based.MPA.OriginalMPA: >>>Problem: P, Epoch: 4, Current best: 8.593192214446715, Global best: 8.593192214446715, Runtime: 4.28956 seconds\n",
      "2024/11/13 03:17:47 PM, INFO, mealpy.swarm_based.MPA.OriginalMPA: >>>Problem: P, Epoch: 5, Current best: 0.23285574081472246, Global best: 0.23285574081472246, Runtime: 4.31460 seconds\n",
      "2024/11/13 03:17:52 PM, INFO, mealpy.swarm_based.MPA.OriginalMPA: >>>Problem: P, Epoch: 6, Current best: 0.23285574081472246, Global best: 0.23285574081472246, Runtime: 4.35064 seconds\n",
      "2024/11/13 03:17:56 PM, INFO, mealpy.swarm_based.MPA.OriginalMPA: >>>Problem: P, Epoch: 7, Current best: 0.06696196412450392, Global best: 0.06696196412450392, Runtime: 4.30144 seconds\n",
      "2024/11/13 03:18:00 PM, INFO, mealpy.swarm_based.MPA.OriginalMPA: >>>Problem: P, Epoch: 8, Current best: 0.06696196412450392, Global best: 0.06696196412450392, Runtime: 4.33745 seconds\n",
      "2024/11/13 03:18:04 PM, INFO, mealpy.swarm_based.MPA.OriginalMPA: >>>Problem: P, Epoch: 9, Current best: 0.042694780120145936, Global best: 0.042694780120145936, Runtime: 4.28355 seconds\n",
      "2024/11/13 03:18:09 PM, INFO, mealpy.swarm_based.MPA.OriginalMPA: >>>Problem: P, Epoch: 10, Current best: 0.042694780120145936, Global best: 0.042694780120145936, Runtime: 4.33703 seconds\n",
      "2024/11/13 03:18:13 PM, INFO, mealpy.swarm_based.MPA.OriginalMPA: >>>Problem: P, Epoch: 11, Current best: 0.0426840859780313, Global best: 0.0426840859780313, Runtime: 4.30487 seconds\n",
      "2024/11/13 03:18:17 PM, INFO, mealpy.swarm_based.MPA.OriginalMPA: >>>Problem: P, Epoch: 12, Current best: 0.040975152067004326, Global best: 0.040975152067004326, Runtime: 4.33197 seconds\n",
      "2024/11/13 03:18:22 PM, INFO, mealpy.swarm_based.MPA.OriginalMPA: >>>Problem: P, Epoch: 13, Current best: 0.040975152067004326, Global best: 0.040975152067004326, Runtime: 4.36865 seconds\n",
      "2024/11/13 03:18:26 PM, INFO, mealpy.swarm_based.MPA.OriginalMPA: >>>Problem: P, Epoch: 14, Current best: 0.0400317409119561, Global best: 0.0400317409119561, Runtime: 4.39003 seconds\n",
      "2024/11/13 03:18:31 PM, INFO, mealpy.swarm_based.MPA.OriginalMPA: >>>Problem: P, Epoch: 15, Current best: 0.0400317409119561, Global best: 0.0400317409119561, Runtime: 4.36693 seconds\n",
      "2024/11/13 03:18:35 PM, INFO, mealpy.swarm_based.MPA.OriginalMPA: >>>Problem: P, Epoch: 16, Current best: 0.0400317409119561, Global best: 0.0400317409119561, Runtime: 4.34256 seconds\n",
      "2024/11/13 03:18:39 PM, INFO, mealpy.swarm_based.MPA.OriginalMPA: >>>Problem: P, Epoch: 17, Current best: 0.03842440120653529, Global best: 0.03842440120653529, Runtime: 4.27761 seconds\n",
      "2024/11/13 03:18:44 PM, INFO, mealpy.swarm_based.MPA.OriginalMPA: >>>Problem: P, Epoch: 18, Current best: 0.03842440120653529, Global best: 0.03842440120653529, Runtime: 4.37581 seconds\n",
      "2024/11/13 03:18:48 PM, INFO, mealpy.swarm_based.MPA.OriginalMPA: >>>Problem: P, Epoch: 19, Current best: 0.03842440120653529, Global best: 0.03842440120653529, Runtime: 4.42978 seconds\n",
      "2024/11/13 03:18:52 PM, INFO, mealpy.swarm_based.MPA.OriginalMPA: >>>Problem: P, Epoch: 20, Current best: 0.03842440120653529, Global best: 0.03842440120653529, Runtime: 4.30074 seconds\n",
      "2024/11/13 03:18:57 PM, INFO, mealpy.swarm_based.MPA.OriginalMPA: >>>Problem: P, Epoch: 21, Current best: 0.034715077240632455, Global best: 0.034715077240632455, Runtime: 4.25165 seconds\n",
      "2024/11/13 03:19:01 PM, INFO, mealpy.swarm_based.MPA.OriginalMPA: >>>Problem: P, Epoch: 22, Current best: 0.034715077240632455, Global best: 0.034715077240632455, Runtime: 4.33056 seconds\n",
      "2024/11/13 03:19:05 PM, INFO, mealpy.swarm_based.MPA.OriginalMPA: >>>Problem: P, Epoch: 23, Current best: 0.028271543611951035, Global best: 0.028271543611951035, Runtime: 4.33882 seconds\n",
      "2024/11/13 03:19:10 PM, INFO, mealpy.swarm_based.MPA.OriginalMPA: >>>Problem: P, Epoch: 24, Current best: 0.012230749176624166, Global best: 0.012230749176624166, Runtime: 4.28320 seconds\n",
      "2024/11/13 03:19:14 PM, INFO, mealpy.swarm_based.MPA.OriginalMPA: >>>Problem: P, Epoch: 25, Current best: 0.012230749176624166, Global best: 0.012230749176624166, Runtime: 4.31133 seconds\n",
      "2024/11/13 03:19:18 PM, INFO, mealpy.swarm_based.MPA.OriginalMPA: >>>Problem: P, Epoch: 26, Current best: 0.012230749176624166, Global best: 0.012230749176624166, Runtime: 4.23115 seconds\n",
      "2024/11/13 03:19:22 PM, INFO, mealpy.swarm_based.MPA.OriginalMPA: >>>Problem: P, Epoch: 27, Current best: 0.012230749176624166, Global best: 0.012230749176624166, Runtime: 4.27789 seconds\n",
      "2024/11/13 03:19:27 PM, INFO, mealpy.swarm_based.MPA.OriginalMPA: >>>Problem: P, Epoch: 28, Current best: 0.007098906483044364, Global best: 0.007098906483044364, Runtime: 4.27095 seconds\n",
      "2024/11/13 03:19:31 PM, INFO, mealpy.swarm_based.MPA.OriginalMPA: >>>Problem: P, Epoch: 29, Current best: 0.007098906483044364, Global best: 0.007098906483044364, Runtime: 4.26913 seconds\n",
      "2024/11/13 03:19:35 PM, INFO, mealpy.swarm_based.MPA.OriginalMPA: >>>Problem: P, Epoch: 30, Current best: 0.0019691309147066294, Global best: 0.0019691309147066294, Runtime: 4.34459 seconds\n",
      "2024/11/13 03:19:40 PM, INFO, mealpy.swarm_based.MPA.OriginalMPA: >>>Problem: P, Epoch: 31, Current best: 0.0019691309147066294, Global best: 0.0019691309147066294, Runtime: 4.31249 seconds\n",
      "2024/11/13 03:19:44 PM, INFO, mealpy.swarm_based.MPA.OriginalMPA: >>>Problem: P, Epoch: 32, Current best: 0.0019691309147066294, Global best: 0.0019691309147066294, Runtime: 4.25428 seconds\n",
      "2024/11/13 03:19:48 PM, INFO, mealpy.swarm_based.MPA.OriginalMPA: >>>Problem: P, Epoch: 33, Current best: 0.0019691309147066294, Global best: 0.0019691309147066294, Runtime: 4.30664 seconds\n",
      "2024/11/13 03:19:52 PM, INFO, mealpy.swarm_based.MPA.OriginalMPA: >>>Problem: P, Epoch: 34, Current best: 0.0019691309147066294, Global best: 0.0019691309147066294, Runtime: 4.30737 seconds\n",
      "2024/11/13 03:19:57 PM, INFO, mealpy.swarm_based.MPA.OriginalMPA: >>>Problem: P, Epoch: 35, Current best: 0.0019691309147066294, Global best: 0.0019691309147066294, Runtime: 4.25835 seconds\n",
      "2024/11/13 03:20:01 PM, INFO, mealpy.swarm_based.MPA.OriginalMPA: >>>Problem: P, Epoch: 36, Current best: 0.0019691309147066294, Global best: 0.0019691309147066294, Runtime: 4.24337 seconds\n",
      "2024/11/13 03:20:05 PM, INFO, mealpy.swarm_based.MPA.OriginalMPA: >>>Problem: P, Epoch: 37, Current best: 0.001890176319564607, Global best: 0.001890176319564607, Runtime: 4.28097 seconds\n",
      "2024/11/13 03:20:10 PM, INFO, mealpy.swarm_based.MPA.OriginalMPA: >>>Problem: P, Epoch: 38, Current best: 0.001890176319564607, Global best: 0.001890176319564607, Runtime: 4.38614 seconds\n",
      "2024/11/13 03:20:14 PM, INFO, mealpy.swarm_based.MPA.OriginalMPA: >>>Problem: P, Epoch: 39, Current best: 0.001890176319564607, Global best: 0.001890176319564607, Runtime: 4.71394 seconds\n",
      "2024/11/13 03:20:19 PM, INFO, mealpy.swarm_based.MPA.OriginalMPA: >>>Problem: P, Epoch: 40, Current best: 0.0017675660673043935, Global best: 0.0017675660673043935, Runtime: 4.41922 seconds\n",
      "2024/11/13 03:20:23 PM, INFO, mealpy.swarm_based.MPA.OriginalMPA: >>>Problem: P, Epoch: 41, Current best: 0.0017675660673043935, Global best: 0.0017675660673043935, Runtime: 4.73169 seconds\n",
      "2024/11/13 03:20:28 PM, INFO, mealpy.swarm_based.MPA.OriginalMPA: >>>Problem: P, Epoch: 42, Current best: 0.0017675660673043935, Global best: 0.0017675660673043935, Runtime: 4.31439 seconds\n",
      "2024/11/13 03:20:32 PM, INFO, mealpy.swarm_based.MPA.OriginalMPA: >>>Problem: P, Epoch: 43, Current best: 0.0017675660673043935, Global best: 0.0017675660673043935, Runtime: 4.21969 seconds\n",
      "2024/11/13 03:20:36 PM, INFO, mealpy.swarm_based.MPA.OriginalMPA: >>>Problem: P, Epoch: 44, Current best: 0.0014781362441367296, Global best: 0.0014781362441367296, Runtime: 4.28627 seconds\n"
     ]
    },
    {
     "name": "stderr",
     "output_type": "stream",
     "text": [
      "2024/11/13 03:20:41 PM, INFO, mealpy.swarm_based.MPA.OriginalMPA: >>>Problem: P, Epoch: 45, Current best: 0.0013860219460307243, Global best: 0.0013860219460307243, Runtime: 4.28419 seconds\n",
      "2024/11/13 03:20:45 PM, INFO, mealpy.swarm_based.MPA.OriginalMPA: >>>Problem: P, Epoch: 46, Current best: 0.0007662100495508418, Global best: 0.0007662100495508418, Runtime: 4.27777 seconds\n",
      "2024/11/13 03:20:49 PM, INFO, mealpy.swarm_based.MPA.OriginalMPA: >>>Problem: P, Epoch: 47, Current best: 0.00029631087906243356, Global best: 0.00029631087906243356, Runtime: 4.28099 seconds\n",
      "2024/11/13 03:20:53 PM, INFO, mealpy.swarm_based.MPA.OriginalMPA: >>>Problem: P, Epoch: 48, Current best: 0.00029631087906243356, Global best: 0.00029631087906243356, Runtime: 4.24624 seconds\n",
      "2024/11/13 03:20:58 PM, INFO, mealpy.swarm_based.MPA.OriginalMPA: >>>Problem: P, Epoch: 49, Current best: 0.00024117333506086248, Global best: 0.00024117333506086248, Runtime: 4.32794 seconds\n",
      "2024/11/13 03:21:02 PM, INFO, mealpy.swarm_based.MPA.OriginalMPA: >>>Problem: P, Epoch: 50, Current best: 0.00024117333506086248, Global best: 0.00024117333506086248, Runtime: 4.26107 seconds\n"
     ]
    },
    {
     "name": "stdout",
     "output_type": "stream",
     "text": [
      "Replica 1: Solution = [50.35946908  0.          1.20260312], Fitness = 0.00024117333506086248\n"
     ]
    },
    {
     "name": "stderr",
     "output_type": "stream",
     "text": [
      "2024/11/13 03:21:02 PM, INFO, mealpy.swarm_based.MPA.OriginalMPA: Solving single objective optimization problem.\n",
      "2024/11/13 03:21:11 PM, INFO, mealpy.swarm_based.MPA.OriginalMPA: >>>Problem: P, Epoch: 1, Current best: 10.483310752740119, Global best: 10.483310752740119, Runtime: 4.31976 seconds\n",
      "2024/11/13 03:21:15 PM, INFO, mealpy.swarm_based.MPA.OriginalMPA: >>>Problem: P, Epoch: 2, Current best: 10.470278552900922, Global best: 10.470278552900922, Runtime: 4.27322 seconds\n",
      "2024/11/13 03:21:19 PM, INFO, mealpy.swarm_based.MPA.OriginalMPA: >>>Problem: P, Epoch: 3, Current best: 10.464923517345484, Global best: 10.464923517345484, Runtime: 4.30123 seconds\n",
      "2024/11/13 03:21:24 PM, INFO, mealpy.swarm_based.MPA.OriginalMPA: >>>Problem: P, Epoch: 4, Current best: 10.462702077438143, Global best: 10.462702077438143, Runtime: 4.31296 seconds\n",
      "2024/11/13 03:21:28 PM, INFO, mealpy.swarm_based.MPA.OriginalMPA: >>>Problem: P, Epoch: 5, Current best: 10.457772284610488, Global best: 10.457772284610488, Runtime: 4.39050 seconds\n",
      "2024/11/13 03:21:32 PM, INFO, mealpy.swarm_based.MPA.OriginalMPA: >>>Problem: P, Epoch: 6, Current best: 10.429886145567934, Global best: 10.429886145567934, Runtime: 4.33434 seconds\n",
      "2024/11/13 03:21:37 PM, INFO, mealpy.swarm_based.MPA.OriginalMPA: >>>Problem: P, Epoch: 7, Current best: 9.79385135784173, Global best: 9.79385135784173, Runtime: 4.31675 seconds\n",
      "2024/11/13 03:21:41 PM, INFO, mealpy.swarm_based.MPA.OriginalMPA: >>>Problem: P, Epoch: 8, Current best: 9.783292657137464, Global best: 9.783292657137464, Runtime: 4.32547 seconds\n",
      "2024/11/13 03:21:45 PM, INFO, mealpy.swarm_based.MPA.OriginalMPA: >>>Problem: P, Epoch: 9, Current best: 9.783292657137464, Global best: 9.783292657137464, Runtime: 4.34099 seconds\n",
      "2024/11/13 03:21:50 PM, INFO, mealpy.swarm_based.MPA.OriginalMPA: >>>Problem: P, Epoch: 10, Current best: 9.783292657137464, Global best: 9.783292657137464, Runtime: 4.32529 seconds\n",
      "2024/11/13 03:21:54 PM, INFO, mealpy.swarm_based.MPA.OriginalMPA: >>>Problem: P, Epoch: 11, Current best: 9.77587361128436, Global best: 9.77587361128436, Runtime: 4.33877 seconds\n",
      "2024/11/13 03:21:58 PM, INFO, mealpy.swarm_based.MPA.OriginalMPA: >>>Problem: P, Epoch: 12, Current best: 9.767121791065565, Global best: 9.767121791065565, Runtime: 4.26865 seconds\n",
      "2024/11/13 03:22:03 PM, INFO, mealpy.swarm_based.MPA.OriginalMPA: >>>Problem: P, Epoch: 13, Current best: 9.757234919797797, Global best: 9.757234919797797, Runtime: 4.25725 seconds\n",
      "2024/11/13 03:22:07 PM, INFO, mealpy.swarm_based.MPA.OriginalMPA: >>>Problem: P, Epoch: 14, Current best: 9.757234919797797, Global best: 9.757234919797797, Runtime: 4.28233 seconds\n",
      "2024/11/13 03:22:11 PM, INFO, mealpy.swarm_based.MPA.OriginalMPA: >>>Problem: P, Epoch: 15, Current best: 9.757234919797797, Global best: 9.757234919797797, Runtime: 4.33062 seconds\n",
      "2024/11/13 03:22:16 PM, INFO, mealpy.swarm_based.MPA.OriginalMPA: >>>Problem: P, Epoch: 16, Current best: 9.757234919797797, Global best: 9.757234919797797, Runtime: 4.25978 seconds\n",
      "2024/11/13 03:22:20 PM, INFO, mealpy.swarm_based.MPA.OriginalMPA: >>>Problem: P, Epoch: 17, Current best: 9.757234919797797, Global best: 9.757234919797797, Runtime: 4.29503 seconds\n",
      "2024/11/13 03:22:24 PM, INFO, mealpy.swarm_based.MPA.OriginalMPA: >>>Problem: P, Epoch: 18, Current best: 9.757234919797797, Global best: 9.757234919797797, Runtime: 4.27747 seconds\n",
      "2024/11/13 03:22:28 PM, INFO, mealpy.swarm_based.MPA.OriginalMPA: >>>Problem: P, Epoch: 19, Current best: 9.757234919797797, Global best: 9.757234919797797, Runtime: 4.30723 seconds\n",
      "2024/11/13 03:22:33 PM, INFO, mealpy.swarm_based.MPA.OriginalMPA: >>>Problem: P, Epoch: 20, Current best: 9.754218887544502, Global best: 9.754218887544502, Runtime: 4.34995 seconds\n",
      "2024/11/13 03:22:37 PM, INFO, mealpy.swarm_based.MPA.OriginalMPA: >>>Problem: P, Epoch: 21, Current best: 9.754218887544502, Global best: 9.754218887544502, Runtime: 4.32680 seconds\n",
      "2024/11/13 03:22:41 PM, INFO, mealpy.swarm_based.MPA.OriginalMPA: >>>Problem: P, Epoch: 22, Current best: 9.754218887544502, Global best: 9.754218887544502, Runtime: 4.32579 seconds\n",
      "2024/11/13 03:22:46 PM, INFO, mealpy.swarm_based.MPA.OriginalMPA: >>>Problem: P, Epoch: 23, Current best: 9.754218887544502, Global best: 9.754218887544502, Runtime: 4.33146 seconds\n",
      "2024/11/13 03:22:50 PM, INFO, mealpy.swarm_based.MPA.OriginalMPA: >>>Problem: P, Epoch: 24, Current best: 9.754218887544502, Global best: 9.754218887544502, Runtime: 4.37840 seconds\n",
      "2024/11/13 03:22:54 PM, INFO, mealpy.swarm_based.MPA.OriginalMPA: >>>Problem: P, Epoch: 25, Current best: 9.754218887544502, Global best: 9.754218887544502, Runtime: 4.24264 seconds\n",
      "2024/11/13 03:22:59 PM, INFO, mealpy.swarm_based.MPA.OriginalMPA: >>>Problem: P, Epoch: 26, Current best: 9.754218887544502, Global best: 9.754218887544502, Runtime: 4.22761 seconds\n",
      "2024/11/13 03:23:03 PM, INFO, mealpy.swarm_based.MPA.OriginalMPA: >>>Problem: P, Epoch: 27, Current best: 9.75417533807038, Global best: 9.75417533807038, Runtime: 4.34366 seconds\n",
      "2024/11/13 03:23:07 PM, INFO, mealpy.swarm_based.MPA.OriginalMPA: >>>Problem: P, Epoch: 28, Current best: 9.75417533807038, Global best: 9.75417533807038, Runtime: 4.38616 seconds\n",
      "2024/11/13 03:23:12 PM, INFO, mealpy.swarm_based.MPA.OriginalMPA: >>>Problem: P, Epoch: 29, Current best: 9.75417533807038, Global best: 9.75417533807038, Runtime: 4.24126 seconds\n",
      "2024/11/13 03:23:16 PM, INFO, mealpy.swarm_based.MPA.OriginalMPA: >>>Problem: P, Epoch: 30, Current best: 9.75417533807038, Global best: 9.75417533807038, Runtime: 4.25223 seconds\n",
      "2024/11/13 03:23:20 PM, INFO, mealpy.swarm_based.MPA.OriginalMPA: >>>Problem: P, Epoch: 31, Current best: 9.75417533807038, Global best: 9.75417533807038, Runtime: 4.28158 seconds\n",
      "2024/11/13 03:23:24 PM, INFO, mealpy.swarm_based.MPA.OriginalMPA: >>>Problem: P, Epoch: 32, Current best: 9.75417533807038, Global best: 9.75417533807038, Runtime: 4.28594 seconds\n",
      "2024/11/13 03:23:29 PM, INFO, mealpy.swarm_based.MPA.OriginalMPA: >>>Problem: P, Epoch: 33, Current best: 9.75417533807038, Global best: 9.75417533807038, Runtime: 4.36366 seconds\n",
      "2024/11/13 03:23:33 PM, INFO, mealpy.swarm_based.MPA.OriginalMPA: >>>Problem: P, Epoch: 34, Current best: 9.75417533807038, Global best: 9.75417533807038, Runtime: 4.28613 seconds\n",
      "2024/11/13 03:23:37 PM, INFO, mealpy.swarm_based.MPA.OriginalMPA: >>>Problem: P, Epoch: 35, Current best: 9.753378581565784, Global best: 9.753378581565784, Runtime: 4.30360 seconds\n",
      "2024/11/13 03:23:42 PM, INFO, mealpy.swarm_based.MPA.OriginalMPA: >>>Problem: P, Epoch: 36, Current best: 9.753378581565784, Global best: 9.753378581565784, Runtime: 4.34592 seconds\n",
      "2024/11/13 03:23:46 PM, INFO, mealpy.swarm_based.MPA.OriginalMPA: >>>Problem: P, Epoch: 37, Current best: 9.753378581565784, Global best: 9.753378581565784, Runtime: 4.37493 seconds\n",
      "2024/11/13 03:23:50 PM, INFO, mealpy.swarm_based.MPA.OriginalMPA: >>>Problem: P, Epoch: 38, Current best: 9.75328889060845, Global best: 9.75328889060845, Runtime: 4.33145 seconds\n",
      "2024/11/13 03:23:55 PM, INFO, mealpy.swarm_based.MPA.OriginalMPA: >>>Problem: P, Epoch: 39, Current best: 9.75328889060845, Global best: 9.75328889060845, Runtime: 4.32365 seconds\n",
      "2024/11/13 03:23:59 PM, INFO, mealpy.swarm_based.MPA.OriginalMPA: >>>Problem: P, Epoch: 40, Current best: 9.75328889060845, Global best: 9.75328889060845, Runtime: 4.34296 seconds\n",
      "2024/11/13 03:24:03 PM, INFO, mealpy.swarm_based.MPA.OriginalMPA: >>>Problem: P, Epoch: 41, Current best: 9.75328889060845, Global best: 9.75328889060845, Runtime: 4.33877 seconds\n",
      "2024/11/13 03:24:08 PM, INFO, mealpy.swarm_based.MPA.OriginalMPA: >>>Problem: P, Epoch: 42, Current best: 9.75328889060845, Global best: 9.75328889060845, Runtime: 4.37345 seconds\n",
      "2024/11/13 03:24:12 PM, INFO, mealpy.swarm_based.MPA.OriginalMPA: >>>Problem: P, Epoch: 43, Current best: 9.75328889060845, Global best: 9.75328889060845, Runtime: 4.33213 seconds\n",
      "2024/11/13 03:24:16 PM, INFO, mealpy.swarm_based.MPA.OriginalMPA: >>>Problem: P, Epoch: 44, Current best: 9.75328889060845, Global best: 9.75328889060845, Runtime: 4.29535 seconds\n",
      "2024/11/13 03:24:21 PM, INFO, mealpy.swarm_based.MPA.OriginalMPA: >>>Problem: P, Epoch: 45, Current best: 9.75328889060845, Global best: 9.75328889060845, Runtime: 4.27541 seconds\n"
     ]
    },
    {
     "name": "stderr",
     "output_type": "stream",
     "text": [
      "2024/11/13 03:24:25 PM, INFO, mealpy.swarm_based.MPA.OriginalMPA: >>>Problem: P, Epoch: 46, Current best: 9.75328889060845, Global best: 9.75328889060845, Runtime: 4.35083 seconds\n",
      "2024/11/13 03:24:29 PM, INFO, mealpy.swarm_based.MPA.OriginalMPA: >>>Problem: P, Epoch: 47, Current best: 9.75328889060845, Global best: 9.75328889060845, Runtime: 4.26084 seconds\n",
      "2024/11/13 03:24:34 PM, INFO, mealpy.swarm_based.MPA.OriginalMPA: >>>Problem: P, Epoch: 48, Current best: 9.753111293764752, Global best: 9.753111293764752, Runtime: 4.24543 seconds\n",
      "2024/11/13 03:24:38 PM, INFO, mealpy.swarm_based.MPA.OriginalMPA: >>>Problem: P, Epoch: 49, Current best: 9.753093005697552, Global best: 9.753093005697552, Runtime: 4.37354 seconds\n",
      "2024/11/13 03:24:42 PM, INFO, mealpy.swarm_based.MPA.OriginalMPA: >>>Problem: P, Epoch: 50, Current best: 9.752889960136702, Global best: 9.752889960136702, Runtime: 4.36127 seconds\n"
     ]
    },
    {
     "name": "stdout",
     "output_type": "stream",
     "text": [
      "Replica 2: Solution = [74.0875143   0.08098761  0.38121441], Fitness = 9.752889960136702\n"
     ]
    },
    {
     "name": "stderr",
     "output_type": "stream",
     "text": [
      "2024/11/13 03:24:43 PM, INFO, mealpy.swarm_based.MPA.OriginalMPA: Solving single objective optimization problem.\n",
      "2024/11/13 03:24:51 PM, INFO, mealpy.swarm_based.MPA.OriginalMPA: >>>Problem: P, Epoch: 1, Current best: 2.60296833668817, Global best: 2.60296833668817, Runtime: 4.33034 seconds\n",
      "2024/11/13 03:24:55 PM, INFO, mealpy.swarm_based.MPA.OriginalMPA: >>>Problem: P, Epoch: 2, Current best: 1.5594866112992132, Global best: 1.5594866112992132, Runtime: 4.28594 seconds\n",
      "2024/11/13 03:25:00 PM, INFO, mealpy.swarm_based.MPA.OriginalMPA: >>>Problem: P, Epoch: 3, Current best: 0.7665697701015116, Global best: 0.7665697701015116, Runtime: 4.34057 seconds\n",
      "2024/11/13 03:25:04 PM, INFO, mealpy.swarm_based.MPA.OriginalMPA: >>>Problem: P, Epoch: 4, Current best: 0.5886809121597653, Global best: 0.5886809121597653, Runtime: 4.30820 seconds\n",
      "2024/11/13 03:25:08 PM, INFO, mealpy.swarm_based.MPA.OriginalMPA: >>>Problem: P, Epoch: 5, Current best: 0.040438094917589276, Global best: 0.040438094917589276, Runtime: 4.30906 seconds\n",
      "2024/11/13 03:25:13 PM, INFO, mealpy.swarm_based.MPA.OriginalMPA: >>>Problem: P, Epoch: 6, Current best: 0.014776463498580947, Global best: 0.014776463498580947, Runtime: 4.32877 seconds\n",
      "2024/11/13 03:25:17 PM, INFO, mealpy.swarm_based.MPA.OriginalMPA: >>>Problem: P, Epoch: 7, Current best: 0.014776463498580947, Global best: 0.014776463498580947, Runtime: 4.33941 seconds\n",
      "2024/11/13 03:25:22 PM, INFO, mealpy.swarm_based.MPA.OriginalMPA: >>>Problem: P, Epoch: 8, Current best: 0.013493392647079492, Global best: 0.013493392647079492, Runtime: 4.39372 seconds\n",
      "2024/11/13 03:25:26 PM, INFO, mealpy.swarm_based.MPA.OriginalMPA: >>>Problem: P, Epoch: 9, Current best: 0.013493392647079492, Global best: 0.013493392647079492, Runtime: 4.28793 seconds\n",
      "2024/11/13 03:25:30 PM, INFO, mealpy.swarm_based.MPA.OriginalMPA: >>>Problem: P, Epoch: 10, Current best: 0.009502387041441039, Global best: 0.009502387041441039, Runtime: 4.39519 seconds\n",
      "2024/11/13 03:25:35 PM, INFO, mealpy.swarm_based.MPA.OriginalMPA: >>>Problem: P, Epoch: 11, Current best: 0.009502387041441039, Global best: 0.009502387041441039, Runtime: 4.38061 seconds\n",
      "2024/11/13 03:25:39 PM, INFO, mealpy.swarm_based.MPA.OriginalMPA: >>>Problem: P, Epoch: 12, Current best: 0.009502387041441039, Global best: 0.009502387041441039, Runtime: 4.36292 seconds\n",
      "2024/11/13 03:25:43 PM, INFO, mealpy.swarm_based.MPA.OriginalMPA: >>>Problem: P, Epoch: 13, Current best: 0.009502387041441039, Global best: 0.009502387041441039, Runtime: 4.33807 seconds\n",
      "2024/11/13 03:25:48 PM, INFO, mealpy.swarm_based.MPA.OriginalMPA: >>>Problem: P, Epoch: 14, Current best: 0.009502387041441039, Global best: 0.009502387041441039, Runtime: 4.38044 seconds\n",
      "2024/11/13 03:25:52 PM, INFO, mealpy.swarm_based.MPA.OriginalMPA: >>>Problem: P, Epoch: 15, Current best: 0.0048293320631228815, Global best: 0.0048293320631228815, Runtime: 4.37577 seconds\n",
      "2024/11/13 03:25:56 PM, INFO, mealpy.swarm_based.MPA.OriginalMPA: >>>Problem: P, Epoch: 16, Current best: 0.0048293320631228815, Global best: 0.0048293320631228815, Runtime: 4.34292 seconds\n",
      "2024/11/13 03:26:01 PM, INFO, mealpy.swarm_based.MPA.OriginalMPA: >>>Problem: P, Epoch: 17, Current best: 0.0048293320631228815, Global best: 0.0048293320631228815, Runtime: 4.44793 seconds\n",
      "2024/11/13 03:26:05 PM, INFO, mealpy.swarm_based.MPA.OriginalMPA: >>>Problem: P, Epoch: 18, Current best: 0.0048293320631228815, Global best: 0.0048293320631228815, Runtime: 4.36682 seconds\n",
      "2024/11/13 03:26:09 PM, INFO, mealpy.swarm_based.MPA.OriginalMPA: >>>Problem: P, Epoch: 19, Current best: 0.0048293320631228815, Global best: 0.0048293320631228815, Runtime: 4.27774 seconds\n",
      "2024/11/13 03:26:14 PM, INFO, mealpy.swarm_based.MPA.OriginalMPA: >>>Problem: P, Epoch: 20, Current best: 0.0048293320631228815, Global best: 0.0048293320631228815, Runtime: 4.35352 seconds\n",
      "2024/11/13 03:26:18 PM, INFO, mealpy.swarm_based.MPA.OriginalMPA: >>>Problem: P, Epoch: 21, Current best: 0.0048293320631228815, Global best: 0.0048293320631228815, Runtime: 4.43088 seconds\n",
      "2024/11/13 03:26:23 PM, INFO, mealpy.swarm_based.MPA.OriginalMPA: >>>Problem: P, Epoch: 22, Current best: 0.0048293320631228815, Global best: 0.0048293320631228815, Runtime: 4.33656 seconds\n",
      "2024/11/13 03:26:27 PM, INFO, mealpy.swarm_based.MPA.OriginalMPA: >>>Problem: P, Epoch: 23, Current best: 0.0048293320631228815, Global best: 0.0048293320631228815, Runtime: 4.27649 seconds\n",
      "2024/11/13 03:26:31 PM, INFO, mealpy.swarm_based.MPA.OriginalMPA: >>>Problem: P, Epoch: 24, Current best: 0.0048293320631228815, Global best: 0.0048293320631228815, Runtime: 4.33183 seconds\n",
      "2024/11/13 03:26:36 PM, INFO, mealpy.swarm_based.MPA.OriginalMPA: >>>Problem: P, Epoch: 25, Current best: 0.003048962442471192, Global best: 0.003048962442471192, Runtime: 4.36523 seconds\n",
      "2024/11/13 03:26:40 PM, INFO, mealpy.swarm_based.MPA.OriginalMPA: >>>Problem: P, Epoch: 26, Current best: 0.003048962442471192, Global best: 0.003048962442471192, Runtime: 4.30167 seconds\n",
      "2024/11/13 03:26:44 PM, INFO, mealpy.swarm_based.MPA.OriginalMPA: >>>Problem: P, Epoch: 27, Current best: 0.003048962442471192, Global best: 0.003048962442471192, Runtime: 4.31252 seconds\n",
      "2024/11/13 03:26:49 PM, INFO, mealpy.swarm_based.MPA.OriginalMPA: >>>Problem: P, Epoch: 28, Current best: 0.003048962442471192, Global best: 0.003048962442471192, Runtime: 4.42089 seconds\n",
      "2024/11/13 03:26:53 PM, INFO, mealpy.swarm_based.MPA.OriginalMPA: >>>Problem: P, Epoch: 29, Current best: 0.003048962442471192, Global best: 0.003048962442471192, Runtime: 4.34621 seconds\n",
      "2024/11/13 03:26:57 PM, INFO, mealpy.swarm_based.MPA.OriginalMPA: >>>Problem: P, Epoch: 30, Current best: 0.003048962442471192, Global best: 0.003048962442471192, Runtime: 4.31962 seconds\n",
      "2024/11/13 03:27:02 PM, INFO, mealpy.swarm_based.MPA.OriginalMPA: >>>Problem: P, Epoch: 31, Current best: 0.002010920272152394, Global best: 0.002010920272152394, Runtime: 4.33015 seconds\n",
      "2024/11/13 03:27:06 PM, INFO, mealpy.swarm_based.MPA.OriginalMPA: >>>Problem: P, Epoch: 32, Current best: 0.002010920272152394, Global best: 0.002010920272152394, Runtime: 4.41566 seconds\n",
      "2024/11/13 03:27:10 PM, INFO, mealpy.swarm_based.MPA.OriginalMPA: >>>Problem: P, Epoch: 33, Current best: 0.002010920272152394, Global best: 0.002010920272152394, Runtime: 4.39036 seconds\n",
      "2024/11/13 03:27:15 PM, INFO, mealpy.swarm_based.MPA.OriginalMPA: >>>Problem: P, Epoch: 34, Current best: 0.002010920272152394, Global best: 0.002010920272152394, Runtime: 4.31014 seconds\n",
      "2024/11/13 03:27:19 PM, INFO, mealpy.swarm_based.MPA.OriginalMPA: >>>Problem: P, Epoch: 35, Current best: 0.002010920272152394, Global best: 0.002010920272152394, Runtime: 4.32412 seconds\n",
      "2024/11/13 03:27:23 PM, INFO, mealpy.swarm_based.MPA.OriginalMPA: >>>Problem: P, Epoch: 36, Current best: 0.002010920272152394, Global best: 0.002010920272152394, Runtime: 4.35155 seconds\n",
      "2024/11/13 03:27:28 PM, INFO, mealpy.swarm_based.MPA.OriginalMPA: >>>Problem: P, Epoch: 37, Current best: 0.000978568719982009, Global best: 0.000978568719982009, Runtime: 4.29840 seconds\n",
      "2024/11/13 03:27:32 PM, INFO, mealpy.swarm_based.MPA.OriginalMPA: >>>Problem: P, Epoch: 38, Current best: 0.000978568719982009, Global best: 0.000978568719982009, Runtime: 4.34006 seconds\n",
      "2024/11/13 03:27:36 PM, INFO, mealpy.swarm_based.MPA.OriginalMPA: >>>Problem: P, Epoch: 39, Current best: 0.000978568719982009, Global best: 0.000978568719982009, Runtime: 4.33158 seconds\n",
      "2024/11/13 03:27:41 PM, INFO, mealpy.swarm_based.MPA.OriginalMPA: >>>Problem: P, Epoch: 40, Current best: 0.000978568719982009, Global best: 0.000978568719982009, Runtime: 4.36757 seconds\n",
      "2024/11/13 03:27:45 PM, INFO, mealpy.swarm_based.MPA.OriginalMPA: >>>Problem: P, Epoch: 41, Current best: 0.000978568719982009, Global best: 0.000978568719982009, Runtime: 4.32222 seconds\n",
      "2024/11/13 03:27:49 PM, INFO, mealpy.swarm_based.MPA.OriginalMPA: >>>Problem: P, Epoch: 42, Current best: 0.000978568719982009, Global best: 0.000978568719982009, Runtime: 4.36646 seconds\n",
      "2024/11/13 03:27:54 PM, INFO, mealpy.swarm_based.MPA.OriginalMPA: >>>Problem: P, Epoch: 43, Current best: 0.0004795246682304244, Global best: 0.0004795246682304244, Runtime: 4.41903 seconds\n",
      "2024/11/13 03:27:58 PM, INFO, mealpy.swarm_based.MPA.OriginalMPA: >>>Problem: P, Epoch: 44, Current best: 0.0004795246682304244, Global best: 0.0004795246682304244, Runtime: 4.31524 seconds\n"
     ]
    },
    {
     "name": "stderr",
     "output_type": "stream",
     "text": [
      "2024/11/13 03:28:02 PM, INFO, mealpy.swarm_based.MPA.OriginalMPA: >>>Problem: P, Epoch: 45, Current best: 0.0004795246682304244, Global best: 0.0004795246682304244, Runtime: 4.29062 seconds\n",
      "2024/11/13 03:28:07 PM, INFO, mealpy.swarm_based.MPA.OriginalMPA: >>>Problem: P, Epoch: 46, Current best: 0.00038941943752450746, Global best: 0.00038941943752450746, Runtime: 4.39057 seconds\n",
      "2024/11/13 03:28:11 PM, INFO, mealpy.swarm_based.MPA.OriginalMPA: >>>Problem: P, Epoch: 47, Current best: 0.00023564605616501757, Global best: 0.00023564605616501757, Runtime: 4.43987 seconds\n",
      "2024/11/13 03:28:16 PM, INFO, mealpy.swarm_based.MPA.OriginalMPA: >>>Problem: P, Epoch: 48, Current best: 0.00023564605616501757, Global best: 0.00023564605616501757, Runtime: 4.38225 seconds\n",
      "2024/11/13 03:28:20 PM, INFO, mealpy.swarm_based.MPA.OriginalMPA: >>>Problem: P, Epoch: 49, Current best: 0.00023564605616501757, Global best: 0.00023564605616501757, Runtime: 4.27434 seconds\n",
      "2024/11/13 03:28:24 PM, INFO, mealpy.swarm_based.MPA.OriginalMPA: >>>Problem: P, Epoch: 50, Current best: 0.00023564605616501757, Global best: 0.00023564605616501757, Runtime: 4.42965 seconds\n"
     ]
    },
    {
     "name": "stdout",
     "output_type": "stream",
     "text": [
      "Replica 3: Solution = [50.36819396  0.          1.20267628], Fitness = 0.00023564605616501757\n"
     ]
    },
    {
     "name": "stderr",
     "output_type": "stream",
     "text": [
      "2024/11/13 03:28:25 PM, INFO, mealpy.swarm_based.MPA.OriginalMPA: Solving single objective optimization problem.\n",
      "2024/11/13 03:28:33 PM, INFO, mealpy.swarm_based.MPA.OriginalMPA: >>>Problem: P, Epoch: 1, Current best: 10.45960661345686, Global best: 10.45960661345686, Runtime: 4.34413 seconds\n",
      "2024/11/13 03:28:38 PM, INFO, mealpy.swarm_based.MPA.OriginalMPA: >>>Problem: P, Epoch: 2, Current best: 10.450815062978869, Global best: 10.450815062978869, Runtime: 4.34380 seconds\n",
      "2024/11/13 03:28:42 PM, INFO, mealpy.swarm_based.MPA.OriginalMPA: >>>Problem: P, Epoch: 3, Current best: 10.428337522021646, Global best: 10.428337522021646, Runtime: 4.41431 seconds\n",
      "2024/11/13 03:28:46 PM, INFO, mealpy.swarm_based.MPA.OriginalMPA: >>>Problem: P, Epoch: 4, Current best: 1.7184305151948298, Global best: 1.7184305151948298, Runtime: 4.38549 seconds\n",
      "2024/11/13 03:28:51 PM, INFO, mealpy.swarm_based.MPA.OriginalMPA: >>>Problem: P, Epoch: 5, Current best: 1.0025703159135575, Global best: 1.0025703159135575, Runtime: 4.35521 seconds\n",
      "2024/11/13 03:28:55 PM, INFO, mealpy.swarm_based.MPA.OriginalMPA: >>>Problem: P, Epoch: 6, Current best: 0.6549765808484475, Global best: 0.6549765808484475, Runtime: 4.38165 seconds\n",
      "2024/11/13 03:29:00 PM, INFO, mealpy.swarm_based.MPA.OriginalMPA: >>>Problem: P, Epoch: 7, Current best: 0.3814623174457378, Global best: 0.3814623174457378, Runtime: 4.33513 seconds\n",
      "2024/11/13 03:29:04 PM, INFO, mealpy.swarm_based.MPA.OriginalMPA: >>>Problem: P, Epoch: 8, Current best: 0.34169018866508843, Global best: 0.34169018866508843, Runtime: 4.33913 seconds\n",
      "2024/11/13 03:29:08 PM, INFO, mealpy.swarm_based.MPA.OriginalMPA: >>>Problem: P, Epoch: 9, Current best: 0.2873504500000301, Global best: 0.2873504500000301, Runtime: 4.40001 seconds\n",
      "2024/11/13 03:29:13 PM, INFO, mealpy.swarm_based.MPA.OriginalMPA: >>>Problem: P, Epoch: 10, Current best: 0.2573178683301865, Global best: 0.2573178683301865, Runtime: 4.42050 seconds\n",
      "2024/11/13 03:29:17 PM, INFO, mealpy.swarm_based.MPA.OriginalMPA: >>>Problem: P, Epoch: 11, Current best: 0.2573178683301865, Global best: 0.2573178683301865, Runtime: 4.36768 seconds\n",
      "2024/11/13 03:29:21 PM, INFO, mealpy.swarm_based.MPA.OriginalMPA: >>>Problem: P, Epoch: 12, Current best: 0.2573178683301865, Global best: 0.2573178683301865, Runtime: 4.36683 seconds\n",
      "2024/11/13 03:29:26 PM, INFO, mealpy.swarm_based.MPA.OriginalMPA: >>>Problem: P, Epoch: 13, Current best: 0.2573178683301865, Global best: 0.2573178683301865, Runtime: 4.31085 seconds\n",
      "2024/11/13 03:29:30 PM, INFO, mealpy.swarm_based.MPA.OriginalMPA: >>>Problem: P, Epoch: 14, Current best: 0.2573178683301865, Global best: 0.2573178683301865, Runtime: 4.39746 seconds\n",
      "2024/11/13 03:29:34 PM, INFO, mealpy.swarm_based.MPA.OriginalMPA: >>>Problem: P, Epoch: 15, Current best: 0.2573178683301865, Global best: 0.2573178683301865, Runtime: 4.36178 seconds\n",
      "2024/11/13 03:29:39 PM, INFO, mealpy.swarm_based.MPA.OriginalMPA: >>>Problem: P, Epoch: 16, Current best: 0.2573178683301865, Global best: 0.2573178683301865, Runtime: 4.37403 seconds\n",
      "2024/11/13 03:29:43 PM, INFO, mealpy.swarm_based.MPA.OriginalMPA: >>>Problem: P, Epoch: 17, Current best: 0.2573178683301865, Global best: 0.2573178683301865, Runtime: 4.38136 seconds\n",
      "2024/11/13 03:29:48 PM, INFO, mealpy.swarm_based.MPA.OriginalMPA: >>>Problem: P, Epoch: 18, Current best: 0.2573178683301865, Global best: 0.2573178683301865, Runtime: 4.35647 seconds\n",
      "2024/11/13 03:29:52 PM, INFO, mealpy.swarm_based.MPA.OriginalMPA: >>>Problem: P, Epoch: 19, Current best: 0.2573178683301865, Global best: 0.2573178683301865, Runtime: 4.31316 seconds\n",
      "2024/11/13 03:29:56 PM, INFO, mealpy.swarm_based.MPA.OriginalMPA: >>>Problem: P, Epoch: 20, Current best: 0.23729369184015953, Global best: 0.23729369184015953, Runtime: 4.33407 seconds\n",
      "2024/11/13 03:30:01 PM, INFO, mealpy.swarm_based.MPA.OriginalMPA: >>>Problem: P, Epoch: 21, Current best: 0.19396692542831712, Global best: 0.19396692542831712, Runtime: 4.40464 seconds\n",
      "2024/11/13 03:30:05 PM, INFO, mealpy.swarm_based.MPA.OriginalMPA: >>>Problem: P, Epoch: 22, Current best: 0.19013623221898915, Global best: 0.19013623221898915, Runtime: 4.37332 seconds\n",
      "2024/11/13 03:30:09 PM, INFO, mealpy.swarm_based.MPA.OriginalMPA: >>>Problem: P, Epoch: 23, Current best: 0.19013623221898915, Global best: 0.19013623221898915, Runtime: 4.35670 seconds\n",
      "2024/11/13 03:30:14 PM, INFO, mealpy.swarm_based.MPA.OriginalMPA: >>>Problem: P, Epoch: 24, Current best: 0.19013623221898915, Global best: 0.19013623221898915, Runtime: 4.36577 seconds\n",
      "2024/11/13 03:30:18 PM, INFO, mealpy.swarm_based.MPA.OriginalMPA: >>>Problem: P, Epoch: 25, Current best: 0.1692815092675685, Global best: 0.1692815092675685, Runtime: 4.44177 seconds\n",
      "2024/11/13 03:30:23 PM, INFO, mealpy.swarm_based.MPA.OriginalMPA: >>>Problem: P, Epoch: 26, Current best: 0.1692815092675685, Global best: 0.1692815092675685, Runtime: 4.35131 seconds\n",
      "2024/11/13 03:30:27 PM, INFO, mealpy.swarm_based.MPA.OriginalMPA: >>>Problem: P, Epoch: 27, Current best: 0.1692815092675685, Global best: 0.1692815092675685, Runtime: 4.35695 seconds\n",
      "2024/11/13 03:30:31 PM, INFO, mealpy.swarm_based.MPA.OriginalMPA: >>>Problem: P, Epoch: 28, Current best: 0.1692815092675685, Global best: 0.1692815092675685, Runtime: 4.39578 seconds\n",
      "2024/11/13 03:30:36 PM, INFO, mealpy.swarm_based.MPA.OriginalMPA: >>>Problem: P, Epoch: 29, Current best: 0.16112157990187564, Global best: 0.16112157990187564, Runtime: 4.40319 seconds\n",
      "2024/11/13 03:30:40 PM, INFO, mealpy.swarm_based.MPA.OriginalMPA: >>>Problem: P, Epoch: 30, Current best: 0.16112157990187564, Global best: 0.16112157990187564, Runtime: 4.35860 seconds\n",
      "2024/11/13 03:30:44 PM, INFO, mealpy.swarm_based.MPA.OriginalMPA: >>>Problem: P, Epoch: 31, Current best: 0.15052949437881583, Global best: 0.15052949437881583, Runtime: 4.30844 seconds\n",
      "2024/11/13 03:30:49 PM, INFO, mealpy.swarm_based.MPA.OriginalMPA: >>>Problem: P, Epoch: 32, Current best: 0.1432209820990498, Global best: 0.1432209820990498, Runtime: 4.35718 seconds\n",
      "2024/11/13 03:30:53 PM, INFO, mealpy.swarm_based.MPA.OriginalMPA: >>>Problem: P, Epoch: 33, Current best: 0.14306241186354762, Global best: 0.14306241186354762, Runtime: 4.35217 seconds\n",
      "2024/11/13 03:30:57 PM, INFO, mealpy.swarm_based.MPA.OriginalMPA: >>>Problem: P, Epoch: 34, Current best: 0.1258755891174371, Global best: 0.1258755891174371, Runtime: 4.27032 seconds\n",
      "2024/11/13 03:31:02 PM, INFO, mealpy.swarm_based.MPA.OriginalMPA: >>>Problem: P, Epoch: 35, Current best: 0.12322877106173369, Global best: 0.12322877106173369, Runtime: 4.32632 seconds\n",
      "2024/11/13 03:31:06 PM, INFO, mealpy.swarm_based.MPA.OriginalMPA: >>>Problem: P, Epoch: 36, Current best: 0.11549841842747764, Global best: 0.11549841842747764, Runtime: 4.35666 seconds\n",
      "2024/11/13 03:31:10 PM, INFO, mealpy.swarm_based.MPA.OriginalMPA: >>>Problem: P, Epoch: 37, Current best: 0.10756622298174967, Global best: 0.10756622298174967, Runtime: 4.32251 seconds\n",
      "2024/11/13 03:31:15 PM, INFO, mealpy.swarm_based.MPA.OriginalMPA: >>>Problem: P, Epoch: 38, Current best: 0.10679800607777214, Global best: 0.10679800607777214, Runtime: 4.29711 seconds\n",
      "2024/11/13 03:31:19 PM, INFO, mealpy.swarm_based.MPA.OriginalMPA: >>>Problem: P, Epoch: 39, Current best: 0.10394616294397938, Global best: 0.10394616294397938, Runtime: 4.34671 seconds\n",
      "2024/11/13 03:31:23 PM, INFO, mealpy.swarm_based.MPA.OriginalMPA: >>>Problem: P, Epoch: 40, Current best: 0.10294962895756107, Global best: 0.10294962895756107, Runtime: 4.39617 seconds\n",
      "2024/11/13 03:31:28 PM, INFO, mealpy.swarm_based.MPA.OriginalMPA: >>>Problem: P, Epoch: 41, Current best: 0.10294962895756107, Global best: 0.10294962895756107, Runtime: 4.32640 seconds\n",
      "2024/11/13 03:31:32 PM, INFO, mealpy.swarm_based.MPA.OriginalMPA: >>>Problem: P, Epoch: 42, Current best: 0.10272675469820566, Global best: 0.10272675469820566, Runtime: 4.32052 seconds\n",
      "2024/11/13 03:31:36 PM, INFO, mealpy.swarm_based.MPA.OriginalMPA: >>>Problem: P, Epoch: 43, Current best: 0.10195579172254748, Global best: 0.10195579172254748, Runtime: 4.41659 seconds\n",
      "2024/11/13 03:31:41 PM, INFO, mealpy.swarm_based.MPA.OriginalMPA: >>>Problem: P, Epoch: 44, Current best: 0.09993456118793824, Global best: 0.09993456118793824, Runtime: 4.40008 seconds\n"
     ]
    },
    {
     "name": "stderr",
     "output_type": "stream",
     "text": [
      "2024/11/13 03:31:45 PM, INFO, mealpy.swarm_based.MPA.OriginalMPA: >>>Problem: P, Epoch: 45, Current best: 0.09773093913467525, Global best: 0.09773093913467525, Runtime: 4.35575 seconds\n",
      "2024/11/13 03:31:50 PM, INFO, mealpy.swarm_based.MPA.OriginalMPA: >>>Problem: P, Epoch: 46, Current best: 0.09592808877816689, Global best: 0.09592808877816689, Runtime: 4.32610 seconds\n",
      "2024/11/13 03:31:54 PM, INFO, mealpy.swarm_based.MPA.OriginalMPA: >>>Problem: P, Epoch: 47, Current best: 0.09545254813360868, Global best: 0.09545254813360868, Runtime: 4.41908 seconds\n",
      "2024/11/13 03:31:58 PM, INFO, mealpy.swarm_based.MPA.OriginalMPA: >>>Problem: P, Epoch: 48, Current best: 0.0950902028070876, Global best: 0.0950902028070876, Runtime: 4.32745 seconds\n",
      "2024/11/13 03:32:03 PM, INFO, mealpy.swarm_based.MPA.OriginalMPA: >>>Problem: P, Epoch: 49, Current best: 0.09479896870986093, Global best: 0.09479896870986093, Runtime: 4.28067 seconds\n",
      "2024/11/13 03:32:07 PM, INFO, mealpy.swarm_based.MPA.OriginalMPA: >>>Problem: P, Epoch: 50, Current best: 0.09466046011405514, Global best: 0.09466046011405514, Runtime: 4.40280 seconds\n"
     ]
    },
    {
     "name": "stdout",
     "output_type": "stream",
     "text": [
      "Replica 4: Solution = [5.91431226e+01 5.88330821e-04 8.42037282e-01], Fitness = 0.09466046011405514\n"
     ]
    },
    {
     "name": "stderr",
     "output_type": "stream",
     "text": [
      "2024/11/13 03:32:07 PM, INFO, mealpy.swarm_based.MPA.OriginalMPA: Solving single objective optimization problem.\n",
      "2024/11/13 03:32:16 PM, INFO, mealpy.swarm_based.MPA.OriginalMPA: >>>Problem: P, Epoch: 1, Current best: 10.521657250479995, Global best: 10.521657250479995, Runtime: 4.46776 seconds\n",
      "2024/11/13 03:32:21 PM, INFO, mealpy.swarm_based.MPA.OriginalMPA: >>>Problem: P, Epoch: 2, Current best: 10.460878557929409, Global best: 10.460878557929409, Runtime: 4.39104 seconds\n",
      "2024/11/13 03:32:25 PM, INFO, mealpy.swarm_based.MPA.OriginalMPA: >>>Problem: P, Epoch: 3, Current best: 10.007012776210313, Global best: 10.007012776210313, Runtime: 4.29475 seconds\n",
      "2024/11/13 03:32:29 PM, INFO, mealpy.swarm_based.MPA.OriginalMPA: >>>Problem: P, Epoch: 4, Current best: 9.826377675033116, Global best: 9.826377675033116, Runtime: 4.36491 seconds\n",
      "2024/11/13 03:32:33 PM, INFO, mealpy.swarm_based.MPA.OriginalMPA: >>>Problem: P, Epoch: 5, Current best: 9.82406914229085, Global best: 9.82406914229085, Runtime: 4.28332 seconds\n",
      "2024/11/13 03:32:38 PM, INFO, mealpy.swarm_based.MPA.OriginalMPA: >>>Problem: P, Epoch: 6, Current best: 9.789098250798375, Global best: 9.789098250798375, Runtime: 4.27155 seconds\n",
      "2024/11/13 03:32:42 PM, INFO, mealpy.swarm_based.MPA.OriginalMPA: >>>Problem: P, Epoch: 7, Current best: 9.789098250798375, Global best: 9.789098250798375, Runtime: 4.36825 seconds\n",
      "2024/11/13 03:32:46 PM, INFO, mealpy.swarm_based.MPA.OriginalMPA: >>>Problem: P, Epoch: 8, Current best: 9.78290203035609, Global best: 9.78290203035609, Runtime: 4.26609 seconds\n",
      "2024/11/13 03:32:51 PM, INFO, mealpy.swarm_based.MPA.OriginalMPA: >>>Problem: P, Epoch: 9, Current best: 9.78290203035609, Global best: 9.78290203035609, Runtime: 4.29784 seconds\n",
      "2024/11/13 03:32:55 PM, INFO, mealpy.swarm_based.MPA.OriginalMPA: >>>Problem: P, Epoch: 10, Current best: 9.78290203035609, Global best: 9.78290203035609, Runtime: 4.36160 seconds\n",
      "2024/11/13 03:33:00 PM, INFO, mealpy.swarm_based.MPA.OriginalMPA: >>>Problem: P, Epoch: 11, Current best: 9.78290203035609, Global best: 9.78290203035609, Runtime: 4.44392 seconds\n",
      "2024/11/13 03:33:04 PM, INFO, mealpy.swarm_based.MPA.OriginalMPA: >>>Problem: P, Epoch: 12, Current best: 9.78290203035609, Global best: 9.78290203035609, Runtime: 4.40597 seconds\n",
      "2024/11/13 03:33:08 PM, INFO, mealpy.swarm_based.MPA.OriginalMPA: >>>Problem: P, Epoch: 13, Current best: 9.78290203035609, Global best: 9.78290203035609, Runtime: 4.40614 seconds\n",
      "2024/11/13 03:33:13 PM, INFO, mealpy.swarm_based.MPA.OriginalMPA: >>>Problem: P, Epoch: 14, Current best: 9.78290203035609, Global best: 9.78290203035609, Runtime: 4.46658 seconds\n",
      "2024/11/13 03:33:17 PM, INFO, mealpy.swarm_based.MPA.OriginalMPA: >>>Problem: P, Epoch: 15, Current best: 9.78290203035609, Global best: 9.78290203035609, Runtime: 4.36887 seconds\n",
      "2024/11/13 03:33:22 PM, INFO, mealpy.swarm_based.MPA.OriginalMPA: >>>Problem: P, Epoch: 16, Current best: 9.78290203035609, Global best: 9.78290203035609, Runtime: 4.37375 seconds\n",
      "2024/11/13 03:33:26 PM, INFO, mealpy.swarm_based.MPA.OriginalMPA: >>>Problem: P, Epoch: 17, Current best: 9.78290203035609, Global best: 9.78290203035609, Runtime: 4.36714 seconds\n",
      "2024/11/13 03:33:30 PM, INFO, mealpy.swarm_based.MPA.OriginalMPA: >>>Problem: P, Epoch: 18, Current best: 9.78290203035609, Global best: 9.78290203035609, Runtime: 4.47926 seconds\n",
      "2024/11/13 03:33:35 PM, INFO, mealpy.swarm_based.MPA.OriginalMPA: >>>Problem: P, Epoch: 19, Current best: 9.78290203035609, Global best: 9.78290203035609, Runtime: 4.38525 seconds\n",
      "2024/11/13 03:33:39 PM, INFO, mealpy.swarm_based.MPA.OriginalMPA: >>>Problem: P, Epoch: 20, Current best: 9.78290203035609, Global best: 9.78290203035609, Runtime: 4.38675 seconds\n",
      "2024/11/13 03:33:44 PM, INFO, mealpy.swarm_based.MPA.OriginalMPA: >>>Problem: P, Epoch: 21, Current best: 9.781955187887768, Global best: 9.781955187887768, Runtime: 4.39497 seconds\n",
      "2024/11/13 03:33:48 PM, INFO, mealpy.swarm_based.MPA.OriginalMPA: >>>Problem: P, Epoch: 22, Current best: 9.781955187887768, Global best: 9.781955187887768, Runtime: 4.43316 seconds\n",
      "2024/11/13 03:33:52 PM, INFO, mealpy.swarm_based.MPA.OriginalMPA: >>>Problem: P, Epoch: 23, Current best: 9.781955187887768, Global best: 9.781955187887768, Runtime: 4.39524 seconds\n",
      "2024/11/13 03:33:57 PM, INFO, mealpy.swarm_based.MPA.OriginalMPA: >>>Problem: P, Epoch: 24, Current best: 9.774698411762474, Global best: 9.774698411762474, Runtime: 4.36990 seconds\n",
      "2024/11/13 03:34:01 PM, INFO, mealpy.swarm_based.MPA.OriginalMPA: >>>Problem: P, Epoch: 25, Current best: 9.774698411762474, Global best: 9.774698411762474, Runtime: 4.39016 seconds\n",
      "2024/11/13 03:34:05 PM, INFO, mealpy.swarm_based.MPA.OriginalMPA: >>>Problem: P, Epoch: 26, Current best: 9.774698411762474, Global best: 9.774698411762474, Runtime: 4.35546 seconds\n",
      "2024/11/13 03:34:10 PM, INFO, mealpy.swarm_based.MPA.OriginalMPA: >>>Problem: P, Epoch: 27, Current best: 9.774698411762474, Global best: 9.774698411762474, Runtime: 4.37186 seconds\n",
      "2024/11/13 03:34:14 PM, INFO, mealpy.swarm_based.MPA.OriginalMPA: >>>Problem: P, Epoch: 28, Current best: 9.774698411762474, Global best: 9.774698411762474, Runtime: 4.39768 seconds\n",
      "2024/11/13 03:34:19 PM, INFO, mealpy.swarm_based.MPA.OriginalMPA: >>>Problem: P, Epoch: 29, Current best: 9.774698411762474, Global best: 9.774698411762474, Runtime: 4.42762 seconds\n",
      "2024/11/13 03:34:23 PM, INFO, mealpy.swarm_based.MPA.OriginalMPA: >>>Problem: P, Epoch: 30, Current best: 9.774698411762474, Global best: 9.774698411762474, Runtime: 4.32198 seconds\n",
      "2024/11/13 03:34:27 PM, INFO, mealpy.swarm_based.MPA.OriginalMPA: >>>Problem: P, Epoch: 31, Current best: 9.774698411762474, Global best: 9.774698411762474, Runtime: 4.38149 seconds\n",
      "2024/11/13 03:34:32 PM, INFO, mealpy.swarm_based.MPA.OriginalMPA: >>>Problem: P, Epoch: 32, Current best: 9.774698411762474, Global best: 9.774698411762474, Runtime: 4.38615 seconds\n",
      "2024/11/13 03:34:36 PM, INFO, mealpy.swarm_based.MPA.OriginalMPA: >>>Problem: P, Epoch: 33, Current best: 9.774698411762474, Global best: 9.774698411762474, Runtime: 4.40480 seconds\n",
      "2024/11/13 03:34:41 PM, INFO, mealpy.swarm_based.MPA.OriginalMPA: >>>Problem: P, Epoch: 34, Current best: 9.774698411762474, Global best: 9.774698411762474, Runtime: 4.38364 seconds\n",
      "2024/11/13 03:34:45 PM, INFO, mealpy.swarm_based.MPA.OriginalMPA: >>>Problem: P, Epoch: 35, Current best: 9.774698411762474, Global best: 9.774698411762474, Runtime: 4.44815 seconds\n",
      "2024/11/13 03:34:49 PM, INFO, mealpy.swarm_based.MPA.OriginalMPA: >>>Problem: P, Epoch: 36, Current best: 9.774698411762474, Global best: 9.774698411762474, Runtime: 4.41011 seconds\n",
      "2024/11/13 03:34:54 PM, INFO, mealpy.swarm_based.MPA.OriginalMPA: >>>Problem: P, Epoch: 37, Current best: 9.774698411762474, Global best: 9.774698411762474, Runtime: 4.42258 seconds\n",
      "2024/11/13 03:34:58 PM, INFO, mealpy.swarm_based.MPA.OriginalMPA: >>>Problem: P, Epoch: 38, Current best: 9.773927751591371, Global best: 9.773927751591371, Runtime: 4.34716 seconds\n",
      "2024/11/13 03:35:03 PM, INFO, mealpy.swarm_based.MPA.OriginalMPA: >>>Problem: P, Epoch: 39, Current best: 9.773927751591371, Global best: 9.773927751591371, Runtime: 4.38200 seconds\n",
      "2024/11/13 03:35:07 PM, INFO, mealpy.swarm_based.MPA.OriginalMPA: >>>Problem: P, Epoch: 40, Current best: 9.773075553047665, Global best: 9.773075553047665, Runtime: 4.43151 seconds\n",
      "2024/11/13 03:35:11 PM, INFO, mealpy.swarm_based.MPA.OriginalMPA: >>>Problem: P, Epoch: 41, Current best: 9.773075553047665, Global best: 9.773075553047665, Runtime: 4.39043 seconds\n",
      "2024/11/13 03:35:16 PM, INFO, mealpy.swarm_based.MPA.OriginalMPA: >>>Problem: P, Epoch: 42, Current best: 9.773075553047665, Global best: 9.773075553047665, Runtime: 4.44127 seconds\n",
      "2024/11/13 03:35:20 PM, INFO, mealpy.swarm_based.MPA.OriginalMPA: >>>Problem: P, Epoch: 43, Current best: 9.772791470778207, Global best: 9.772791470778207, Runtime: 4.43535 seconds\n",
      "2024/11/13 03:35:25 PM, INFO, mealpy.swarm_based.MPA.OriginalMPA: >>>Problem: P, Epoch: 44, Current best: 9.772791470778207, Global best: 9.772791470778207, Runtime: 4.42790 seconds\n",
      "2024/11/13 03:35:29 PM, INFO, mealpy.swarm_based.MPA.OriginalMPA: >>>Problem: P, Epoch: 45, Current best: 9.772791470778207, Global best: 9.772791470778207, Runtime: 4.43145 seconds\n"
     ]
    },
    {
     "name": "stderr",
     "output_type": "stream",
     "text": [
      "2024/11/13 03:35:34 PM, INFO, mealpy.swarm_based.MPA.OriginalMPA: >>>Problem: P, Epoch: 46, Current best: 9.772791470778207, Global best: 9.772791470778207, Runtime: 4.43714 seconds\n",
      "2024/11/13 03:35:38 PM, INFO, mealpy.swarm_based.MPA.OriginalMPA: >>>Problem: P, Epoch: 47, Current best: 9.772791470778207, Global best: 9.772791470778207, Runtime: 4.44792 seconds\n",
      "2024/11/13 03:35:42 PM, INFO, mealpy.swarm_based.MPA.OriginalMPA: >>>Problem: P, Epoch: 48, Current best: 9.772534572050105, Global best: 9.772534572050105, Runtime: 4.41009 seconds\n",
      "2024/11/13 03:35:47 PM, INFO, mealpy.swarm_based.MPA.OriginalMPA: >>>Problem: P, Epoch: 49, Current best: 9.772516625583407, Global best: 9.772516625583407, Runtime: 4.39357 seconds\n",
      "2024/11/13 03:35:51 PM, INFO, mealpy.swarm_based.MPA.OriginalMPA: >>>Problem: P, Epoch: 50, Current best: 9.772474276568557, Global best: 9.772474276568557, Runtime: 4.44362 seconds\n"
     ]
    },
    {
     "name": "stdout",
     "output_type": "stream",
     "text": [
      "Replica 5: Solution = [31.18595079  0.0820645   0.36406914], Fitness = 9.772474276568557\n"
     ]
    },
    {
     "name": "stderr",
     "output_type": "stream",
     "text": [
      "2024/11/13 03:35:52 PM, INFO, mealpy.swarm_based.MPA.OriginalMPA: Solving single objective optimization problem.\n",
      "2024/11/13 03:36:00 PM, INFO, mealpy.swarm_based.MPA.OriginalMPA: >>>Problem: P, Epoch: 1, Current best: 10.458645200341962, Global best: 10.458645200341962, Runtime: 4.42399 seconds\n",
      "2024/11/13 03:36:05 PM, INFO, mealpy.swarm_based.MPA.OriginalMPA: >>>Problem: P, Epoch: 2, Current best: 10.458235000419608, Global best: 10.458235000419608, Runtime: 4.44644 seconds\n",
      "2024/11/13 03:36:09 PM, INFO, mealpy.swarm_based.MPA.OriginalMPA: >>>Problem: P, Epoch: 3, Current best: 10.007883783718174, Global best: 10.007883783718174, Runtime: 4.42393 seconds\n",
      "2024/11/13 03:36:14 PM, INFO, mealpy.swarm_based.MPA.OriginalMPA: >>>Problem: P, Epoch: 4, Current best: 9.79976659776333, Global best: 9.79976659776333, Runtime: 4.41834 seconds\n",
      "2024/11/13 03:36:18 PM, INFO, mealpy.swarm_based.MPA.OriginalMPA: >>>Problem: P, Epoch: 5, Current best: 9.774356751459369, Global best: 9.774356751459369, Runtime: 4.39977 seconds\n",
      "2024/11/13 03:36:23 PM, INFO, mealpy.swarm_based.MPA.OriginalMPA: >>>Problem: P, Epoch: 6, Current best: 9.774356751459369, Global best: 9.774356751459369, Runtime: 4.43441 seconds\n",
      "2024/11/13 03:36:27 PM, INFO, mealpy.swarm_based.MPA.OriginalMPA: >>>Problem: P, Epoch: 7, Current best: 9.774356751459369, Global best: 9.774356751459369, Runtime: 4.43439 seconds\n",
      "2024/11/13 03:36:31 PM, INFO, mealpy.swarm_based.MPA.OriginalMPA: >>>Problem: P, Epoch: 8, Current best: 9.763382930806952, Global best: 9.763382930806952, Runtime: 4.37531 seconds\n",
      "2024/11/13 03:36:36 PM, INFO, mealpy.swarm_based.MPA.OriginalMPA: >>>Problem: P, Epoch: 9, Current best: 9.763382930806952, Global best: 9.763382930806952, Runtime: 4.45278 seconds\n",
      "2024/11/13 03:36:40 PM, INFO, mealpy.swarm_based.MPA.OriginalMPA: >>>Problem: P, Epoch: 10, Current best: 9.763382930806952, Global best: 9.763382930806952, Runtime: 4.45874 seconds\n",
      "2024/11/13 03:36:45 PM, INFO, mealpy.swarm_based.MPA.OriginalMPA: >>>Problem: P, Epoch: 11, Current best: 9.761576023421794, Global best: 9.761576023421794, Runtime: 4.44580 seconds\n",
      "2024/11/13 03:36:49 PM, INFO, mealpy.swarm_based.MPA.OriginalMPA: >>>Problem: P, Epoch: 12, Current best: 9.761576023421794, Global best: 9.761576023421794, Runtime: 4.46643 seconds\n",
      "2024/11/13 03:36:54 PM, INFO, mealpy.swarm_based.MPA.OriginalMPA: >>>Problem: P, Epoch: 13, Current best: 9.761576023421794, Global best: 9.761576023421794, Runtime: 4.44328 seconds\n",
      "2024/11/13 03:36:58 PM, INFO, mealpy.swarm_based.MPA.OriginalMPA: >>>Problem: P, Epoch: 14, Current best: 9.761576023421794, Global best: 9.761576023421794, Runtime: 4.48469 seconds\n",
      "2024/11/13 03:37:03 PM, INFO, mealpy.swarm_based.MPA.OriginalMPA: >>>Problem: P, Epoch: 15, Current best: 9.756025116126985, Global best: 9.756025116126985, Runtime: 4.43590 seconds\n",
      "2024/11/13 03:37:07 PM, INFO, mealpy.swarm_based.MPA.OriginalMPA: >>>Problem: P, Epoch: 16, Current best: 9.756025116126985, Global best: 9.756025116126985, Runtime: 4.42101 seconds\n",
      "2024/11/13 03:37:11 PM, INFO, mealpy.swarm_based.MPA.OriginalMPA: >>>Problem: P, Epoch: 17, Current best: 9.756025116126985, Global best: 9.756025116126985, Runtime: 4.46459 seconds\n",
      "2024/11/13 03:37:16 PM, INFO, mealpy.swarm_based.MPA.OriginalMPA: >>>Problem: P, Epoch: 18, Current best: 9.756025116126985, Global best: 9.756025116126985, Runtime: 4.48353 seconds\n",
      "2024/11/13 03:37:20 PM, INFO, mealpy.swarm_based.MPA.OriginalMPA: >>>Problem: P, Epoch: 19, Current best: 9.756025116126985, Global best: 9.756025116126985, Runtime: 4.38651 seconds\n",
      "2024/11/13 03:37:25 PM, INFO, mealpy.swarm_based.MPA.OriginalMPA: >>>Problem: P, Epoch: 20, Current best: 9.756025116126985, Global best: 9.756025116126985, Runtime: 4.35898 seconds\n",
      "2024/11/13 03:37:29 PM, INFO, mealpy.swarm_based.MPA.OriginalMPA: >>>Problem: P, Epoch: 21, Current best: 9.756025116126985, Global best: 9.756025116126985, Runtime: 4.43824 seconds\n",
      "2024/11/13 03:37:33 PM, INFO, mealpy.swarm_based.MPA.OriginalMPA: >>>Problem: P, Epoch: 22, Current best: 9.756025116126985, Global best: 9.756025116126985, Runtime: 4.40419 seconds\n",
      "2024/11/13 03:37:38 PM, INFO, mealpy.swarm_based.MPA.OriginalMPA: >>>Problem: P, Epoch: 23, Current best: 9.756025116126985, Global best: 9.756025116126985, Runtime: 4.43460 seconds\n",
      "2024/11/13 03:37:42 PM, INFO, mealpy.swarm_based.MPA.OriginalMPA: >>>Problem: P, Epoch: 24, Current best: 9.756025116126985, Global best: 9.756025116126985, Runtime: 4.42067 seconds\n",
      "2024/11/13 03:37:47 PM, INFO, mealpy.swarm_based.MPA.OriginalMPA: >>>Problem: P, Epoch: 25, Current best: 9.756025116126985, Global best: 9.756025116126985, Runtime: 4.39854 seconds\n",
      "2024/11/13 03:37:51 PM, INFO, mealpy.swarm_based.MPA.OriginalMPA: >>>Problem: P, Epoch: 26, Current best: 9.756025116126985, Global best: 9.756025116126985, Runtime: 4.40205 seconds\n",
      "2024/11/13 03:37:55 PM, INFO, mealpy.swarm_based.MPA.OriginalMPA: >>>Problem: P, Epoch: 27, Current best: 9.756025116126985, Global best: 9.756025116126985, Runtime: 4.35455 seconds\n",
      "2024/11/13 03:38:00 PM, INFO, mealpy.swarm_based.MPA.OriginalMPA: >>>Problem: P, Epoch: 28, Current best: 9.756025116126985, Global best: 9.756025116126985, Runtime: 4.45912 seconds\n",
      "2024/11/13 03:38:04 PM, INFO, mealpy.swarm_based.MPA.OriginalMPA: >>>Problem: P, Epoch: 29, Current best: 9.756025116126985, Global best: 9.756025116126985, Runtime: 4.46367 seconds\n",
      "2024/11/13 03:38:09 PM, INFO, mealpy.swarm_based.MPA.OriginalMPA: >>>Problem: P, Epoch: 30, Current best: 9.755788510685276, Global best: 9.755788510685276, Runtime: 4.39474 seconds\n",
      "2024/11/13 03:38:13 PM, INFO, mealpy.swarm_based.MPA.OriginalMPA: >>>Problem: P, Epoch: 31, Current best: 9.755788510685276, Global best: 9.755788510685276, Runtime: 4.42494 seconds\n",
      "2024/11/13 03:38:18 PM, INFO, mealpy.swarm_based.MPA.OriginalMPA: >>>Problem: P, Epoch: 32, Current best: 9.755788510685276, Global best: 9.755788510685276, Runtime: 4.47501 seconds\n",
      "2024/11/13 03:38:22 PM, INFO, mealpy.swarm_based.MPA.OriginalMPA: >>>Problem: P, Epoch: 33, Current best: 9.755788510685276, Global best: 9.755788510685276, Runtime: 4.38064 seconds\n",
      "2024/11/13 03:38:26 PM, INFO, mealpy.swarm_based.MPA.OriginalMPA: >>>Problem: P, Epoch: 34, Current best: 9.755788510685276, Global best: 9.755788510685276, Runtime: 4.38697 seconds\n",
      "2024/11/13 03:38:31 PM, INFO, mealpy.swarm_based.MPA.OriginalMPA: >>>Problem: P, Epoch: 35, Current best: 9.755140768319539, Global best: 9.755140768319539, Runtime: 4.43918 seconds\n",
      "2024/11/13 03:38:35 PM, INFO, mealpy.swarm_based.MPA.OriginalMPA: >>>Problem: P, Epoch: 36, Current best: 9.754974742079773, Global best: 9.754974742079773, Runtime: 4.44118 seconds\n",
      "2024/11/13 03:38:40 PM, INFO, mealpy.swarm_based.MPA.OriginalMPA: >>>Problem: P, Epoch: 37, Current best: 9.750874793532173, Global best: 9.750874793532173, Runtime: 4.43453 seconds\n",
      "2024/11/13 03:38:44 PM, INFO, mealpy.swarm_based.MPA.OriginalMPA: >>>Problem: P, Epoch: 38, Current best: 9.750499425409748, Global best: 9.750499425409748, Runtime: 4.43620 seconds\n",
      "2024/11/13 03:38:49 PM, INFO, mealpy.swarm_based.MPA.OriginalMPA: >>>Problem: P, Epoch: 39, Current best: 9.750499425409748, Global best: 9.750499425409748, Runtime: 4.45535 seconds\n",
      "2024/11/13 03:38:53 PM, INFO, mealpy.swarm_based.MPA.OriginalMPA: >>>Problem: P, Epoch: 40, Current best: 9.750499425409748, Global best: 9.750499425409748, Runtime: 4.41902 seconds\n",
      "2024/11/13 03:38:58 PM, INFO, mealpy.swarm_based.MPA.OriginalMPA: >>>Problem: P, Epoch: 41, Current best: 9.75004698121221, Global best: 9.75004698121221, Runtime: 4.44120 seconds\n",
      "2024/11/13 03:39:02 PM, INFO, mealpy.swarm_based.MPA.OriginalMPA: >>>Problem: P, Epoch: 42, Current best: 9.75004698121221, Global best: 9.75004698121221, Runtime: 4.47203 seconds\n",
      "2024/11/13 03:39:07 PM, INFO, mealpy.swarm_based.MPA.OriginalMPA: >>>Problem: P, Epoch: 43, Current best: 9.75004698121221, Global best: 9.75004698121221, Runtime: 4.49378 seconds\n",
      "2024/11/13 03:39:11 PM, INFO, mealpy.swarm_based.MPA.OriginalMPA: >>>Problem: P, Epoch: 44, Current best: 9.749922323809423, Global best: 9.749922323809423, Runtime: 4.44155 seconds\n",
      "2024/11/13 03:39:15 PM, INFO, mealpy.swarm_based.MPA.OriginalMPA: >>>Problem: P, Epoch: 45, Current best: 9.749605702801693, Global best: 9.749605702801693, Runtime: 4.43906 seconds\n"
     ]
    },
    {
     "name": "stderr",
     "output_type": "stream",
     "text": [
      "2024/11/13 03:39:20 PM, INFO, mealpy.swarm_based.MPA.OriginalMPA: >>>Problem: P, Epoch: 46, Current best: 9.749566734781954, Global best: 9.749566734781954, Runtime: 4.47147 seconds\n",
      "2024/11/13 03:39:24 PM, INFO, mealpy.swarm_based.MPA.OriginalMPA: >>>Problem: P, Epoch: 47, Current best: 9.749566734781954, Global best: 9.749566734781954, Runtime: 4.46196 seconds\n",
      "2024/11/13 03:39:29 PM, INFO, mealpy.swarm_based.MPA.OriginalMPA: >>>Problem: P, Epoch: 48, Current best: 9.749566734781954, Global best: 9.749566734781954, Runtime: 4.41186 seconds\n",
      "2024/11/13 03:39:33 PM, INFO, mealpy.swarm_based.MPA.OriginalMPA: >>>Problem: P, Epoch: 49, Current best: 9.749379392289358, Global best: 9.749379392289358, Runtime: 4.41598 seconds\n",
      "2024/11/13 03:39:38 PM, INFO, mealpy.swarm_based.MPA.OriginalMPA: >>>Problem: P, Epoch: 50, Current best: 9.749379392289358, Global best: 9.749379392289358, Runtime: 4.45441 seconds\n"
     ]
    },
    {
     "name": "stdout",
     "output_type": "stream",
     "text": [
      "Replica 6: Solution = [7.49940554e+01 6.86536571e-02 3.86498045e-01], Fitness = 9.749379392289358\n"
     ]
    },
    {
     "name": "stderr",
     "output_type": "stream",
     "text": [
      "2024/11/13 03:39:38 PM, INFO, mealpy.swarm_based.MPA.OriginalMPA: Solving single objective optimization problem.\n",
      "2024/11/13 03:39:47 PM, INFO, mealpy.swarm_based.MPA.OriginalMPA: >>>Problem: P, Epoch: 1, Current best: 1.683825766727289, Global best: 1.683825766727289, Runtime: 4.48955 seconds\n",
      "2024/11/13 03:39:51 PM, INFO, mealpy.swarm_based.MPA.OriginalMPA: >>>Problem: P, Epoch: 2, Current best: 1.1080823957463586, Global best: 1.1080823957463586, Runtime: 4.44707 seconds\n",
      "2024/11/13 03:39:56 PM, INFO, mealpy.swarm_based.MPA.OriginalMPA: >>>Problem: P, Epoch: 3, Current best: 0.865013656727444, Global best: 0.865013656727444, Runtime: 4.48251 seconds\n",
      "2024/11/13 03:40:00 PM, INFO, mealpy.swarm_based.MPA.OriginalMPA: >>>Problem: P, Epoch: 4, Current best: 0.7003049962814414, Global best: 0.7003049962814414, Runtime: 4.46571 seconds\n",
      "2024/11/13 03:40:05 PM, INFO, mealpy.swarm_based.MPA.OriginalMPA: >>>Problem: P, Epoch: 5, Current best: 0.06778577140380689, Global best: 0.06778577140380689, Runtime: 4.55452 seconds\n",
      "2024/11/13 03:40:09 PM, INFO, mealpy.swarm_based.MPA.OriginalMPA: >>>Problem: P, Epoch: 6, Current best: 0.06778577140380689, Global best: 0.06778577140380689, Runtime: 4.50273 seconds\n",
      "2024/11/13 03:40:14 PM, INFO, mealpy.swarm_based.MPA.OriginalMPA: >>>Problem: P, Epoch: 7, Current best: 0.04805488849539771, Global best: 0.04805488849539771, Runtime: 4.46481 seconds\n",
      "2024/11/13 03:40:18 PM, INFO, mealpy.swarm_based.MPA.OriginalMPA: >>>Problem: P, Epoch: 8, Current best: 0.04015030762636417, Global best: 0.04015030762636417, Runtime: 4.43688 seconds\n",
      "2024/11/13 03:40:23 PM, INFO, mealpy.swarm_based.MPA.OriginalMPA: >>>Problem: P, Epoch: 9, Current best: 0.04015030762636417, Global best: 0.04015030762636417, Runtime: 4.45253 seconds\n",
      "2024/11/13 03:40:27 PM, INFO, mealpy.swarm_based.MPA.OriginalMPA: >>>Problem: P, Epoch: 10, Current best: 0.04015030762636417, Global best: 0.04015030762636417, Runtime: 4.51014 seconds\n",
      "2024/11/13 03:40:32 PM, INFO, mealpy.swarm_based.MPA.OriginalMPA: >>>Problem: P, Epoch: 11, Current best: 0.03995599838236929, Global best: 0.03995599838236929, Runtime: 4.43962 seconds\n",
      "2024/11/13 03:40:36 PM, INFO, mealpy.swarm_based.MPA.OriginalMPA: >>>Problem: P, Epoch: 12, Current best: 0.03995599838236929, Global best: 0.03995599838236929, Runtime: 4.43663 seconds\n",
      "2024/11/13 03:40:40 PM, INFO, mealpy.swarm_based.MPA.OriginalMPA: >>>Problem: P, Epoch: 13, Current best: 0.03995599838236929, Global best: 0.03995599838236929, Runtime: 4.47343 seconds\n",
      "2024/11/13 03:40:45 PM, INFO, mealpy.swarm_based.MPA.OriginalMPA: >>>Problem: P, Epoch: 14, Current best: 0.03995599838236929, Global best: 0.03995599838236929, Runtime: 4.45563 seconds\n",
      "2024/11/13 03:40:49 PM, INFO, mealpy.swarm_based.MPA.OriginalMPA: >>>Problem: P, Epoch: 15, Current best: 0.03995599838236929, Global best: 0.03995599838236929, Runtime: 4.42145 seconds\n",
      "2024/11/13 03:40:54 PM, INFO, mealpy.swarm_based.MPA.OriginalMPA: >>>Problem: P, Epoch: 16, Current best: 0.03995599838236929, Global best: 0.03995599838236929, Runtime: 4.44792 seconds\n",
      "2024/11/13 03:40:58 PM, INFO, mealpy.swarm_based.MPA.OriginalMPA: >>>Problem: P, Epoch: 17, Current best: 0.03995599838236929, Global best: 0.03995599838236929, Runtime: 4.44060 seconds\n",
      "2024/11/13 03:41:03 PM, INFO, mealpy.swarm_based.MPA.OriginalMPA: >>>Problem: P, Epoch: 18, Current best: 0.03995599838236929, Global best: 0.03995599838236929, Runtime: 4.47519 seconds\n",
      "2024/11/13 03:41:07 PM, INFO, mealpy.swarm_based.MPA.OriginalMPA: >>>Problem: P, Epoch: 19, Current best: 0.03995599838236929, Global best: 0.03995599838236929, Runtime: 4.46947 seconds\n",
      "2024/11/13 03:41:12 PM, INFO, mealpy.swarm_based.MPA.OriginalMPA: >>>Problem: P, Epoch: 20, Current best: 0.03995599838236929, Global best: 0.03995599838236929, Runtime: 4.46668 seconds\n",
      "2024/11/13 03:41:16 PM, INFO, mealpy.swarm_based.MPA.OriginalMPA: >>>Problem: P, Epoch: 21, Current best: 0.03995599838236929, Global best: 0.03995599838236929, Runtime: 4.43624 seconds\n",
      "2024/11/13 03:41:21 PM, INFO, mealpy.swarm_based.MPA.OriginalMPA: >>>Problem: P, Epoch: 22, Current best: 0.03995599838236929, Global best: 0.03995599838236929, Runtime: 4.48807 seconds\n",
      "2024/11/13 03:41:25 PM, INFO, mealpy.swarm_based.MPA.OriginalMPA: >>>Problem: P, Epoch: 23, Current best: 0.0395861981546558, Global best: 0.0395861981546558, Runtime: 4.43987 seconds\n",
      "2024/11/13 03:41:29 PM, INFO, mealpy.swarm_based.MPA.OriginalMPA: >>>Problem: P, Epoch: 24, Current best: 0.0395861981546558, Global best: 0.0395861981546558, Runtime: 4.45612 seconds\n",
      "2024/11/13 03:41:34 PM, INFO, mealpy.swarm_based.MPA.OriginalMPA: >>>Problem: P, Epoch: 25, Current best: 0.0395861981546558, Global best: 0.0395861981546558, Runtime: 4.50581 seconds\n",
      "2024/11/13 03:41:38 PM, INFO, mealpy.swarm_based.MPA.OriginalMPA: >>>Problem: P, Epoch: 26, Current best: 0.0395861981546558, Global best: 0.0395861981546558, Runtime: 4.40880 seconds\n",
      "2024/11/13 03:41:43 PM, INFO, mealpy.swarm_based.MPA.OriginalMPA: >>>Problem: P, Epoch: 27, Current best: 0.0395861981546558, Global best: 0.0395861981546558, Runtime: 4.44796 seconds\n",
      "2024/11/13 03:41:47 PM, INFO, mealpy.swarm_based.MPA.OriginalMPA: >>>Problem: P, Epoch: 28, Current best: 0.0395861981546558, Global best: 0.0395861981546558, Runtime: 4.49526 seconds\n",
      "2024/11/13 03:41:52 PM, INFO, mealpy.swarm_based.MPA.OriginalMPA: >>>Problem: P, Epoch: 29, Current best: 0.0395861981546558, Global best: 0.0395861981546558, Runtime: 4.47335 seconds\n",
      "2024/11/13 03:41:56 PM, INFO, mealpy.swarm_based.MPA.OriginalMPA: >>>Problem: P, Epoch: 30, Current best: 0.0395861981546558, Global best: 0.0395861981546558, Runtime: 4.43868 seconds\n",
      "2024/11/13 03:42:01 PM, INFO, mealpy.swarm_based.MPA.OriginalMPA: >>>Problem: P, Epoch: 31, Current best: 0.0395861981546558, Global best: 0.0395861981546558, Runtime: 4.51549 seconds\n",
      "2024/11/13 03:42:05 PM, INFO, mealpy.swarm_based.MPA.OriginalMPA: >>>Problem: P, Epoch: 32, Current best: 0.0395861981546558, Global best: 0.0395861981546558, Runtime: 4.49321 seconds\n",
      "2024/11/13 03:42:10 PM, INFO, mealpy.swarm_based.MPA.OriginalMPA: >>>Problem: P, Epoch: 33, Current best: 0.0395861981546558, Global best: 0.0395861981546558, Runtime: 4.45903 seconds\n",
      "2024/11/13 03:42:14 PM, INFO, mealpy.swarm_based.MPA.OriginalMPA: >>>Problem: P, Epoch: 34, Current best: 0.0395861981546558, Global best: 0.0395861981546558, Runtime: 4.47959 seconds\n",
      "2024/11/13 03:42:19 PM, INFO, mealpy.swarm_based.MPA.OriginalMPA: >>>Problem: P, Epoch: 35, Current best: 0.0395861981546558, Global best: 0.0395861981546558, Runtime: 4.50546 seconds\n",
      "2024/11/13 03:42:23 PM, INFO, mealpy.swarm_based.MPA.OriginalMPA: >>>Problem: P, Epoch: 36, Current best: 0.0395861981546558, Global best: 0.0395861981546558, Runtime: 4.44318 seconds\n",
      "2024/11/13 03:42:28 PM, INFO, mealpy.swarm_based.MPA.OriginalMPA: >>>Problem: P, Epoch: 37, Current best: 0.03889787883314473, Global best: 0.03889787883314473, Runtime: 4.52391 seconds\n",
      "2024/11/13 03:42:32 PM, INFO, mealpy.swarm_based.MPA.OriginalMPA: >>>Problem: P, Epoch: 38, Current best: 0.03889787883314473, Global best: 0.03889787883314473, Runtime: 4.59381 seconds\n",
      "2024/11/13 03:42:37 PM, INFO, mealpy.swarm_based.MPA.OriginalMPA: >>>Problem: P, Epoch: 39, Current best: 0.03879174503855269, Global best: 0.03879174503855269, Runtime: 4.52400 seconds\n",
      "2024/11/13 03:42:41 PM, INFO, mealpy.swarm_based.MPA.OriginalMPA: >>>Problem: P, Epoch: 40, Current best: 0.037886726702843605, Global best: 0.037886726702843605, Runtime: 4.48686 seconds\n",
      "2024/11/13 03:42:46 PM, INFO, mealpy.swarm_based.MPA.OriginalMPA: >>>Problem: P, Epoch: 41, Current best: 0.037886726702843605, Global best: 0.037886726702843605, Runtime: 4.51677 seconds\n",
      "2024/11/13 03:42:50 PM, INFO, mealpy.swarm_based.MPA.OriginalMPA: >>>Problem: P, Epoch: 42, Current best: 0.036872976692078833, Global best: 0.036872976692078833, Runtime: 4.51341 seconds\n",
      "2024/11/13 03:42:55 PM, INFO, mealpy.swarm_based.MPA.OriginalMPA: >>>Problem: P, Epoch: 43, Current best: 0.035201290013097304, Global best: 0.035201290013097304, Runtime: 4.49369 seconds\n",
      "2024/11/13 03:42:59 PM, INFO, mealpy.swarm_based.MPA.OriginalMPA: >>>Problem: P, Epoch: 44, Current best: 0.03502956946384841, Global best: 0.03502956946384841, Runtime: 4.45269 seconds\n"
     ]
    },
    {
     "name": "stderr",
     "output_type": "stream",
     "text": [
      "2024/11/13 03:43:04 PM, INFO, mealpy.swarm_based.MPA.OriginalMPA: >>>Problem: P, Epoch: 45, Current best: 0.032049956589907995, Global best: 0.032049956589907995, Runtime: 4.51851 seconds\n",
      "2024/11/13 03:43:08 PM, INFO, mealpy.swarm_based.MPA.OriginalMPA: >>>Problem: P, Epoch: 46, Current best: 0.032049956589907995, Global best: 0.032049956589907995, Runtime: 4.48269 seconds\n",
      "2024/11/13 03:43:13 PM, INFO, mealpy.swarm_based.MPA.OriginalMPA: >>>Problem: P, Epoch: 47, Current best: 0.032049956589907995, Global best: 0.032049956589907995, Runtime: 4.49358 seconds\n",
      "2024/11/13 03:43:17 PM, INFO, mealpy.swarm_based.MPA.OriginalMPA: >>>Problem: P, Epoch: 48, Current best: 0.031776012465298195, Global best: 0.031776012465298195, Runtime: 4.52047 seconds\n",
      "2024/11/13 03:43:22 PM, INFO, mealpy.swarm_based.MPA.OriginalMPA: >>>Problem: P, Epoch: 49, Current best: 0.031515938701467495, Global best: 0.031515938701467495, Runtime: 4.54407 seconds\n",
      "2024/11/13 03:43:26 PM, INFO, mealpy.swarm_based.MPA.OriginalMPA: >>>Problem: P, Epoch: 50, Current best: 0.03118697456410839, Global best: 0.03118697456410839, Runtime: 4.44128 seconds\n"
     ]
    },
    {
     "name": "stdout",
     "output_type": "stream",
     "text": [
      "Replica 7: Solution = [6.78518214e+01 1.89518715e-14 1.32997143e+00], Fitness = 0.03118697456410839\n"
     ]
    },
    {
     "name": "stderr",
     "output_type": "stream",
     "text": [
      "2024/11/13 03:43:27 PM, INFO, mealpy.swarm_based.MPA.OriginalMPA: Solving single objective optimization problem.\n",
      "2024/11/13 03:43:35 PM, INFO, mealpy.swarm_based.MPA.OriginalMPA: >>>Problem: P, Epoch: 1, Current best: 4.00288057465002, Global best: 4.00288057465002, Runtime: 4.46524 seconds\n",
      "2024/11/13 03:43:40 PM, INFO, mealpy.swarm_based.MPA.OriginalMPA: >>>Problem: P, Epoch: 2, Current best: 1.1488682512342543, Global best: 1.1488682512342543, Runtime: 4.45734 seconds\n",
      "2024/11/13 03:43:44 PM, INFO, mealpy.swarm_based.MPA.OriginalMPA: >>>Problem: P, Epoch: 3, Current best: 0.6732713629296193, Global best: 0.6732713629296193, Runtime: 4.43655 seconds\n",
      "2024/11/13 03:43:49 PM, INFO, mealpy.swarm_based.MPA.OriginalMPA: >>>Problem: P, Epoch: 4, Current best: 0.4297300450137915, Global best: 0.4297300450137915, Runtime: 4.46254 seconds\n",
      "2024/11/13 03:43:53 PM, INFO, mealpy.swarm_based.MPA.OriginalMPA: >>>Problem: P, Epoch: 5, Current best: 0.26701595127796207, Global best: 0.26701595127796207, Runtime: 4.48516 seconds\n",
      "2024/11/13 03:43:58 PM, INFO, mealpy.swarm_based.MPA.OriginalMPA: >>>Problem: P, Epoch: 6, Current best: 0.11899599327716388, Global best: 0.11899599327716388, Runtime: 4.44480 seconds\n",
      "2024/11/13 03:44:02 PM, INFO, mealpy.swarm_based.MPA.OriginalMPA: >>>Problem: P, Epoch: 7, Current best: 0.11899599327716388, Global best: 0.11899599327716388, Runtime: 4.45570 seconds\n",
      "2024/11/13 03:44:07 PM, INFO, mealpy.swarm_based.MPA.OriginalMPA: >>>Problem: P, Epoch: 8, Current best: 0.11899599327716388, Global best: 0.11899599327716388, Runtime: 4.50198 seconds\n",
      "2024/11/13 03:44:11 PM, INFO, mealpy.swarm_based.MPA.OriginalMPA: >>>Problem: P, Epoch: 9, Current best: 0.11899599327716388, Global best: 0.11899599327716388, Runtime: 4.53394 seconds\n",
      "2024/11/13 03:44:16 PM, INFO, mealpy.swarm_based.MPA.OriginalMPA: >>>Problem: P, Epoch: 10, Current best: 0.11899599327716388, Global best: 0.11899599327716388, Runtime: 4.51621 seconds\n",
      "2024/11/13 03:44:20 PM, INFO, mealpy.swarm_based.MPA.OriginalMPA: >>>Problem: P, Epoch: 11, Current best: 0.11899599327716388, Global best: 0.11899599327716388, Runtime: 4.53020 seconds\n",
      "2024/11/13 03:44:25 PM, INFO, mealpy.swarm_based.MPA.OriginalMPA: >>>Problem: P, Epoch: 12, Current best: 0.11899599327716388, Global best: 0.11899599327716388, Runtime: 4.52640 seconds\n",
      "2024/11/13 03:44:29 PM, INFO, mealpy.swarm_based.MPA.OriginalMPA: >>>Problem: P, Epoch: 13, Current best: 0.11739586687815812, Global best: 0.11739586687815812, Runtime: 4.48680 seconds\n",
      "2024/11/13 03:44:34 PM, INFO, mealpy.swarm_based.MPA.OriginalMPA: >>>Problem: P, Epoch: 14, Current best: 0.11663922993395459, Global best: 0.11663922993395459, Runtime: 4.47281 seconds\n",
      "2024/11/13 03:44:38 PM, INFO, mealpy.swarm_based.MPA.OriginalMPA: >>>Problem: P, Epoch: 15, Current best: 0.11349071360961546, Global best: 0.11349071360961546, Runtime: 4.50699 seconds\n",
      "2024/11/13 03:44:43 PM, INFO, mealpy.swarm_based.MPA.OriginalMPA: >>>Problem: P, Epoch: 16, Current best: 0.09920406316651414, Global best: 0.09920406316651414, Runtime: 4.53374 seconds\n",
      "2024/11/13 03:44:47 PM, INFO, mealpy.swarm_based.MPA.OriginalMPA: >>>Problem: P, Epoch: 17, Current best: 0.09920406316651414, Global best: 0.09920406316651414, Runtime: 4.44481 seconds\n",
      "2024/11/13 03:44:52 PM, INFO, mealpy.swarm_based.MPA.OriginalMPA: >>>Problem: P, Epoch: 18, Current best: 0.09920406316651414, Global best: 0.09920406316651414, Runtime: 4.47339 seconds\n",
      "2024/11/13 03:44:56 PM, INFO, mealpy.swarm_based.MPA.OriginalMPA: >>>Problem: P, Epoch: 19, Current best: 0.09920406316651414, Global best: 0.09920406316651414, Runtime: 4.46678 seconds\n",
      "2024/11/13 03:45:01 PM, INFO, mealpy.swarm_based.MPA.OriginalMPA: >>>Problem: P, Epoch: 20, Current best: 0.09920406316651414, Global best: 0.09920406316651414, Runtime: 4.48623 seconds\n",
      "2024/11/13 03:45:05 PM, INFO, mealpy.swarm_based.MPA.OriginalMPA: >>>Problem: P, Epoch: 21, Current best: 0.09920406316651414, Global best: 0.09920406316651414, Runtime: 4.47499 seconds\n",
      "2024/11/13 03:45:10 PM, INFO, mealpy.swarm_based.MPA.OriginalMPA: >>>Problem: P, Epoch: 22, Current best: 0.0977622906690932, Global best: 0.0977622906690932, Runtime: 4.44339 seconds\n",
      "2024/11/13 03:45:14 PM, INFO, mealpy.swarm_based.MPA.OriginalMPA: >>>Problem: P, Epoch: 23, Current best: 0.0917916719249434, Global best: 0.0917916719249434, Runtime: 4.51152 seconds\n",
      "2024/11/13 03:45:19 PM, INFO, mealpy.swarm_based.MPA.OriginalMPA: >>>Problem: P, Epoch: 24, Current best: 0.0917916719249434, Global best: 0.0917916719249434, Runtime: 4.47350 seconds\n",
      "2024/11/13 03:45:23 PM, INFO, mealpy.swarm_based.MPA.OriginalMPA: >>>Problem: P, Epoch: 25, Current best: 0.09159164839211072, Global best: 0.09159164839211072, Runtime: 4.46294 seconds\n",
      "2024/11/13 03:45:28 PM, INFO, mealpy.swarm_based.MPA.OriginalMPA: >>>Problem: P, Epoch: 26, Current best: 0.09159164839211072, Global best: 0.09159164839211072, Runtime: 4.48996 seconds\n",
      "2024/11/13 03:45:32 PM, INFO, mealpy.swarm_based.MPA.OriginalMPA: >>>Problem: P, Epoch: 27, Current best: 0.09159164839211072, Global best: 0.09159164839211072, Runtime: 4.50888 seconds\n",
      "2024/11/13 03:45:37 PM, INFO, mealpy.swarm_based.MPA.OriginalMPA: >>>Problem: P, Epoch: 28, Current best: 0.08866581201137462, Global best: 0.08866581201137462, Runtime: 4.45346 seconds\n",
      "2024/11/13 03:45:41 PM, INFO, mealpy.swarm_based.MPA.OriginalMPA: >>>Problem: P, Epoch: 29, Current best: 0.08866581201137462, Global best: 0.08866581201137462, Runtime: 4.47577 seconds\n",
      "2024/11/13 03:45:46 PM, INFO, mealpy.swarm_based.MPA.OriginalMPA: >>>Problem: P, Epoch: 30, Current best: 0.08866581201137462, Global best: 0.08866581201137462, Runtime: 4.54749 seconds\n",
      "2024/11/13 03:45:50 PM, INFO, mealpy.swarm_based.MPA.OriginalMPA: >>>Problem: P, Epoch: 31, Current best: 0.08866581201137462, Global best: 0.08866581201137462, Runtime: 4.53422 seconds\n",
      "2024/11/13 03:45:55 PM, INFO, mealpy.swarm_based.MPA.OriginalMPA: >>>Problem: P, Epoch: 32, Current best: 0.08866581201137462, Global best: 0.08866581201137462, Runtime: 4.48427 seconds\n",
      "2024/11/13 03:45:59 PM, INFO, mealpy.swarm_based.MPA.OriginalMPA: >>>Problem: P, Epoch: 33, Current best: 0.08839753226031338, Global best: 0.08839753226031338, Runtime: 4.47232 seconds\n",
      "2024/11/13 03:46:04 PM, INFO, mealpy.swarm_based.MPA.OriginalMPA: >>>Problem: P, Epoch: 34, Current best: 0.08839753226031338, Global best: 0.08839753226031338, Runtime: 4.49110 seconds\n",
      "2024/11/13 03:46:08 PM, INFO, mealpy.swarm_based.MPA.OriginalMPA: >>>Problem: P, Epoch: 35, Current best: 0.08818621702351886, Global best: 0.08818621702351886, Runtime: 4.45061 seconds\n",
      "2024/11/13 03:46:12 PM, INFO, mealpy.swarm_based.MPA.OriginalMPA: >>>Problem: P, Epoch: 36, Current best: 0.08818621702351886, Global best: 0.08818621702351886, Runtime: 4.47944 seconds\n",
      "2024/11/13 03:46:17 PM, INFO, mealpy.swarm_based.MPA.OriginalMPA: >>>Problem: P, Epoch: 37, Current best: 0.08818621702351886, Global best: 0.08818621702351886, Runtime: 4.53171 seconds\n",
      "2024/11/13 03:46:22 PM, INFO, mealpy.swarm_based.MPA.OriginalMPA: >>>Problem: P, Epoch: 38, Current best: 0.08818621702351886, Global best: 0.08818621702351886, Runtime: 4.47116 seconds\n",
      "2024/11/13 03:46:26 PM, INFO, mealpy.swarm_based.MPA.OriginalMPA: >>>Problem: P, Epoch: 39, Current best: 0.08818621702351886, Global best: 0.08818621702351886, Runtime: 4.49245 seconds\n",
      "2024/11/13 03:46:31 PM, INFO, mealpy.swarm_based.MPA.OriginalMPA: >>>Problem: P, Epoch: 40, Current best: 0.08741205605210146, Global best: 0.08741205605210146, Runtime: 4.50689 seconds\n",
      "2024/11/13 03:46:35 PM, INFO, mealpy.swarm_based.MPA.OriginalMPA: >>>Problem: P, Epoch: 41, Current best: 0.08704315994985583, Global best: 0.08704315994985583, Runtime: 4.51929 seconds\n",
      "2024/11/13 03:46:40 PM, INFO, mealpy.swarm_based.MPA.OriginalMPA: >>>Problem: P, Epoch: 42, Current best: 0.08553358514384742, Global best: 0.08553358514384742, Runtime: 4.51309 seconds\n",
      "2024/11/13 03:46:44 PM, INFO, mealpy.swarm_based.MPA.OriginalMPA: >>>Problem: P, Epoch: 43, Current best: 0.08470642254981428, Global best: 0.08470642254981428, Runtime: 4.49375 seconds\n",
      "2024/11/13 03:46:49 PM, INFO, mealpy.swarm_based.MPA.OriginalMPA: >>>Problem: P, Epoch: 44, Current best: 0.08283361203629108, Global best: 0.08283361203629108, Runtime: 4.56733 seconds\n"
     ]
    },
    {
     "name": "stderr",
     "output_type": "stream",
     "text": [
      "2024/11/13 03:46:53 PM, INFO, mealpy.swarm_based.MPA.OriginalMPA: >>>Problem: P, Epoch: 45, Current best: 0.08278334349662099, Global best: 0.08278334349662099, Runtime: 4.53987 seconds\n",
      "2024/11/13 03:46:58 PM, INFO, mealpy.swarm_based.MPA.OriginalMPA: >>>Problem: P, Epoch: 46, Current best: 0.07889157579970534, Global best: 0.07889157579970534, Runtime: 4.49391 seconds\n",
      "2024/11/13 03:47:02 PM, INFO, mealpy.swarm_based.MPA.OriginalMPA: >>>Problem: P, Epoch: 47, Current best: 0.07823681174129304, Global best: 0.07823681174129304, Runtime: 4.53614 seconds\n",
      "2024/11/13 03:47:07 PM, INFO, mealpy.swarm_based.MPA.OriginalMPA: >>>Problem: P, Epoch: 48, Current best: 0.07531518368532365, Global best: 0.07531518368532365, Runtime: 4.57060 seconds\n",
      "2024/11/13 03:47:11 PM, INFO, mealpy.swarm_based.MPA.OriginalMPA: >>>Problem: P, Epoch: 49, Current best: 0.07305408584648525, Global best: 0.07305408584648525, Runtime: 4.50801 seconds\n",
      "2024/11/13 03:47:16 PM, INFO, mealpy.swarm_based.MPA.OriginalMPA: >>>Problem: P, Epoch: 50, Current best: 0.07066100333831098, Global best: 0.07066100333831098, Runtime: 4.50740 seconds\n"
     ]
    },
    {
     "name": "stdout",
     "output_type": "stream",
     "text": [
      "Replica 8: Solution = [6.61424795e+01 4.82745898e-04 8.99497473e-01], Fitness = 0.07066100333831098\n"
     ]
    },
    {
     "name": "stderr",
     "output_type": "stream",
     "text": [
      "2024/11/13 03:47:16 PM, INFO, mealpy.swarm_based.MPA.OriginalMPA: Solving single objective optimization problem.\n",
      "2024/11/13 03:47:25 PM, INFO, mealpy.swarm_based.MPA.OriginalMPA: >>>Problem: P, Epoch: 1, Current best: 9.942349280813145, Global best: 9.942349280813145, Runtime: 4.50012 seconds\n",
      "2024/11/13 03:47:29 PM, INFO, mealpy.swarm_based.MPA.OriginalMPA: >>>Problem: P, Epoch: 2, Current best: 9.88414768692956, Global best: 9.88414768692956, Runtime: 4.47530 seconds\n",
      "2024/11/13 03:47:34 PM, INFO, mealpy.swarm_based.MPA.OriginalMPA: >>>Problem: P, Epoch: 3, Current best: 9.78882771668626, Global best: 9.78882771668626, Runtime: 4.48623 seconds\n",
      "2024/11/13 03:47:38 PM, INFO, mealpy.swarm_based.MPA.OriginalMPA: >>>Problem: P, Epoch: 4, Current best: 9.78882771668626, Global best: 9.78882771668626, Runtime: 4.49183 seconds\n",
      "2024/11/13 03:47:43 PM, INFO, mealpy.swarm_based.MPA.OriginalMPA: >>>Problem: P, Epoch: 5, Current best: 9.78882771668626, Global best: 9.78882771668626, Runtime: 4.49032 seconds\n",
      "2024/11/13 03:47:47 PM, INFO, mealpy.swarm_based.MPA.OriginalMPA: >>>Problem: P, Epoch: 6, Current best: 9.78648086951539, Global best: 9.78648086951539, Runtime: 4.44959 seconds\n",
      "2024/11/13 03:47:52 PM, INFO, mealpy.swarm_based.MPA.OriginalMPA: >>>Problem: P, Epoch: 7, Current best: 9.768626453520293, Global best: 9.768626453520293, Runtime: 4.51213 seconds\n",
      "2024/11/13 03:47:56 PM, INFO, mealpy.swarm_based.MPA.OriginalMPA: >>>Problem: P, Epoch: 8, Current best: 9.762858133773266, Global best: 9.762858133773266, Runtime: 4.49604 seconds\n",
      "2024/11/13 03:48:01 PM, INFO, mealpy.swarm_based.MPA.OriginalMPA: >>>Problem: P, Epoch: 9, Current best: 9.762858133773266, Global best: 9.762858133773266, Runtime: 4.47100 seconds\n",
      "2024/11/13 03:48:05 PM, INFO, mealpy.swarm_based.MPA.OriginalMPA: >>>Problem: P, Epoch: 10, Current best: 9.762858133773266, Global best: 9.762858133773266, Runtime: 4.46350 seconds\n",
      "2024/11/13 03:48:10 PM, INFO, mealpy.swarm_based.MPA.OriginalMPA: >>>Problem: P, Epoch: 11, Current best: 9.762858133773266, Global best: 9.762858133773266, Runtime: 4.50167 seconds\n",
      "2024/11/13 03:48:14 PM, INFO, mealpy.swarm_based.MPA.OriginalMPA: >>>Problem: P, Epoch: 12, Current best: 9.760221382491006, Global best: 9.760221382491006, Runtime: 4.48219 seconds\n",
      "2024/11/13 03:48:19 PM, INFO, mealpy.swarm_based.MPA.OriginalMPA: >>>Problem: P, Epoch: 13, Current best: 9.758149440504774, Global best: 9.758149440504774, Runtime: 4.46250 seconds\n",
      "2024/11/13 03:48:23 PM, INFO, mealpy.swarm_based.MPA.OriginalMPA: >>>Problem: P, Epoch: 14, Current best: 9.758149440504774, Global best: 9.758149440504774, Runtime: 4.48136 seconds\n",
      "2024/11/13 03:48:28 PM, INFO, mealpy.swarm_based.MPA.OriginalMPA: >>>Problem: P, Epoch: 15, Current best: 9.758149440504774, Global best: 9.758149440504774, Runtime: 4.51220 seconds\n",
      "2024/11/13 03:48:32 PM, INFO, mealpy.swarm_based.MPA.OriginalMPA: >>>Problem: P, Epoch: 16, Current best: 9.758149440504774, Global best: 9.758149440504774, Runtime: 4.46628 seconds\n",
      "2024/11/13 03:48:37 PM, INFO, mealpy.swarm_based.MPA.OriginalMPA: >>>Problem: P, Epoch: 17, Current best: 9.758149440504774, Global best: 9.758149440504774, Runtime: 4.44535 seconds\n",
      "2024/11/13 03:48:41 PM, INFO, mealpy.swarm_based.MPA.OriginalMPA: >>>Problem: P, Epoch: 18, Current best: 9.758149440504774, Global best: 9.758149440504774, Runtime: 4.48414 seconds\n",
      "2024/11/13 03:48:46 PM, INFO, mealpy.swarm_based.MPA.OriginalMPA: >>>Problem: P, Epoch: 19, Current best: 9.758149440504774, Global best: 9.758149440504774, Runtime: 4.50277 seconds\n",
      "2024/11/13 03:48:50 PM, INFO, mealpy.swarm_based.MPA.OriginalMPA: >>>Problem: P, Epoch: 20, Current best: 9.758149440504774, Global best: 9.758149440504774, Runtime: 4.51640 seconds\n",
      "2024/11/13 03:48:55 PM, INFO, mealpy.swarm_based.MPA.OriginalMPA: >>>Problem: P, Epoch: 21, Current best: 9.758149440504774, Global best: 9.758149440504774, Runtime: 4.50005 seconds\n",
      "2024/11/13 03:48:59 PM, INFO, mealpy.swarm_based.MPA.OriginalMPA: >>>Problem: P, Epoch: 22, Current best: 9.758149440504774, Global best: 9.758149440504774, Runtime: 4.55099 seconds\n",
      "2024/11/13 03:49:04 PM, INFO, mealpy.swarm_based.MPA.OriginalMPA: >>>Problem: P, Epoch: 23, Current best: 9.758149440504774, Global best: 9.758149440504774, Runtime: 4.48859 seconds\n",
      "2024/11/13 03:49:08 PM, INFO, mealpy.swarm_based.MPA.OriginalMPA: >>>Problem: P, Epoch: 24, Current best: 9.758149440504774, Global best: 9.758149440504774, Runtime: 4.48953 seconds\n",
      "2024/11/13 03:49:13 PM, INFO, mealpy.swarm_based.MPA.OriginalMPA: >>>Problem: P, Epoch: 25, Current best: 9.758149440504774, Global best: 9.758149440504774, Runtime: 4.48879 seconds\n",
      "2024/11/13 03:49:17 PM, INFO, mealpy.swarm_based.MPA.OriginalMPA: >>>Problem: P, Epoch: 26, Current best: 9.758149440504774, Global best: 9.758149440504774, Runtime: 4.51981 seconds\n",
      "2024/11/13 03:49:22 PM, INFO, mealpy.swarm_based.MPA.OriginalMPA: >>>Problem: P, Epoch: 27, Current best: 9.758149440504774, Global best: 9.758149440504774, Runtime: 4.52637 seconds\n",
      "2024/11/13 03:49:26 PM, INFO, mealpy.swarm_based.MPA.OriginalMPA: >>>Problem: P, Epoch: 28, Current best: 9.758149440504774, Global best: 9.758149440504774, Runtime: 4.50020 seconds\n",
      "2024/11/13 03:49:31 PM, INFO, mealpy.swarm_based.MPA.OriginalMPA: >>>Problem: P, Epoch: 29, Current best: 9.758149440504774, Global best: 9.758149440504774, Runtime: 4.54559 seconds\n",
      "2024/11/13 03:49:35 PM, INFO, mealpy.swarm_based.MPA.OriginalMPA: >>>Problem: P, Epoch: 30, Current best: 9.758149440504774, Global best: 9.758149440504774, Runtime: 4.45493 seconds\n",
      "2024/11/13 03:49:40 PM, INFO, mealpy.swarm_based.MPA.OriginalMPA: >>>Problem: P, Epoch: 31, Current best: 9.758149440504774, Global best: 9.758149440504774, Runtime: 4.47749 seconds\n",
      "2024/11/13 03:49:44 PM, INFO, mealpy.swarm_based.MPA.OriginalMPA: >>>Problem: P, Epoch: 32, Current best: 9.758149440504774, Global best: 9.758149440504774, Runtime: 4.52026 seconds\n",
      "2024/11/13 03:49:49 PM, INFO, mealpy.swarm_based.MPA.OriginalMPA: >>>Problem: P, Epoch: 33, Current best: 9.758149440504774, Global best: 9.758149440504774, Runtime: 4.48522 seconds\n",
      "2024/11/13 03:49:53 PM, INFO, mealpy.swarm_based.MPA.OriginalMPA: >>>Problem: P, Epoch: 34, Current best: 9.758149440504774, Global best: 9.758149440504774, Runtime: 4.51105 seconds\n",
      "2024/11/13 03:49:58 PM, INFO, mealpy.swarm_based.MPA.OriginalMPA: >>>Problem: P, Epoch: 35, Current best: 9.758149440504774, Global best: 9.758149440504774, Runtime: 4.51510 seconds\n",
      "2024/11/13 03:50:02 PM, INFO, mealpy.swarm_based.MPA.OriginalMPA: >>>Problem: P, Epoch: 36, Current best: 9.757383675465363, Global best: 9.757383675465363, Runtime: 4.50906 seconds\n",
      "2024/11/13 03:50:07 PM, INFO, mealpy.swarm_based.MPA.OriginalMPA: >>>Problem: P, Epoch: 37, Current best: 9.757383675465363, Global best: 9.757383675465363, Runtime: 4.47353 seconds\n",
      "2024/11/13 03:50:11 PM, INFO, mealpy.swarm_based.MPA.OriginalMPA: >>>Problem: P, Epoch: 38, Current best: 9.757383675465363, Global best: 9.757383675465363, Runtime: 4.48097 seconds\n",
      "2024/11/13 03:50:16 PM, INFO, mealpy.swarm_based.MPA.OriginalMPA: >>>Problem: P, Epoch: 39, Current best: 9.757383675465363, Global best: 9.757383675465363, Runtime: 4.52070 seconds\n",
      "2024/11/13 03:50:20 PM, INFO, mealpy.swarm_based.MPA.OriginalMPA: >>>Problem: P, Epoch: 40, Current best: 9.757383675465363, Global best: 9.757383675465363, Runtime: 4.51250 seconds\n",
      "2024/11/13 03:50:25 PM, INFO, mealpy.swarm_based.MPA.OriginalMPA: >>>Problem: P, Epoch: 41, Current best: 9.757383675465363, Global best: 9.757383675465363, Runtime: 4.45783 seconds\n",
      "2024/11/13 03:50:29 PM, INFO, mealpy.swarm_based.MPA.OriginalMPA: >>>Problem: P, Epoch: 42, Current best: 9.757383675465363, Global best: 9.757383675465363, Runtime: 4.49057 seconds\n",
      "2024/11/13 03:50:34 PM, INFO, mealpy.swarm_based.MPA.OriginalMPA: >>>Problem: P, Epoch: 43, Current best: 9.757383675465363, Global best: 9.757383675465363, Runtime: 4.51256 seconds\n",
      "2024/11/13 03:50:38 PM, INFO, mealpy.swarm_based.MPA.OriginalMPA: >>>Problem: P, Epoch: 44, Current best: 9.757383675465363, Global best: 9.757383675465363, Runtime: 4.46489 seconds\n",
      "2024/11/13 03:50:43 PM, INFO, mealpy.swarm_based.MPA.OriginalMPA: >>>Problem: P, Epoch: 45, Current best: 9.757383675465363, Global best: 9.757383675465363, Runtime: 4.53092 seconds\n"
     ]
    },
    {
     "name": "stderr",
     "output_type": "stream",
     "text": [
      "2024/11/13 03:50:47 PM, INFO, mealpy.swarm_based.MPA.OriginalMPA: >>>Problem: P, Epoch: 46, Current best: 9.757284785610786, Global best: 9.757284785610786, Runtime: 4.50968 seconds\n",
      "2024/11/13 03:50:52 PM, INFO, mealpy.swarm_based.MPA.OriginalMPA: >>>Problem: P, Epoch: 47, Current best: 9.757226968500664, Global best: 9.757226968500664, Runtime: 4.56112 seconds\n",
      "2024/11/13 03:50:56 PM, INFO, mealpy.swarm_based.MPA.OriginalMPA: >>>Problem: P, Epoch: 48, Current best: 9.757162479424204, Global best: 9.757162479424204, Runtime: 4.50861 seconds\n",
      "2024/11/13 03:51:01 PM, INFO, mealpy.swarm_based.MPA.OriginalMPA: >>>Problem: P, Epoch: 49, Current best: 9.75703619461689, Global best: 9.75703619461689, Runtime: 4.54325 seconds\n",
      "2024/11/13 03:51:05 PM, INFO, mealpy.swarm_based.MPA.OriginalMPA: >>>Problem: P, Epoch: 50, Current best: 9.75703619461689, Global best: 9.75703619461689, Runtime: 4.58047 seconds\n"
     ]
    },
    {
     "name": "stdout",
     "output_type": "stream",
     "text": [
      "Replica 9: Solution = [74.082609    0.09906664  0.3759592 ], Fitness = 9.75703619461689\n"
     ]
    },
    {
     "name": "stderr",
     "output_type": "stream",
     "text": [
      "2024/11/13 03:51:06 PM, INFO, mealpy.swarm_based.MPA.OriginalMPA: Solving single objective optimization problem.\n",
      "2024/11/13 03:51:15 PM, INFO, mealpy.swarm_based.MPA.OriginalMPA: >>>Problem: P, Epoch: 1, Current best: 10.107133409762875, Global best: 10.107133409762875, Runtime: 4.59832 seconds\n",
      "2024/11/13 03:51:19 PM, INFO, mealpy.swarm_based.MPA.OriginalMPA: >>>Problem: P, Epoch: 2, Current best: 10.107133409762875, Global best: 10.107133409762875, Runtime: 4.59189 seconds\n",
      "2024/11/13 03:51:24 PM, INFO, mealpy.swarm_based.MPA.OriginalMPA: >>>Problem: P, Epoch: 3, Current best: 9.888381528309203, Global best: 9.888381528309203, Runtime: 4.57350 seconds\n",
      "2024/11/13 03:51:29 PM, INFO, mealpy.swarm_based.MPA.OriginalMPA: >>>Problem: P, Epoch: 4, Current best: 9.821781004258233, Global best: 9.821781004258233, Runtime: 4.63961 seconds\n",
      "2024/11/13 03:51:33 PM, INFO, mealpy.swarm_based.MPA.OriginalMPA: >>>Problem: P, Epoch: 5, Current best: 9.821781004258233, Global best: 9.821781004258233, Runtime: 4.53428 seconds\n",
      "2024/11/13 03:51:38 PM, INFO, mealpy.swarm_based.MPA.OriginalMPA: >>>Problem: P, Epoch: 6, Current best: 9.794744907589035, Global best: 9.794744907589035, Runtime: 4.53675 seconds\n",
      "2024/11/13 03:51:42 PM, INFO, mealpy.swarm_based.MPA.OriginalMPA: >>>Problem: P, Epoch: 7, Current best: 1.6166043801457999, Global best: 1.6166043801457999, Runtime: 4.49271 seconds\n",
      "2024/11/13 03:51:47 PM, INFO, mealpy.swarm_based.MPA.OriginalMPA: >>>Problem: P, Epoch: 8, Current best: 1.4639609719221212, Global best: 1.4639609719221212, Runtime: 4.51749 seconds\n",
      "2024/11/13 03:51:51 PM, INFO, mealpy.swarm_based.MPA.OriginalMPA: >>>Problem: P, Epoch: 9, Current best: 1.3346464367596953, Global best: 1.3346464367596953, Runtime: 4.58527 seconds\n",
      "2024/11/13 03:51:56 PM, INFO, mealpy.swarm_based.MPA.OriginalMPA: >>>Problem: P, Epoch: 10, Current best: 1.1287902884925987, Global best: 1.1287902884925987, Runtime: 4.58522 seconds\n",
      "2024/11/13 03:52:00 PM, INFO, mealpy.swarm_based.MPA.OriginalMPA: >>>Problem: P, Epoch: 11, Current best: 0.8952686044537943, Global best: 0.8952686044537943, Runtime: 4.51765 seconds\n",
      "2024/11/13 03:52:05 PM, INFO, mealpy.swarm_based.MPA.OriginalMPA: >>>Problem: P, Epoch: 12, Current best: 0.38117697702227227, Global best: 0.38117697702227227, Runtime: 4.50491 seconds\n",
      "2024/11/13 03:52:10 PM, INFO, mealpy.swarm_based.MPA.OriginalMPA: >>>Problem: P, Epoch: 13, Current best: 0.38117697702227227, Global best: 0.38117697702227227, Runtime: 4.62892 seconds\n",
      "2024/11/13 03:52:14 PM, INFO, mealpy.swarm_based.MPA.OriginalMPA: >>>Problem: P, Epoch: 14, Current best: 0.37378039101515825, Global best: 0.37378039101515825, Runtime: 4.61342 seconds\n",
      "2024/11/13 03:52:19 PM, INFO, mealpy.swarm_based.MPA.OriginalMPA: >>>Problem: P, Epoch: 15, Current best: 0.37378039101515825, Global best: 0.37378039101515825, Runtime: 4.62874 seconds\n",
      "2024/11/13 03:52:23 PM, INFO, mealpy.swarm_based.MPA.OriginalMPA: >>>Problem: P, Epoch: 16, Current best: 0.37378039101515825, Global best: 0.37378039101515825, Runtime: 4.64916 seconds\n",
      "2024/11/13 03:52:28 PM, INFO, mealpy.swarm_based.MPA.OriginalMPA: >>>Problem: P, Epoch: 17, Current best: 0.37014838740244776, Global best: 0.37014838740244776, Runtime: 4.60223 seconds\n",
      "2024/11/13 03:52:33 PM, INFO, mealpy.swarm_based.MPA.OriginalMPA: >>>Problem: P, Epoch: 18, Current best: 0.37014838740244776, Global best: 0.37014838740244776, Runtime: 4.49941 seconds\n",
      "2024/11/13 03:52:37 PM, INFO, mealpy.swarm_based.MPA.OriginalMPA: >>>Problem: P, Epoch: 19, Current best: 0.3699142832244131, Global best: 0.3699142832244131, Runtime: 4.50963 seconds\n",
      "2024/11/13 03:52:42 PM, INFO, mealpy.swarm_based.MPA.OriginalMPA: >>>Problem: P, Epoch: 20, Current best: 0.3699142832244131, Global best: 0.3699142832244131, Runtime: 4.60671 seconds\n",
      "2024/11/13 03:52:46 PM, INFO, mealpy.swarm_based.MPA.OriginalMPA: >>>Problem: P, Epoch: 21, Current best: 0.3673764452583327, Global best: 0.3673764452583327, Runtime: 4.50897 seconds\n",
      "2024/11/13 03:52:51 PM, INFO, mealpy.swarm_based.MPA.OriginalMPA: >>>Problem: P, Epoch: 22, Current best: 0.3673764452583327, Global best: 0.3673764452583327, Runtime: 4.51978 seconds\n",
      "2024/11/13 03:52:55 PM, INFO, mealpy.swarm_based.MPA.OriginalMPA: >>>Problem: P, Epoch: 23, Current best: 0.3611891908747933, Global best: 0.3611891908747933, Runtime: 4.51444 seconds\n",
      "2024/11/13 03:53:00 PM, INFO, mealpy.swarm_based.MPA.OriginalMPA: >>>Problem: P, Epoch: 24, Current best: 0.3553654241887561, Global best: 0.3553654241887561, Runtime: 4.53663 seconds\n",
      "2024/11/13 03:53:04 PM, INFO, mealpy.swarm_based.MPA.OriginalMPA: >>>Problem: P, Epoch: 25, Current best: 0.3525222090184494, Global best: 0.3525222090184494, Runtime: 4.57929 seconds\n",
      "2024/11/13 03:53:09 PM, INFO, mealpy.swarm_based.MPA.OriginalMPA: >>>Problem: P, Epoch: 26, Current best: 0.3504007383640649, Global best: 0.3504007383640649, Runtime: 4.55242 seconds\n",
      "2024/11/13 03:53:14 PM, INFO, mealpy.swarm_based.MPA.OriginalMPA: >>>Problem: P, Epoch: 27, Current best: 0.33785963961363735, Global best: 0.33785963961363735, Runtime: 4.64838 seconds\n",
      "2024/11/13 03:53:18 PM, INFO, mealpy.swarm_based.MPA.OriginalMPA: >>>Problem: P, Epoch: 28, Current best: 0.33718337771068874, Global best: 0.33718337771068874, Runtime: 4.53813 seconds\n",
      "2024/11/13 03:53:23 PM, INFO, mealpy.swarm_based.MPA.OriginalMPA: >>>Problem: P, Epoch: 29, Current best: 0.33553787658614476, Global best: 0.33553787658614476, Runtime: 4.53422 seconds\n",
      "2024/11/13 03:53:27 PM, INFO, mealpy.swarm_based.MPA.OriginalMPA: >>>Problem: P, Epoch: 30, Current best: 0.33553787658614476, Global best: 0.33553787658614476, Runtime: 4.57441 seconds\n",
      "2024/11/13 03:53:32 PM, INFO, mealpy.swarm_based.MPA.OriginalMPA: >>>Problem: P, Epoch: 31, Current best: 0.33553787658614476, Global best: 0.33553787658614476, Runtime: 4.52716 seconds\n",
      "2024/11/13 03:53:36 PM, INFO, mealpy.swarm_based.MPA.OriginalMPA: >>>Problem: P, Epoch: 32, Current best: 0.3254270940289962, Global best: 0.3254270940289962, Runtime: 4.50628 seconds\n",
      "2024/11/13 03:53:41 PM, INFO, mealpy.swarm_based.MPA.OriginalMPA: >>>Problem: P, Epoch: 33, Current best: 0.3231977103482262, Global best: 0.3231977103482262, Runtime: 4.52539 seconds\n",
      "2024/11/13 03:53:45 PM, INFO, mealpy.swarm_based.MPA.OriginalMPA: >>>Problem: P, Epoch: 34, Current best: 0.3186232507670623, Global best: 0.3186232507670623, Runtime: 4.61866 seconds\n",
      "2024/11/13 03:53:50 PM, INFO, mealpy.swarm_based.MPA.OriginalMPA: >>>Problem: P, Epoch: 35, Current best: 0.3051165524492786, Global best: 0.3051165524492786, Runtime: 4.54920 seconds\n",
      "2024/11/13 03:53:54 PM, INFO, mealpy.swarm_based.MPA.OriginalMPA: >>>Problem: P, Epoch: 36, Current best: 0.2999018541151234, Global best: 0.2999018541151234, Runtime: 4.57447 seconds\n",
      "2024/11/13 03:53:59 PM, INFO, mealpy.swarm_based.MPA.OriginalMPA: >>>Problem: P, Epoch: 37, Current best: 0.2983202489762449, Global best: 0.2983202489762449, Runtime: 4.51338 seconds\n",
      "2024/11/13 03:54:04 PM, INFO, mealpy.swarm_based.MPA.OriginalMPA: >>>Problem: P, Epoch: 38, Current best: 0.2916561610361343, Global best: 0.2916561610361343, Runtime: 4.54605 seconds\n",
      "2024/11/13 03:54:08 PM, INFO, mealpy.swarm_based.MPA.OriginalMPA: >>>Problem: P, Epoch: 39, Current best: 0.2903881765356979, Global best: 0.2903881765356979, Runtime: 4.48989 seconds\n",
      "2024/11/13 03:54:13 PM, INFO, mealpy.swarm_based.MPA.OriginalMPA: >>>Problem: P, Epoch: 40, Current best: 0.28480801951745305, Global best: 0.28480801951745305, Runtime: 4.54395 seconds\n",
      "2024/11/13 03:54:17 PM, INFO, mealpy.swarm_based.MPA.OriginalMPA: >>>Problem: P, Epoch: 41, Current best: 0.28192966872759273, Global best: 0.28192966872759273, Runtime: 4.55678 seconds\n",
      "2024/11/13 03:54:22 PM, INFO, mealpy.swarm_based.MPA.OriginalMPA: >>>Problem: P, Epoch: 42, Current best: 0.2673482815474902, Global best: 0.2673482815474902, Runtime: 4.55271 seconds\n",
      "2024/11/13 03:54:26 PM, INFO, mealpy.swarm_based.MPA.OriginalMPA: >>>Problem: P, Epoch: 43, Current best: 0.25915510989389706, Global best: 0.25915510989389706, Runtime: 4.53421 seconds\n",
      "2024/11/13 03:54:31 PM, INFO, mealpy.swarm_based.MPA.OriginalMPA: >>>Problem: P, Epoch: 44, Current best: 0.2532827812221062, Global best: 0.2532827812221062, Runtime: 4.55474 seconds\n"
     ]
    },
    {
     "name": "stderr",
     "output_type": "stream",
     "text": [
      "2024/11/13 03:54:35 PM, INFO, mealpy.swarm_based.MPA.OriginalMPA: >>>Problem: P, Epoch: 45, Current best: 0.25111988180678896, Global best: 0.25111988180678896, Runtime: 4.60260 seconds\n",
      "2024/11/13 03:54:40 PM, INFO, mealpy.swarm_based.MPA.OriginalMPA: >>>Problem: P, Epoch: 46, Current best: 0.24889980042054324, Global best: 0.24889980042054324, Runtime: 4.51054 seconds\n",
      "2024/11/13 03:54:44 PM, INFO, mealpy.swarm_based.MPA.OriginalMPA: >>>Problem: P, Epoch: 47, Current best: 0.2470639454937915, Global best: 0.2470639454937915, Runtime: 4.55568 seconds\n",
      "2024/11/13 03:54:49 PM, INFO, mealpy.swarm_based.MPA.OriginalMPA: >>>Problem: P, Epoch: 48, Current best: 0.24431772780181144, Global best: 0.24431772780181144, Runtime: 4.56426 seconds\n",
      "2024/11/13 03:54:54 PM, INFO, mealpy.swarm_based.MPA.OriginalMPA: >>>Problem: P, Epoch: 49, Current best: 0.24351733000587486, Global best: 0.24351733000587486, Runtime: 4.50394 seconds\n",
      "2024/11/13 03:54:58 PM, INFO, mealpy.swarm_based.MPA.OriginalMPA: >>>Problem: P, Epoch: 50, Current best: 0.24114408623214262, Global best: 0.24114408623214262, Runtime: 4.50742 seconds\n"
     ]
    },
    {
     "name": "stdout",
     "output_type": "stream",
     "text": [
      "Replica 10: Solution = [1.59673089e+01 3.08752022e-04 6.65870805e-01], Fitness = 0.24114408623214262\n"
     ]
    },
    {
     "name": "stderr",
     "output_type": "stream",
     "text": [
      "2024/11/13 03:54:58 PM, INFO, mealpy.swarm_based.MPA.OriginalMPA: Solving single objective optimization problem.\n",
      "2024/11/13 03:55:07 PM, INFO, mealpy.swarm_based.MPA.OriginalMPA: >>>Problem: P, Epoch: 1, Current best: 1.4051605569307788, Global best: 1.4051605569307788, Runtime: 4.56755 seconds\n",
      "2024/11/13 03:55:12 PM, INFO, mealpy.swarm_based.MPA.OriginalMPA: >>>Problem: P, Epoch: 2, Current best: 0.9687067848878648, Global best: 0.9687067848878648, Runtime: 4.57593 seconds\n",
      "2024/11/13 03:55:17 PM, INFO, mealpy.swarm_based.MPA.OriginalMPA: >>>Problem: P, Epoch: 3, Current best: 0.2950153260163775, Global best: 0.2950153260163775, Runtime: 4.58890 seconds\n",
      "2024/11/13 03:55:21 PM, INFO, mealpy.swarm_based.MPA.OriginalMPA: >>>Problem: P, Epoch: 4, Current best: 0.11109357286693794, Global best: 0.11109357286693794, Runtime: 4.71355 seconds\n",
      "2024/11/13 03:55:26 PM, INFO, mealpy.swarm_based.MPA.OriginalMPA: >>>Problem: P, Epoch: 5, Current best: 0.11109357286693794, Global best: 0.11109357286693794, Runtime: 4.56895 seconds\n",
      "2024/11/13 03:55:30 PM, INFO, mealpy.swarm_based.MPA.OriginalMPA: >>>Problem: P, Epoch: 6, Current best: 0.11084241187204355, Global best: 0.11084241187204355, Runtime: 4.54669 seconds\n",
      "2024/11/13 03:55:35 PM, INFO, mealpy.swarm_based.MPA.OriginalMPA: >>>Problem: P, Epoch: 7, Current best: 0.09687368521857721, Global best: 0.09687368521857721, Runtime: 4.55445 seconds\n",
      "2024/11/13 03:55:39 PM, INFO, mealpy.swarm_based.MPA.OriginalMPA: >>>Problem: P, Epoch: 8, Current best: 0.08351005268621593, Global best: 0.08351005268621593, Runtime: 4.56972 seconds\n",
      "2024/11/13 03:55:44 PM, INFO, mealpy.swarm_based.MPA.OriginalMPA: >>>Problem: P, Epoch: 9, Current best: 0.058197680751660104, Global best: 0.058197680751660104, Runtime: 4.54584 seconds\n",
      "2024/11/13 03:55:49 PM, INFO, mealpy.swarm_based.MPA.OriginalMPA: >>>Problem: P, Epoch: 10, Current best: 0.058197680751660104, Global best: 0.058197680751660104, Runtime: 4.53756 seconds\n",
      "2024/11/13 03:55:53 PM, INFO, mealpy.swarm_based.MPA.OriginalMPA: >>>Problem: P, Epoch: 11, Current best: 0.058197680751660104, Global best: 0.058197680751660104, Runtime: 4.56375 seconds\n",
      "2024/11/13 03:55:58 PM, INFO, mealpy.swarm_based.MPA.OriginalMPA: >>>Problem: P, Epoch: 12, Current best: 0.04064625072266547, Global best: 0.04064625072266547, Runtime: 4.52082 seconds\n",
      "2024/11/13 03:56:02 PM, INFO, mealpy.swarm_based.MPA.OriginalMPA: >>>Problem: P, Epoch: 13, Current best: 0.036905041996195244, Global best: 0.036905041996195244, Runtime: 4.51888 seconds\n",
      "2024/11/13 03:56:07 PM, INFO, mealpy.swarm_based.MPA.OriginalMPA: >>>Problem: P, Epoch: 14, Current best: 0.016919558051123152, Global best: 0.016919558051123152, Runtime: 4.55253 seconds\n",
      "2024/11/13 03:56:11 PM, INFO, mealpy.swarm_based.MPA.OriginalMPA: >>>Problem: P, Epoch: 15, Current best: 0.010390902563254478, Global best: 0.010390902563254478, Runtime: 4.58091 seconds\n",
      "2024/11/13 03:56:16 PM, INFO, mealpy.swarm_based.MPA.OriginalMPA: >>>Problem: P, Epoch: 16, Current best: 0.007650491008087612, Global best: 0.007650491008087612, Runtime: 4.53355 seconds\n",
      "2024/11/13 03:56:20 PM, INFO, mealpy.swarm_based.MPA.OriginalMPA: >>>Problem: P, Epoch: 17, Current best: 0.007650491008087612, Global best: 0.007650491008087612, Runtime: 4.60178 seconds\n",
      "2024/11/13 03:56:25 PM, INFO, mealpy.swarm_based.MPA.OriginalMPA: >>>Problem: P, Epoch: 18, Current best: 0.007650491008087612, Global best: 0.007650491008087612, Runtime: 4.61170 seconds\n",
      "2024/11/13 03:56:30 PM, INFO, mealpy.swarm_based.MPA.OriginalMPA: >>>Problem: P, Epoch: 19, Current best: 0.007650491008087612, Global best: 0.007650491008087612, Runtime: 4.60868 seconds\n",
      "2024/11/13 03:56:34 PM, INFO, mealpy.swarm_based.MPA.OriginalMPA: >>>Problem: P, Epoch: 20, Current best: 0.007650491008087612, Global best: 0.007650491008087612, Runtime: 4.54161 seconds\n",
      "2024/11/13 03:56:39 PM, INFO, mealpy.swarm_based.MPA.OriginalMPA: >>>Problem: P, Epoch: 21, Current best: 0.007650491008087612, Global best: 0.007650491008087612, Runtime: 4.55055 seconds\n",
      "2024/11/13 03:56:43 PM, INFO, mealpy.swarm_based.MPA.OriginalMPA: >>>Problem: P, Epoch: 22, Current best: 0.007650491008087612, Global best: 0.007650491008087612, Runtime: 4.55559 seconds\n",
      "2024/11/13 03:56:48 PM, INFO, mealpy.swarm_based.MPA.OriginalMPA: >>>Problem: P, Epoch: 23, Current best: 0.007650491008087612, Global best: 0.007650491008087612, Runtime: 4.58896 seconds\n",
      "2024/11/13 03:56:52 PM, INFO, mealpy.swarm_based.MPA.OriginalMPA: >>>Problem: P, Epoch: 24, Current best: 0.00531096224966816, Global best: 0.00531096224966816, Runtime: 4.50727 seconds\n",
      "2024/11/13 03:56:57 PM, INFO, mealpy.swarm_based.MPA.OriginalMPA: >>>Problem: P, Epoch: 25, Current best: 0.00531096224966816, Global best: 0.00531096224966816, Runtime: 4.61342 seconds\n",
      "2024/11/13 03:57:02 PM, INFO, mealpy.swarm_based.MPA.OriginalMPA: >>>Problem: P, Epoch: 26, Current best: 0.00531096224966816, Global best: 0.00531096224966816, Runtime: 4.55310 seconds\n",
      "2024/11/13 03:57:06 PM, INFO, mealpy.swarm_based.MPA.OriginalMPA: >>>Problem: P, Epoch: 27, Current best: 0.00531096224966816, Global best: 0.00531096224966816, Runtime: 4.50491 seconds\n",
      "2024/11/13 03:57:11 PM, INFO, mealpy.swarm_based.MPA.OriginalMPA: >>>Problem: P, Epoch: 28, Current best: 0.00531096224966816, Global best: 0.00531096224966816, Runtime: 4.58525 seconds\n",
      "2024/11/13 03:57:15 PM, INFO, mealpy.swarm_based.MPA.OriginalMPA: >>>Problem: P, Epoch: 29, Current best: 0.00531096224966816, Global best: 0.00531096224966816, Runtime: 4.64325 seconds\n",
      "2024/11/13 03:57:20 PM, INFO, mealpy.swarm_based.MPA.OriginalMPA: >>>Problem: P, Epoch: 30, Current best: 0.00531096224966816, Global best: 0.00531096224966816, Runtime: 4.55846 seconds\n",
      "2024/11/13 03:57:24 PM, INFO, mealpy.swarm_based.MPA.OriginalMPA: >>>Problem: P, Epoch: 31, Current best: 0.00531096224966816, Global best: 0.00531096224966816, Runtime: 4.52456 seconds\n",
      "2024/11/13 03:57:29 PM, INFO, mealpy.swarm_based.MPA.OriginalMPA: >>>Problem: P, Epoch: 32, Current best: 0.002371961350186158, Global best: 0.002371961350186158, Runtime: 4.55264 seconds\n",
      "2024/11/13 03:57:34 PM, INFO, mealpy.swarm_based.MPA.OriginalMPA: >>>Problem: P, Epoch: 33, Current best: 0.002371961350186158, Global best: 0.002371961350186158, Runtime: 4.53196 seconds\n",
      "2024/11/13 03:57:38 PM, INFO, mealpy.swarm_based.MPA.OriginalMPA: >>>Problem: P, Epoch: 34, Current best: 0.002371961350186158, Global best: 0.002371961350186158, Runtime: 4.55849 seconds\n",
      "2024/11/13 03:57:43 PM, INFO, mealpy.swarm_based.MPA.OriginalMPA: >>>Problem: P, Epoch: 35, Current best: 0.002371961350186158, Global best: 0.002371961350186158, Runtime: 4.53660 seconds\n",
      "2024/11/13 03:57:47 PM, INFO, mealpy.swarm_based.MPA.OriginalMPA: >>>Problem: P, Epoch: 36, Current best: 0.002371961350186158, Global best: 0.002371961350186158, Runtime: 4.63891 seconds\n",
      "2024/11/13 03:57:52 PM, INFO, mealpy.swarm_based.MPA.OriginalMPA: >>>Problem: P, Epoch: 37, Current best: 0.002371961350186158, Global best: 0.002371961350186158, Runtime: 4.62574 seconds\n",
      "2024/11/13 03:57:56 PM, INFO, mealpy.swarm_based.MPA.OriginalMPA: >>>Problem: P, Epoch: 38, Current best: 0.002371961350186158, Global best: 0.002371961350186158, Runtime: 4.58454 seconds\n",
      "2024/11/13 03:58:01 PM, INFO, mealpy.swarm_based.MPA.OriginalMPA: >>>Problem: P, Epoch: 39, Current best: 0.002371961350186158, Global best: 0.002371961350186158, Runtime: 4.68237 seconds\n",
      "2024/11/13 03:58:06 PM, INFO, mealpy.swarm_based.MPA.OriginalMPA: >>>Problem: P, Epoch: 40, Current best: 0.002371961350186158, Global best: 0.002371961350186158, Runtime: 4.58872 seconds\n",
      "2024/11/13 03:58:10 PM, INFO, mealpy.swarm_based.MPA.OriginalMPA: >>>Problem: P, Epoch: 41, Current best: 0.002371961350186158, Global best: 0.002371961350186158, Runtime: 4.58470 seconds\n",
      "2024/11/13 03:58:15 PM, INFO, mealpy.swarm_based.MPA.OriginalMPA: >>>Problem: P, Epoch: 42, Current best: 0.002371961350186158, Global best: 0.002371961350186158, Runtime: 4.64713 seconds\n",
      "2024/11/13 03:58:20 PM, INFO, mealpy.swarm_based.MPA.OriginalMPA: >>>Problem: P, Epoch: 43, Current best: 0.0022365567383524133, Global best: 0.0022365567383524133, Runtime: 4.65848 seconds\n",
      "2024/11/13 03:58:24 PM, INFO, mealpy.swarm_based.MPA.OriginalMPA: >>>Problem: P, Epoch: 44, Current best: 0.002190440420730444, Global best: 0.002190440420730444, Runtime: 4.58685 seconds\n"
     ]
    },
    {
     "name": "stderr",
     "output_type": "stream",
     "text": [
      "2024/11/13 03:58:29 PM, INFO, mealpy.swarm_based.MPA.OriginalMPA: >>>Problem: P, Epoch: 45, Current best: 0.002190440420730444, Global best: 0.002190440420730444, Runtime: 4.62364 seconds\n",
      "2024/11/13 03:58:34 PM, INFO, mealpy.swarm_based.MPA.OriginalMPA: >>>Problem: P, Epoch: 46, Current best: 0.0020418258231874376, Global best: 0.0020418258231874376, Runtime: 4.67244 seconds\n",
      "2024/11/13 03:58:38 PM, INFO, mealpy.swarm_based.MPA.OriginalMPA: >>>Problem: P, Epoch: 47, Current best: 0.0020418258231874376, Global best: 0.0020418258231874376, Runtime: 4.55872 seconds\n",
      "2024/11/13 03:58:43 PM, INFO, mealpy.swarm_based.MPA.OriginalMPA: >>>Problem: P, Epoch: 48, Current best: 0.0020418258231874376, Global best: 0.0020418258231874376, Runtime: 4.63192 seconds\n",
      "2024/11/13 03:58:47 PM, INFO, mealpy.swarm_based.MPA.OriginalMPA: >>>Problem: P, Epoch: 49, Current best: 0.0019829810063970665, Global best: 0.0019829810063970665, Runtime: 4.64889 seconds\n",
      "2024/11/13 03:58:52 PM, INFO, mealpy.swarm_based.MPA.OriginalMPA: >>>Problem: P, Epoch: 50, Current best: 0.0019744511425739296, Global best: 0.0019744511425739296, Runtime: 4.56389 seconds\n"
     ]
    },
    {
     "name": "stdout",
     "output_type": "stream",
     "text": [
      "Replica 11: Solution = [7.12351758e+01 7.95083342e-05 1.14611857e+00], Fitness = 0.0019744511425739296\n"
     ]
    },
    {
     "name": "stderr",
     "output_type": "stream",
     "text": [
      "2024/11/13 03:58:52 PM, INFO, mealpy.swarm_based.MPA.OriginalMPA: Solving single objective optimization problem.\n",
      "2024/11/13 03:59:01 PM, INFO, mealpy.swarm_based.MPA.OriginalMPA: >>>Problem: P, Epoch: 1, Current best: 1.1673015290404272, Global best: 1.1673015290404272, Runtime: 4.57339 seconds\n",
      "2024/11/13 03:59:06 PM, INFO, mealpy.swarm_based.MPA.OriginalMPA: >>>Problem: P, Epoch: 2, Current best: 0.8439809206755219, Global best: 0.8439809206755219, Runtime: 4.67265 seconds\n",
      "2024/11/13 03:59:11 PM, INFO, mealpy.swarm_based.MPA.OriginalMPA: >>>Problem: P, Epoch: 3, Current best: 0.17333648571615856, Global best: 0.17333648571615856, Runtime: 4.56564 seconds\n",
      "2024/11/13 03:59:15 PM, INFO, mealpy.swarm_based.MPA.OriginalMPA: >>>Problem: P, Epoch: 4, Current best: 0.1082390810640061, Global best: 0.1082390810640061, Runtime: 4.55558 seconds\n",
      "2024/11/13 03:59:20 PM, INFO, mealpy.swarm_based.MPA.OriginalMPA: >>>Problem: P, Epoch: 5, Current best: 0.06076248371906014, Global best: 0.06076248371906014, Runtime: 4.67442 seconds\n",
      "2024/11/13 03:59:24 PM, INFO, mealpy.swarm_based.MPA.OriginalMPA: >>>Problem: P, Epoch: 6, Current best: 0.04340592788937256, Global best: 0.04340592788937256, Runtime: 4.65946 seconds\n",
      "2024/11/13 03:59:29 PM, INFO, mealpy.swarm_based.MPA.OriginalMPA: >>>Problem: P, Epoch: 7, Current best: 0.015590871107583861, Global best: 0.015590871107583861, Runtime: 4.57982 seconds\n",
      "2024/11/13 03:59:34 PM, INFO, mealpy.swarm_based.MPA.OriginalMPA: >>>Problem: P, Epoch: 8, Current best: 0.015590871107583861, Global best: 0.015590871107583861, Runtime: 4.57643 seconds\n",
      "2024/11/13 03:59:38 PM, INFO, mealpy.swarm_based.MPA.OriginalMPA: >>>Problem: P, Epoch: 9, Current best: 0.015590871107583861, Global best: 0.015590871107583861, Runtime: 4.64455 seconds\n",
      "2024/11/13 03:59:43 PM, INFO, mealpy.swarm_based.MPA.OriginalMPA: >>>Problem: P, Epoch: 10, Current best: 0.015590871107583861, Global best: 0.015590871107583861, Runtime: 4.55403 seconds\n",
      "2024/11/13 03:59:47 PM, INFO, mealpy.swarm_based.MPA.OriginalMPA: >>>Problem: P, Epoch: 11, Current best: 0.015590871107583861, Global best: 0.015590871107583861, Runtime: 4.56682 seconds\n",
      "2024/11/13 03:59:52 PM, INFO, mealpy.swarm_based.MPA.OriginalMPA: >>>Problem: P, Epoch: 12, Current best: 0.009008513299033738, Global best: 0.009008513299033738, Runtime: 4.56935 seconds\n",
      "2024/11/13 03:59:57 PM, INFO, mealpy.swarm_based.MPA.OriginalMPA: >>>Problem: P, Epoch: 13, Current best: 0.009008513299033738, Global best: 0.009008513299033738, Runtime: 4.59849 seconds\n",
      "2024/11/13 04:00:01 PM, INFO, mealpy.swarm_based.MPA.OriginalMPA: >>>Problem: P, Epoch: 14, Current best: 0.009008513299033738, Global best: 0.009008513299033738, Runtime: 4.63526 seconds\n",
      "2024/11/13 04:00:06 PM, INFO, mealpy.swarm_based.MPA.OriginalMPA: >>>Problem: P, Epoch: 15, Current best: 0.009008513299033738, Global best: 0.009008513299033738, Runtime: 4.55486 seconds\n",
      "2024/11/13 04:00:10 PM, INFO, mealpy.swarm_based.MPA.OriginalMPA: >>>Problem: P, Epoch: 16, Current best: 0.009008513299033738, Global best: 0.009008513299033738, Runtime: 4.63447 seconds\n",
      "2024/11/13 04:00:15 PM, INFO, mealpy.swarm_based.MPA.OriginalMPA: >>>Problem: P, Epoch: 17, Current best: 0.00790369600443348, Global best: 0.00790369600443348, Runtime: 4.62059 seconds\n",
      "2024/11/13 04:00:20 PM, INFO, mealpy.swarm_based.MPA.OriginalMPA: >>>Problem: P, Epoch: 18, Current best: 0.00790369600443348, Global best: 0.00790369600443348, Runtime: 4.64789 seconds\n",
      "2024/11/13 04:00:24 PM, INFO, mealpy.swarm_based.MPA.OriginalMPA: >>>Problem: P, Epoch: 19, Current best: 0.00790369600443348, Global best: 0.00790369600443348, Runtime: 4.61894 seconds\n",
      "2024/11/13 04:00:29 PM, INFO, mealpy.swarm_based.MPA.OriginalMPA: >>>Problem: P, Epoch: 20, Current best: 0.00790369600443348, Global best: 0.00790369600443348, Runtime: 4.63175 seconds\n",
      "2024/11/13 04:00:34 PM, INFO, mealpy.swarm_based.MPA.OriginalMPA: >>>Problem: P, Epoch: 21, Current best: 0.00790369600443348, Global best: 0.00790369600443348, Runtime: 4.60196 seconds\n",
      "2024/11/13 04:00:38 PM, INFO, mealpy.swarm_based.MPA.OriginalMPA: >>>Problem: P, Epoch: 22, Current best: 0.00790369600443348, Global best: 0.00790369600443348, Runtime: 4.55330 seconds\n",
      "2024/11/13 04:00:43 PM, INFO, mealpy.swarm_based.MPA.OriginalMPA: >>>Problem: P, Epoch: 23, Current best: 0.00790369600443348, Global best: 0.00790369600443348, Runtime: 4.64055 seconds\n",
      "2024/11/13 04:00:47 PM, INFO, mealpy.swarm_based.MPA.OriginalMPA: >>>Problem: P, Epoch: 24, Current best: 0.00790369600443348, Global best: 0.00790369600443348, Runtime: 4.59733 seconds\n",
      "2024/11/13 04:00:52 PM, INFO, mealpy.swarm_based.MPA.OriginalMPA: >>>Problem: P, Epoch: 25, Current best: 0.00790369600443348, Global best: 0.00790369600443348, Runtime: 4.59580 seconds\n",
      "2024/11/13 04:00:56 PM, INFO, mealpy.swarm_based.MPA.OriginalMPA: >>>Problem: P, Epoch: 26, Current best: 0.004725897250853972, Global best: 0.004725897250853972, Runtime: 4.57944 seconds\n",
      "2024/11/13 04:01:01 PM, INFO, mealpy.swarm_based.MPA.OriginalMPA: >>>Problem: P, Epoch: 27, Current best: 0.004261565412425727, Global best: 0.004261565412425727, Runtime: 4.57084 seconds\n",
      "2024/11/13 04:01:06 PM, INFO, mealpy.swarm_based.MPA.OriginalMPA: >>>Problem: P, Epoch: 28, Current best: 0.002093906597217843, Global best: 0.002093906597217843, Runtime: 4.51011 seconds\n",
      "2024/11/13 04:01:10 PM, INFO, mealpy.swarm_based.MPA.OriginalMPA: >>>Problem: P, Epoch: 29, Current best: 0.002093906597217843, Global best: 0.002093906597217843, Runtime: 4.56618 seconds\n",
      "2024/11/13 04:01:15 PM, INFO, mealpy.swarm_based.MPA.OriginalMPA: >>>Problem: P, Epoch: 30, Current best: 0.002093906597217843, Global best: 0.002093906597217843, Runtime: 4.66457 seconds\n",
      "2024/11/13 04:01:19 PM, INFO, mealpy.swarm_based.MPA.OriginalMPA: >>>Problem: P, Epoch: 31, Current best: 0.002093906597217843, Global best: 0.002093906597217843, Runtime: 4.62024 seconds\n",
      "2024/11/13 04:01:24 PM, INFO, mealpy.swarm_based.MPA.OriginalMPA: >>>Problem: P, Epoch: 32, Current best: 0.002093906597217843, Global best: 0.002093906597217843, Runtime: 4.52635 seconds\n",
      "2024/11/13 04:01:29 PM, INFO, mealpy.swarm_based.MPA.OriginalMPA: >>>Problem: P, Epoch: 33, Current best: 0.002093906597217843, Global best: 0.002093906597217843, Runtime: 4.62436 seconds\n",
      "2024/11/13 04:01:33 PM, INFO, mealpy.swarm_based.MPA.OriginalMPA: >>>Problem: P, Epoch: 34, Current best: 0.002093906597217843, Global best: 0.002093906597217843, Runtime: 4.60424 seconds\n",
      "2024/11/13 04:01:38 PM, INFO, mealpy.swarm_based.MPA.OriginalMPA: >>>Problem: P, Epoch: 35, Current best: 0.002093906597217843, Global best: 0.002093906597217843, Runtime: 4.57339 seconds\n",
      "2024/11/13 04:01:42 PM, INFO, mealpy.swarm_based.MPA.OriginalMPA: >>>Problem: P, Epoch: 36, Current best: 0.002093906597217843, Global best: 0.002093906597217843, Runtime: 4.60213 seconds\n",
      "2024/11/13 04:01:47 PM, INFO, mealpy.swarm_based.MPA.OriginalMPA: >>>Problem: P, Epoch: 37, Current best: 0.002093906597217843, Global best: 0.002093906597217843, Runtime: 4.61666 seconds\n",
      "2024/11/13 04:01:52 PM, INFO, mealpy.swarm_based.MPA.OriginalMPA: >>>Problem: P, Epoch: 38, Current best: 0.002093906597217843, Global best: 0.002093906597217843, Runtime: 4.62590 seconds\n",
      "2024/11/13 04:01:56 PM, INFO, mealpy.swarm_based.MPA.OriginalMPA: >>>Problem: P, Epoch: 39, Current best: 0.002093906597217843, Global best: 0.002093906597217843, Runtime: 4.63924 seconds\n",
      "2024/11/13 04:02:01 PM, INFO, mealpy.swarm_based.MPA.OriginalMPA: >>>Problem: P, Epoch: 40, Current best: 0.002093906597217843, Global best: 0.002093906597217843, Runtime: 4.69336 seconds\n",
      "2024/11/13 04:02:06 PM, INFO, mealpy.swarm_based.MPA.OriginalMPA: >>>Problem: P, Epoch: 41, Current best: 0.002093906597217843, Global best: 0.002093906597217843, Runtime: 4.70290 seconds\n",
      "2024/11/13 04:02:10 PM, INFO, mealpy.swarm_based.MPA.OriginalMPA: >>>Problem: P, Epoch: 42, Current best: 0.002093906597217843, Global best: 0.002093906597217843, Runtime: 4.65097 seconds\n",
      "2024/11/13 04:02:15 PM, INFO, mealpy.swarm_based.MPA.OriginalMPA: >>>Problem: P, Epoch: 43, Current best: 0.002093906597217843, Global best: 0.002093906597217843, Runtime: 4.70743 seconds\n",
      "2024/11/13 04:02:20 PM, INFO, mealpy.swarm_based.MPA.OriginalMPA: >>>Problem: P, Epoch: 44, Current best: 0.002093906597217843, Global best: 0.002093906597217843, Runtime: 4.69535 seconds\n"
     ]
    },
    {
     "name": "stderr",
     "output_type": "stream",
     "text": [
      "2024/11/13 04:02:24 PM, INFO, mealpy.swarm_based.MPA.OriginalMPA: >>>Problem: P, Epoch: 45, Current best: 0.002036255072464033, Global best: 0.002036255072464033, Runtime: 4.64871 seconds\n",
      "2024/11/13 04:02:29 PM, INFO, mealpy.swarm_based.MPA.OriginalMPA: >>>Problem: P, Epoch: 46, Current best: 0.002036255072464033, Global best: 0.002036255072464033, Runtime: 4.64004 seconds\n",
      "2024/11/13 04:02:34 PM, INFO, mealpy.swarm_based.MPA.OriginalMPA: >>>Problem: P, Epoch: 47, Current best: 0.002036255072464033, Global best: 0.002036255072464033, Runtime: 4.68066 seconds\n",
      "2024/11/13 04:02:38 PM, INFO, mealpy.swarm_based.MPA.OriginalMPA: >>>Problem: P, Epoch: 48, Current best: 0.002036255072464033, Global best: 0.002036255072464033, Runtime: 4.62285 seconds\n",
      "2024/11/13 04:02:43 PM, INFO, mealpy.swarm_based.MPA.OriginalMPA: >>>Problem: P, Epoch: 49, Current best: 0.001931375218650966, Global best: 0.001931375218650966, Runtime: 4.60398 seconds\n",
      "2024/11/13 04:02:48 PM, INFO, mealpy.swarm_based.MPA.OriginalMPA: >>>Problem: P, Epoch: 50, Current best: 0.0019127950180662045, Global best: 0.0019127950180662045, Runtime: 4.65669 seconds\n"
     ]
    },
    {
     "name": "stdout",
     "output_type": "stream",
     "text": [
      "Replica 12: Solution = [7.07033899e+01 7.58709013e-05 1.14731414e+00], Fitness = 0.0019127950180662045\n"
     ]
    },
    {
     "name": "stderr",
     "output_type": "stream",
     "text": [
      "2024/11/13 04:02:48 PM, INFO, mealpy.swarm_based.MPA.OriginalMPA: Solving single objective optimization problem.\n",
      "2024/11/13 04:02:57 PM, INFO, mealpy.swarm_based.MPA.OriginalMPA: >>>Problem: P, Epoch: 1, Current best: 4.430591273568993, Global best: 4.430591273568993, Runtime: 4.53952 seconds\n",
      "2024/11/13 04:03:02 PM, INFO, mealpy.swarm_based.MPA.OriginalMPA: >>>Problem: P, Epoch: 2, Current best: 2.5470662034052904, Global best: 2.5470662034052904, Runtime: 4.57390 seconds\n",
      "2024/11/13 04:03:06 PM, INFO, mealpy.swarm_based.MPA.OriginalMPA: >>>Problem: P, Epoch: 3, Current best: 1.6932726715519568, Global best: 1.6932726715519568, Runtime: 4.69295 seconds\n",
      "2024/11/13 04:03:11 PM, INFO, mealpy.swarm_based.MPA.OriginalMPA: >>>Problem: P, Epoch: 4, Current best: 1.3956422087425575, Global best: 1.3956422087425575, Runtime: 4.63222 seconds\n",
      "2024/11/13 04:03:16 PM, INFO, mealpy.swarm_based.MPA.OriginalMPA: >>>Problem: P, Epoch: 5, Current best: 0.13444459367086578, Global best: 0.13444459367086578, Runtime: 4.64899 seconds\n",
      "2024/11/13 04:03:20 PM, INFO, mealpy.swarm_based.MPA.OriginalMPA: >>>Problem: P, Epoch: 6, Current best: 0.12166193367829703, Global best: 0.12166193367829703, Runtime: 4.70702 seconds\n",
      "2024/11/13 04:03:25 PM, INFO, mealpy.swarm_based.MPA.OriginalMPA: >>>Problem: P, Epoch: 7, Current best: 0.12166193367829703, Global best: 0.12166193367829703, Runtime: 4.66958 seconds\n",
      "2024/11/13 04:03:30 PM, INFO, mealpy.swarm_based.MPA.OriginalMPA: >>>Problem: P, Epoch: 8, Current best: 0.12166193367829703, Global best: 0.12166193367829703, Runtime: 4.69811 seconds\n",
      "2024/11/13 04:03:34 PM, INFO, mealpy.swarm_based.MPA.OriginalMPA: >>>Problem: P, Epoch: 9, Current best: 0.1122930577979499, Global best: 0.1122930577979499, Runtime: 4.67361 seconds\n",
      "2024/11/13 04:03:39 PM, INFO, mealpy.swarm_based.MPA.OriginalMPA: >>>Problem: P, Epoch: 10, Current best: 0.1122930577979499, Global best: 0.1122930577979499, Runtime: 4.69417 seconds\n",
      "2024/11/13 04:03:44 PM, INFO, mealpy.swarm_based.MPA.OriginalMPA: >>>Problem: P, Epoch: 11, Current best: 0.1122930577979499, Global best: 0.1122930577979499, Runtime: 4.70146 seconds\n",
      "2024/11/13 04:03:48 PM, INFO, mealpy.swarm_based.MPA.OriginalMPA: >>>Problem: P, Epoch: 12, Current best: 0.1122930577979499, Global best: 0.1122930577979499, Runtime: 4.64664 seconds\n",
      "2024/11/13 04:03:53 PM, INFO, mealpy.swarm_based.MPA.OriginalMPA: >>>Problem: P, Epoch: 13, Current best: 0.1122930577979499, Global best: 0.1122930577979499, Runtime: 4.65510 seconds\n",
      "2024/11/13 04:03:58 PM, INFO, mealpy.swarm_based.MPA.OriginalMPA: >>>Problem: P, Epoch: 14, Current best: 0.1122930577979499, Global best: 0.1122930577979499, Runtime: 4.68122 seconds\n",
      "2024/11/13 04:04:02 PM, INFO, mealpy.swarm_based.MPA.OriginalMPA: >>>Problem: P, Epoch: 15, Current best: 0.1122930577979499, Global best: 0.1122930577979499, Runtime: 4.66629 seconds\n",
      "2024/11/13 04:04:07 PM, INFO, mealpy.swarm_based.MPA.OriginalMPA: >>>Problem: P, Epoch: 16, Current best: 0.1122690081295247, Global best: 0.1122690081295247, Runtime: 4.69077 seconds\n",
      "2024/11/13 04:04:12 PM, INFO, mealpy.swarm_based.MPA.OriginalMPA: >>>Problem: P, Epoch: 17, Current best: 0.1122690081295247, Global best: 0.1122690081295247, Runtime: 4.69276 seconds\n",
      "2024/11/13 04:04:16 PM, INFO, mealpy.swarm_based.MPA.OriginalMPA: >>>Problem: P, Epoch: 18, Current best: 0.1122690081295247, Global best: 0.1122690081295247, Runtime: 4.66880 seconds\n",
      "2024/11/13 04:04:21 PM, INFO, mealpy.swarm_based.MPA.OriginalMPA: >>>Problem: P, Epoch: 19, Current best: 0.1122690081295247, Global best: 0.1122690081295247, Runtime: 4.68227 seconds\n",
      "2024/11/13 04:04:26 PM, INFO, mealpy.swarm_based.MPA.OriginalMPA: >>>Problem: P, Epoch: 20, Current best: 0.1122690081295247, Global best: 0.1122690081295247, Runtime: 4.71851 seconds\n",
      "2024/11/13 04:04:30 PM, INFO, mealpy.swarm_based.MPA.OriginalMPA: >>>Problem: P, Epoch: 21, Current best: 0.1122690081295247, Global best: 0.1122690081295247, Runtime: 4.70187 seconds\n",
      "2024/11/13 04:04:35 PM, INFO, mealpy.swarm_based.MPA.OriginalMPA: >>>Problem: P, Epoch: 22, Current best: 0.1122690081295247, Global best: 0.1122690081295247, Runtime: 4.64435 seconds\n",
      "2024/11/13 04:04:40 PM, INFO, mealpy.swarm_based.MPA.OriginalMPA: >>>Problem: P, Epoch: 23, Current best: 0.1122690081295247, Global best: 0.1122690081295247, Runtime: 4.69701 seconds\n",
      "2024/11/13 04:04:45 PM, INFO, mealpy.swarm_based.MPA.OriginalMPA: >>>Problem: P, Epoch: 24, Current best: 0.1122690081295247, Global best: 0.1122690081295247, Runtime: 4.67844 seconds\n",
      "2024/11/13 04:04:49 PM, INFO, mealpy.swarm_based.MPA.OriginalMPA: >>>Problem: P, Epoch: 25, Current best: 0.1122690081295247, Global best: 0.1122690081295247, Runtime: 4.69338 seconds\n",
      "2024/11/13 04:04:54 PM, INFO, mealpy.swarm_based.MPA.OriginalMPA: >>>Problem: P, Epoch: 26, Current best: 0.10943113428225043, Global best: 0.10943113428225043, Runtime: 4.68861 seconds\n",
      "2024/11/13 04:04:59 PM, INFO, mealpy.swarm_based.MPA.OriginalMPA: >>>Problem: P, Epoch: 27, Current best: 0.10943113428225043, Global best: 0.10943113428225043, Runtime: 4.69589 seconds\n",
      "2024/11/13 04:05:03 PM, INFO, mealpy.swarm_based.MPA.OriginalMPA: >>>Problem: P, Epoch: 28, Current best: 0.1087581433615135, Global best: 0.1087581433615135, Runtime: 4.62191 seconds\n",
      "2024/11/13 04:05:08 PM, INFO, mealpy.swarm_based.MPA.OriginalMPA: >>>Problem: P, Epoch: 29, Current best: 0.1087581433615135, Global best: 0.1087581433615135, Runtime: 4.68706 seconds\n",
      "2024/11/13 04:05:13 PM, INFO, mealpy.swarm_based.MPA.OriginalMPA: >>>Problem: P, Epoch: 30, Current best: 0.1087581433615135, Global best: 0.1087581433615135, Runtime: 4.68348 seconds\n",
      "2024/11/13 04:05:17 PM, INFO, mealpy.swarm_based.MPA.OriginalMPA: >>>Problem: P, Epoch: 31, Current best: 0.1087581433615135, Global best: 0.1087581433615135, Runtime: 4.59755 seconds\n",
      "2024/11/13 04:05:22 PM, INFO, mealpy.swarm_based.MPA.OriginalMPA: >>>Problem: P, Epoch: 32, Current best: 0.1087581433615135, Global best: 0.1087581433615135, Runtime: 4.57285 seconds\n",
      "2024/11/13 04:05:26 PM, INFO, mealpy.swarm_based.MPA.OriginalMPA: >>>Problem: P, Epoch: 33, Current best: 0.1087581433615135, Global best: 0.1087581433615135, Runtime: 4.61667 seconds\n",
      "2024/11/13 04:05:31 PM, INFO, mealpy.swarm_based.MPA.OriginalMPA: >>>Problem: P, Epoch: 34, Current best: 0.10646726015315372, Global best: 0.10646726015315372, Runtime: 4.68328 seconds\n",
      "2024/11/13 04:05:36 PM, INFO, mealpy.swarm_based.MPA.OriginalMPA: >>>Problem: P, Epoch: 35, Current best: 0.10646726015315372, Global best: 0.10646726015315372, Runtime: 4.63294 seconds\n",
      "2024/11/13 04:05:40 PM, INFO, mealpy.swarm_based.MPA.OriginalMPA: >>>Problem: P, Epoch: 36, Current best: 0.10377351209171282, Global best: 0.10377351209171282, Runtime: 4.69198 seconds\n",
      "2024/11/13 04:05:45 PM, INFO, mealpy.swarm_based.MPA.OriginalMPA: >>>Problem: P, Epoch: 37, Current best: 0.10377351209171282, Global best: 0.10377351209171282, Runtime: 4.85421 seconds\n",
      "2024/11/13 04:05:50 PM, INFO, mealpy.swarm_based.MPA.OriginalMPA: >>>Problem: P, Epoch: 38, Current best: 0.10231626745712022, Global best: 0.10231626745712022, Runtime: 4.63747 seconds\n",
      "2024/11/13 04:05:54 PM, INFO, mealpy.swarm_based.MPA.OriginalMPA: >>>Problem: P, Epoch: 39, Current best: 0.10231626745712022, Global best: 0.10231626745712022, Runtime: 4.56852 seconds\n",
      "2024/11/13 04:05:59 PM, INFO, mealpy.swarm_based.MPA.OriginalMPA: >>>Problem: P, Epoch: 40, Current best: 0.10231626745712022, Global best: 0.10231626745712022, Runtime: 4.62534 seconds\n",
      "2024/11/13 04:06:04 PM, INFO, mealpy.swarm_based.MPA.OriginalMPA: >>>Problem: P, Epoch: 41, Current best: 0.10231626745712022, Global best: 0.10231626745712022, Runtime: 4.70019 seconds\n",
      "2024/11/13 04:06:08 PM, INFO, mealpy.swarm_based.MPA.OriginalMPA: >>>Problem: P, Epoch: 42, Current best: 0.10142266944532158, Global best: 0.10142266944532158, Runtime: 4.69959 seconds\n",
      "2024/11/13 04:06:13 PM, INFO, mealpy.swarm_based.MPA.OriginalMPA: >>>Problem: P, Epoch: 43, Current best: 0.10142266944532158, Global best: 0.10142266944532158, Runtime: 4.70627 seconds\n",
      "2024/11/13 04:06:18 PM, INFO, mealpy.swarm_based.MPA.OriginalMPA: >>>Problem: P, Epoch: 44, Current best: 0.1012841450243005, Global best: 0.1012841450243005, Runtime: 4.70036 seconds\n"
     ]
    },
    {
     "name": "stderr",
     "output_type": "stream",
     "text": [
      "2024/11/13 04:06:23 PM, INFO, mealpy.swarm_based.MPA.OriginalMPA: >>>Problem: P, Epoch: 45, Current best: 0.10026247270576429, Global best: 0.10026247270576429, Runtime: 4.63353 seconds\n",
      "2024/11/13 04:06:27 PM, INFO, mealpy.swarm_based.MPA.OriginalMPA: >>>Problem: P, Epoch: 46, Current best: 0.10015522538082194, Global best: 0.10015522538082194, Runtime: 4.71049 seconds\n",
      "2024/11/13 04:06:32 PM, INFO, mealpy.swarm_based.MPA.OriginalMPA: >>>Problem: P, Epoch: 47, Current best: 0.09981158669819418, Global best: 0.09981158669819418, Runtime: 4.73790 seconds\n",
      "2024/11/13 04:06:37 PM, INFO, mealpy.swarm_based.MPA.OriginalMPA: >>>Problem: P, Epoch: 48, Current best: 0.09937030551114241, Global best: 0.09937030551114241, Runtime: 4.67777 seconds\n",
      "2024/11/13 04:06:41 PM, INFO, mealpy.swarm_based.MPA.OriginalMPA: >>>Problem: P, Epoch: 49, Current best: 0.09930692167847743, Global best: 0.09930692167847743, Runtime: 4.70998 seconds\n",
      "2024/11/13 04:06:46 PM, INFO, mealpy.swarm_based.MPA.OriginalMPA: >>>Problem: P, Epoch: 50, Current best: 0.09890805655210459, Global best: 0.09890805655210459, Runtime: 4.67577 seconds\n"
     ]
    },
    {
     "name": "stdout",
     "output_type": "stream",
     "text": [
      "Replica 13: Solution = [2.20123291e+01 1.11794298e-10 9.31309839e-01], Fitness = 0.09890805655210459\n"
     ]
    },
    {
     "name": "stderr",
     "output_type": "stream",
     "text": [
      "2024/11/13 04:06:46 PM, INFO, mealpy.swarm_based.MPA.OriginalMPA: Solving single objective optimization problem.\n",
      "2024/11/13 04:06:56 PM, INFO, mealpy.swarm_based.MPA.OriginalMPA: >>>Problem: P, Epoch: 1, Current best: 2.090869056855422, Global best: 2.090869056855422, Runtime: 4.68855 seconds\n",
      "2024/11/13 04:07:00 PM, INFO, mealpy.swarm_based.MPA.OriginalMPA: >>>Problem: P, Epoch: 2, Current best: 1.3083516112053837, Global best: 1.3083516112053837, Runtime: 4.64701 seconds\n",
      "2024/11/13 04:07:05 PM, INFO, mealpy.swarm_based.MPA.OriginalMPA: >>>Problem: P, Epoch: 3, Current best: 0.9538342076503301, Global best: 0.9538342076503301, Runtime: 4.64629 seconds\n",
      "2024/11/13 04:07:10 PM, INFO, mealpy.swarm_based.MPA.OriginalMPA: >>>Problem: P, Epoch: 4, Current best: 0.7745351612001258, Global best: 0.7745351612001258, Runtime: 4.60908 seconds\n",
      "2024/11/13 04:07:14 PM, INFO, mealpy.swarm_based.MPA.OriginalMPA: >>>Problem: P, Epoch: 5, Current best: 0.22582870459390592, Global best: 0.22582870459390592, Runtime: 4.61201 seconds\n",
      "2024/11/13 04:07:19 PM, INFO, mealpy.swarm_based.MPA.OriginalMPA: >>>Problem: P, Epoch: 6, Current best: 0.07131514033830937, Global best: 0.07131514033830937, Runtime: 4.71257 seconds\n",
      "2024/11/13 04:07:24 PM, INFO, mealpy.swarm_based.MPA.OriginalMPA: >>>Problem: P, Epoch: 7, Current best: 0.04504936673435697, Global best: 0.04504936673435697, Runtime: 4.72142 seconds\n",
      "2024/11/13 04:07:28 PM, INFO, mealpy.swarm_based.MPA.OriginalMPA: >>>Problem: P, Epoch: 8, Current best: 0.04504936673435697, Global best: 0.04504936673435697, Runtime: 4.68964 seconds\n",
      "2024/11/13 04:07:33 PM, INFO, mealpy.swarm_based.MPA.OriginalMPA: >>>Problem: P, Epoch: 9, Current best: 0.04504936673435697, Global best: 0.04504936673435697, Runtime: 4.67356 seconds\n",
      "2024/11/13 04:07:38 PM, INFO, mealpy.swarm_based.MPA.OriginalMPA: >>>Problem: P, Epoch: 10, Current best: 0.01040817515835468, Global best: 0.01040817515835468, Runtime: 4.76990 seconds\n",
      "2024/11/13 04:07:42 PM, INFO, mealpy.swarm_based.MPA.OriginalMPA: >>>Problem: P, Epoch: 11, Current best: 0.01040817515835468, Global best: 0.01040817515835468, Runtime: 4.71755 seconds\n",
      "2024/11/13 04:07:47 PM, INFO, mealpy.swarm_based.MPA.OriginalMPA: >>>Problem: P, Epoch: 12, Current best: 0.01040817515835468, Global best: 0.01040817515835468, Runtime: 4.68639 seconds\n",
      "2024/11/13 04:07:52 PM, INFO, mealpy.swarm_based.MPA.OriginalMPA: >>>Problem: P, Epoch: 13, Current best: 0.009412177576715041, Global best: 0.009412177576715041, Runtime: 4.68741 seconds\n",
      "2024/11/13 04:07:57 PM, INFO, mealpy.swarm_based.MPA.OriginalMPA: >>>Problem: P, Epoch: 14, Current best: 0.009412177576715041, Global best: 0.009412177576715041, Runtime: 4.70335 seconds\n",
      "2024/11/13 04:08:01 PM, INFO, mealpy.swarm_based.MPA.OriginalMPA: >>>Problem: P, Epoch: 15, Current best: 0.0072595818107916935, Global best: 0.0072595818107916935, Runtime: 4.69859 seconds\n",
      "2024/11/13 04:08:06 PM, INFO, mealpy.swarm_based.MPA.OriginalMPA: >>>Problem: P, Epoch: 16, Current best: 0.0072595818107916935, Global best: 0.0072595818107916935, Runtime: 4.69321 seconds\n",
      "2024/11/13 04:08:11 PM, INFO, mealpy.swarm_based.MPA.OriginalMPA: >>>Problem: P, Epoch: 17, Current best: 0.006646912365741952, Global best: 0.006646912365741952, Runtime: 4.70039 seconds\n",
      "2024/11/13 04:08:15 PM, INFO, mealpy.swarm_based.MPA.OriginalMPA: >>>Problem: P, Epoch: 18, Current best: 0.006646912365741952, Global best: 0.006646912365741952, Runtime: 4.63936 seconds\n",
      "2024/11/13 04:08:20 PM, INFO, mealpy.swarm_based.MPA.OriginalMPA: >>>Problem: P, Epoch: 19, Current best: 0.006646912365741952, Global best: 0.006646912365741952, Runtime: 4.66322 seconds\n",
      "2024/11/13 04:08:25 PM, INFO, mealpy.swarm_based.MPA.OriginalMPA: >>>Problem: P, Epoch: 20, Current best: 0.006646912365741952, Global best: 0.006646912365741952, Runtime: 4.71226 seconds\n",
      "2024/11/13 04:08:29 PM, INFO, mealpy.swarm_based.MPA.OriginalMPA: >>>Problem: P, Epoch: 21, Current best: 0.006646912365741952, Global best: 0.006646912365741952, Runtime: 4.71013 seconds\n",
      "2024/11/13 04:08:34 PM, INFO, mealpy.swarm_based.MPA.OriginalMPA: >>>Problem: P, Epoch: 22, Current best: 0.006646912365741952, Global best: 0.006646912365741952, Runtime: 4.70373 seconds\n",
      "2024/11/13 04:08:39 PM, INFO, mealpy.swarm_based.MPA.OriginalMPA: >>>Problem: P, Epoch: 23, Current best: 0.006646912365741952, Global best: 0.006646912365741952, Runtime: 4.74794 seconds\n",
      "2024/11/13 04:08:44 PM, INFO, mealpy.swarm_based.MPA.OriginalMPA: >>>Problem: P, Epoch: 24, Current best: 0.005107619575720701, Global best: 0.005107619575720701, Runtime: 4.72261 seconds\n",
      "2024/11/13 04:08:48 PM, INFO, mealpy.swarm_based.MPA.OriginalMPA: >>>Problem: P, Epoch: 25, Current best: 0.005107619575720701, Global best: 0.005107619575720701, Runtime: 4.69543 seconds\n",
      "2024/11/13 04:08:53 PM, INFO, mealpy.swarm_based.MPA.OriginalMPA: >>>Problem: P, Epoch: 26, Current best: 0.005107619575720701, Global best: 0.005107619575720701, Runtime: 4.69245 seconds\n",
      "2024/11/13 04:08:58 PM, INFO, mealpy.swarm_based.MPA.OriginalMPA: >>>Problem: P, Epoch: 27, Current best: 0.005107619575720701, Global best: 0.005107619575720701, Runtime: 4.74524 seconds\n",
      "2024/11/13 04:09:02 PM, INFO, mealpy.swarm_based.MPA.OriginalMPA: >>>Problem: P, Epoch: 28, Current best: 0.005107619575720701, Global best: 0.005107619575720701, Runtime: 4.68742 seconds\n",
      "2024/11/13 04:09:07 PM, INFO, mealpy.swarm_based.MPA.OriginalMPA: >>>Problem: P, Epoch: 29, Current best: 0.004929553291148836, Global best: 0.004929553291148836, Runtime: 4.68650 seconds\n",
      "2024/11/13 04:09:12 PM, INFO, mealpy.swarm_based.MPA.OriginalMPA: >>>Problem: P, Epoch: 30, Current best: 0.004929553291148836, Global best: 0.004929553291148836, Runtime: 4.70592 seconds\n",
      "2024/11/13 04:09:17 PM, INFO, mealpy.swarm_based.MPA.OriginalMPA: >>>Problem: P, Epoch: 31, Current best: 0.0014260162129354546, Global best: 0.0014260162129354546, Runtime: 4.72160 seconds\n",
      "2024/11/13 04:09:21 PM, INFO, mealpy.swarm_based.MPA.OriginalMPA: >>>Problem: P, Epoch: 32, Current best: 0.0014260162129354546, Global best: 0.0014260162129354546, Runtime: 4.73386 seconds\n",
      "2024/11/13 04:09:26 PM, INFO, mealpy.swarm_based.MPA.OriginalMPA: >>>Problem: P, Epoch: 33, Current best: 0.0014260162129354546, Global best: 0.0014260162129354546, Runtime: 4.70866 seconds\n",
      "2024/11/13 04:09:31 PM, INFO, mealpy.swarm_based.MPA.OriginalMPA: >>>Problem: P, Epoch: 34, Current best: 0.0014260162129354546, Global best: 0.0014260162129354546, Runtime: 4.76607 seconds\n",
      "2024/11/13 04:09:35 PM, INFO, mealpy.swarm_based.MPA.OriginalMPA: >>>Problem: P, Epoch: 35, Current best: 0.0014260162129354546, Global best: 0.0014260162129354546, Runtime: 4.71814 seconds\n",
      "2024/11/13 04:09:40 PM, INFO, mealpy.swarm_based.MPA.OriginalMPA: >>>Problem: P, Epoch: 36, Current best: 0.0014260162129354546, Global best: 0.0014260162129354546, Runtime: 4.72140 seconds\n",
      "2024/11/13 04:09:45 PM, INFO, mealpy.swarm_based.MPA.OriginalMPA: >>>Problem: P, Epoch: 37, Current best: 0.0014260162129354546, Global best: 0.0014260162129354546, Runtime: 4.72138 seconds\n",
      "2024/11/13 04:09:50 PM, INFO, mealpy.swarm_based.MPA.OriginalMPA: >>>Problem: P, Epoch: 38, Current best: 0.0014260162129354546, Global best: 0.0014260162129354546, Runtime: 4.72882 seconds\n",
      "2024/11/13 04:09:54 PM, INFO, mealpy.swarm_based.MPA.OriginalMPA: >>>Problem: P, Epoch: 39, Current best: 0.0004970022593805412, Global best: 0.0004970022593805412, Runtime: 4.73082 seconds\n",
      "2024/11/13 04:09:59 PM, INFO, mealpy.swarm_based.MPA.OriginalMPA: >>>Problem: P, Epoch: 40, Current best: 0.0004970022593805412, Global best: 0.0004970022593805412, Runtime: 4.73039 seconds\n",
      "2024/11/13 04:10:04 PM, INFO, mealpy.swarm_based.MPA.OriginalMPA: >>>Problem: P, Epoch: 41, Current best: 0.0004970022593805412, Global best: 0.0004970022593805412, Runtime: 4.72445 seconds\n",
      "2024/11/13 04:10:09 PM, INFO, mealpy.swarm_based.MPA.OriginalMPA: >>>Problem: P, Epoch: 42, Current best: 0.0004970022593805412, Global best: 0.0004970022593805412, Runtime: 4.71036 seconds\n",
      "2024/11/13 04:10:13 PM, INFO, mealpy.swarm_based.MPA.OriginalMPA: >>>Problem: P, Epoch: 43, Current best: 0.0004970022593805412, Global best: 0.0004970022593805412, Runtime: 4.73403 seconds\n",
      "2024/11/13 04:10:18 PM, INFO, mealpy.swarm_based.MPA.OriginalMPA: >>>Problem: P, Epoch: 44, Current best: 0.0004970022593805412, Global best: 0.0004970022593805412, Runtime: 4.77623 seconds\n"
     ]
    },
    {
     "name": "stderr",
     "output_type": "stream",
     "text": [
      "2024/11/13 04:10:23 PM, INFO, mealpy.swarm_based.MPA.OriginalMPA: >>>Problem: P, Epoch: 45, Current best: 0.00048619917223937655, Global best: 0.00048619917223937655, Runtime: 4.75523 seconds\n",
      "2024/11/13 04:10:27 PM, INFO, mealpy.swarm_based.MPA.OriginalMPA: >>>Problem: P, Epoch: 46, Current best: 0.00048619917223937655, Global best: 0.00048619917223937655, Runtime: 4.69264 seconds\n",
      "2024/11/13 04:10:32 PM, INFO, mealpy.swarm_based.MPA.OriginalMPA: >>>Problem: P, Epoch: 47, Current best: 0.00048619917223937655, Global best: 0.00048619917223937655, Runtime: 4.71657 seconds\n",
      "2024/11/13 04:10:37 PM, INFO, mealpy.swarm_based.MPA.OriginalMPA: >>>Problem: P, Epoch: 48, Current best: 0.0004354963222393815, Global best: 0.0004354963222393815, Runtime: 4.71867 seconds\n",
      "2024/11/13 04:10:42 PM, INFO, mealpy.swarm_based.MPA.OriginalMPA: >>>Problem: P, Epoch: 49, Current best: 0.0004354963222393815, Global best: 0.0004354963222393815, Runtime: 4.73265 seconds\n",
      "2024/11/13 04:10:46 PM, INFO, mealpy.swarm_based.MPA.OriginalMPA: >>>Problem: P, Epoch: 50, Current best: 0.0004354963222393815, Global best: 0.0004354963222393815, Runtime: 4.72754 seconds\n"
     ]
    },
    {
     "name": "stdout",
     "output_type": "stream",
     "text": [
      "Replica 14: Solution = [5.16422462e+01 4.43802718e-07 1.19778224e+00], Fitness = 0.0004354963222393815\n"
     ]
    },
    {
     "name": "stderr",
     "output_type": "stream",
     "text": [
      "2024/11/13 04:10:47 PM, INFO, mealpy.swarm_based.MPA.OriginalMPA: Solving single objective optimization problem.\n",
      "2024/11/13 04:10:56 PM, INFO, mealpy.swarm_based.MPA.OriginalMPA: >>>Problem: P, Epoch: 1, Current best: 10.46734672646713, Global best: 10.46734672646713, Runtime: 4.72587 seconds\n",
      "2024/11/13 04:11:01 PM, INFO, mealpy.swarm_based.MPA.OriginalMPA: >>>Problem: P, Epoch: 2, Current best: 10.463355895990302, Global best: 10.463355895990302, Runtime: 4.74803 seconds\n",
      "2024/11/13 04:11:06 PM, INFO, mealpy.swarm_based.MPA.OriginalMPA: >>>Problem: P, Epoch: 3, Current best: 9.903680743661866, Global best: 9.903680743661866, Runtime: 4.75326 seconds\n",
      "2024/11/13 04:11:10 PM, INFO, mealpy.swarm_based.MPA.OriginalMPA: >>>Problem: P, Epoch: 4, Current best: 9.88761275318634, Global best: 9.88761275318634, Runtime: 4.73425 seconds\n",
      "2024/11/13 04:11:15 PM, INFO, mealpy.swarm_based.MPA.OriginalMPA: >>>Problem: P, Epoch: 5, Current best: 9.803005024410098, Global best: 9.803005024410098, Runtime: 4.71832 seconds\n",
      "2024/11/13 04:11:20 PM, INFO, mealpy.swarm_based.MPA.OriginalMPA: >>>Problem: P, Epoch: 6, Current best: 9.7834380462601, Global best: 9.7834380462601, Runtime: 4.75456 seconds\n",
      "2024/11/13 04:11:25 PM, INFO, mealpy.swarm_based.MPA.OriginalMPA: >>>Problem: P, Epoch: 7, Current best: 9.782724959833859, Global best: 9.782724959833859, Runtime: 4.72587 seconds\n",
      "2024/11/13 04:11:29 PM, INFO, mealpy.swarm_based.MPA.OriginalMPA: >>>Problem: P, Epoch: 8, Current best: 9.762843092057816, Global best: 9.762843092057816, Runtime: 4.70243 seconds\n",
      "2024/11/13 04:11:34 PM, INFO, mealpy.swarm_based.MPA.OriginalMPA: >>>Problem: P, Epoch: 9, Current best: 9.761313972128496, Global best: 9.761313972128496, Runtime: 4.71178 seconds\n",
      "2024/11/13 04:11:39 PM, INFO, mealpy.swarm_based.MPA.OriginalMPA: >>>Problem: P, Epoch: 10, Current best: 9.761313972128496, Global best: 9.761313972128496, Runtime: 4.73595 seconds\n",
      "2024/11/13 04:11:43 PM, INFO, mealpy.swarm_based.MPA.OriginalMPA: >>>Problem: P, Epoch: 11, Current best: 9.761313972128496, Global best: 9.761313972128496, Runtime: 4.69617 seconds\n",
      "2024/11/13 04:11:48 PM, INFO, mealpy.swarm_based.MPA.OriginalMPA: >>>Problem: P, Epoch: 12, Current best: 9.761313972128496, Global best: 9.761313972128496, Runtime: 4.70270 seconds\n",
      "2024/11/13 04:11:53 PM, INFO, mealpy.swarm_based.MPA.OriginalMPA: >>>Problem: P, Epoch: 13, Current best: 9.761313972128496, Global best: 9.761313972128496, Runtime: 4.73431 seconds\n",
      "2024/11/13 04:11:58 PM, INFO, mealpy.swarm_based.MPA.OriginalMPA: >>>Problem: P, Epoch: 14, Current best: 9.761313972128496, Global best: 9.761313972128496, Runtime: 4.72024 seconds\n",
      "2024/11/13 04:12:02 PM, INFO, mealpy.swarm_based.MPA.OriginalMPA: >>>Problem: P, Epoch: 15, Current best: 9.761313972128496, Global best: 9.761313972128496, Runtime: 4.68702 seconds\n",
      "2024/11/13 04:12:07 PM, INFO, mealpy.swarm_based.MPA.OriginalMPA: >>>Problem: P, Epoch: 16, Current best: 9.760346889686279, Global best: 9.760346889686279, Runtime: 4.68996 seconds\n",
      "2024/11/13 04:12:12 PM, INFO, mealpy.swarm_based.MPA.OriginalMPA: >>>Problem: P, Epoch: 17, Current best: 9.760346889686279, Global best: 9.760346889686279, Runtime: 4.72477 seconds\n",
      "2024/11/13 04:12:16 PM, INFO, mealpy.swarm_based.MPA.OriginalMPA: >>>Problem: P, Epoch: 18, Current best: 9.760346889686279, Global best: 9.760346889686279, Runtime: 4.67536 seconds\n",
      "2024/11/13 04:12:21 PM, INFO, mealpy.swarm_based.MPA.OriginalMPA: >>>Problem: P, Epoch: 19, Current best: 9.760346889686279, Global best: 9.760346889686279, Runtime: 4.76413 seconds\n",
      "2024/11/13 04:12:26 PM, INFO, mealpy.swarm_based.MPA.OriginalMPA: >>>Problem: P, Epoch: 20, Current best: 9.760346889686279, Global best: 9.760346889686279, Runtime: 4.76493 seconds\n",
      "2024/11/13 04:12:31 PM, INFO, mealpy.swarm_based.MPA.OriginalMPA: >>>Problem: P, Epoch: 21, Current best: 9.760346889686279, Global best: 9.760346889686279, Runtime: 4.74779 seconds\n",
      "2024/11/13 04:12:35 PM, INFO, mealpy.swarm_based.MPA.OriginalMPA: >>>Problem: P, Epoch: 22, Current best: 9.760346889686279, Global best: 9.760346889686279, Runtime: 4.74196 seconds\n",
      "2024/11/13 04:12:40 PM, INFO, mealpy.swarm_based.MPA.OriginalMPA: >>>Problem: P, Epoch: 23, Current best: 9.760346889686279, Global best: 9.760346889686279, Runtime: 4.74045 seconds\n",
      "2024/11/13 04:12:45 PM, INFO, mealpy.swarm_based.MPA.OriginalMPA: >>>Problem: P, Epoch: 24, Current best: 9.760346889686279, Global best: 9.760346889686279, Runtime: 4.75846 seconds\n",
      "2024/11/13 04:12:50 PM, INFO, mealpy.swarm_based.MPA.OriginalMPA: >>>Problem: P, Epoch: 25, Current best: 9.760346889686279, Global best: 9.760346889686279, Runtime: 4.75116 seconds\n",
      "2024/11/13 04:12:54 PM, INFO, mealpy.swarm_based.MPA.OriginalMPA: >>>Problem: P, Epoch: 26, Current best: 9.760346889686279, Global best: 9.760346889686279, Runtime: 4.74694 seconds\n",
      "2024/11/13 04:12:59 PM, INFO, mealpy.swarm_based.MPA.OriginalMPA: >>>Problem: P, Epoch: 27, Current best: 9.760346889686279, Global best: 9.760346889686279, Runtime: 4.76698 seconds\n",
      "2024/11/13 04:13:04 PM, INFO, mealpy.swarm_based.MPA.OriginalMPA: >>>Problem: P, Epoch: 28, Current best: 9.760346889686279, Global best: 9.760346889686279, Runtime: 4.75856 seconds\n",
      "2024/11/13 04:13:09 PM, INFO, mealpy.swarm_based.MPA.OriginalMPA: >>>Problem: P, Epoch: 29, Current best: 9.760346889686279, Global best: 9.760346889686279, Runtime: 4.74386 seconds\n",
      "2024/11/13 04:13:13 PM, INFO, mealpy.swarm_based.MPA.OriginalMPA: >>>Problem: P, Epoch: 30, Current best: 9.760346889686279, Global best: 9.760346889686279, Runtime: 4.75537 seconds\n",
      "2024/11/13 04:13:18 PM, INFO, mealpy.swarm_based.MPA.OriginalMPA: >>>Problem: P, Epoch: 31, Current best: 9.760346889686279, Global best: 9.760346889686279, Runtime: 4.70222 seconds\n",
      "2024/11/13 04:13:23 PM, INFO, mealpy.swarm_based.MPA.OriginalMPA: >>>Problem: P, Epoch: 32, Current best: 9.760346889686279, Global best: 9.760346889686279, Runtime: 4.73567 seconds\n",
      "2024/11/13 04:13:28 PM, INFO, mealpy.swarm_based.MPA.OriginalMPA: >>>Problem: P, Epoch: 33, Current best: 9.760346889686279, Global best: 9.760346889686279, Runtime: 4.72604 seconds\n",
      "2024/11/13 04:13:32 PM, INFO, mealpy.swarm_based.MPA.OriginalMPA: >>>Problem: P, Epoch: 34, Current best: 9.760346889686279, Global best: 9.760346889686279, Runtime: 4.76547 seconds\n",
      "2024/11/13 04:13:37 PM, INFO, mealpy.swarm_based.MPA.OriginalMPA: >>>Problem: P, Epoch: 35, Current best: 9.759858473732754, Global best: 9.759858473732754, Runtime: 4.72145 seconds\n",
      "2024/11/13 04:13:42 PM, INFO, mealpy.swarm_based.MPA.OriginalMPA: >>>Problem: P, Epoch: 36, Current best: 9.759858473732754, Global best: 9.759858473732754, Runtime: 4.76201 seconds\n",
      "2024/11/13 04:13:47 PM, INFO, mealpy.swarm_based.MPA.OriginalMPA: >>>Problem: P, Epoch: 37, Current best: 9.759858473732754, Global best: 9.759858473732754, Runtime: 4.79259 seconds\n",
      "2024/11/13 04:13:51 PM, INFO, mealpy.swarm_based.MPA.OriginalMPA: >>>Problem: P, Epoch: 38, Current best: 9.758637498753387, Global best: 9.758637498753387, Runtime: 4.75862 seconds\n",
      "2024/11/13 04:13:56 PM, INFO, mealpy.swarm_based.MPA.OriginalMPA: >>>Problem: P, Epoch: 39, Current best: 9.756243035436524, Global best: 9.756243035436524, Runtime: 4.73188 seconds\n",
      "2024/11/13 04:14:01 PM, INFO, mealpy.swarm_based.MPA.OriginalMPA: >>>Problem: P, Epoch: 40, Current best: 9.755659031832883, Global best: 9.755659031832883, Runtime: 4.75509 seconds\n",
      "2024/11/13 04:14:06 PM, INFO, mealpy.swarm_based.MPA.OriginalMPA: >>>Problem: P, Epoch: 41, Current best: 9.755659031832883, Global best: 9.755659031832883, Runtime: 4.74474 seconds\n",
      "2024/11/13 04:14:10 PM, INFO, mealpy.swarm_based.MPA.OriginalMPA: >>>Problem: P, Epoch: 42, Current best: 9.755659031832883, Global best: 9.755659031832883, Runtime: 4.73487 seconds\n",
      "2024/11/13 04:14:15 PM, INFO, mealpy.swarm_based.MPA.OriginalMPA: >>>Problem: P, Epoch: 43, Current best: 9.755293200046529, Global best: 9.755293200046529, Runtime: 4.76002 seconds\n",
      "2024/11/13 04:14:20 PM, INFO, mealpy.swarm_based.MPA.OriginalMPA: >>>Problem: P, Epoch: 44, Current best: 9.753441452982734, Global best: 9.753441452982734, Runtime: 4.77275 seconds\n",
      "2024/11/13 04:14:25 PM, INFO, mealpy.swarm_based.MPA.OriginalMPA: >>>Problem: P, Epoch: 45, Current best: 9.753441452982734, Global best: 9.753441452982734, Runtime: 4.71554 seconds\n"
     ]
    },
    {
     "name": "stderr",
     "output_type": "stream",
     "text": [
      "2024/11/13 04:14:29 PM, INFO, mealpy.swarm_based.MPA.OriginalMPA: >>>Problem: P, Epoch: 46, Current best: 9.751744626770137, Global best: 9.751744626770137, Runtime: 4.72635 seconds\n",
      "2024/11/13 04:14:34 PM, INFO, mealpy.swarm_based.MPA.OriginalMPA: >>>Problem: P, Epoch: 47, Current best: 9.751744626770137, Global best: 9.751744626770137, Runtime: 4.82031 seconds\n",
      "2024/11/13 04:14:39 PM, INFO, mealpy.swarm_based.MPA.OriginalMPA: >>>Problem: P, Epoch: 48, Current best: 9.75169712543762, Global best: 9.75169712543762, Runtime: 4.76841 seconds\n",
      "2024/11/13 04:14:44 PM, INFO, mealpy.swarm_based.MPA.OriginalMPA: >>>Problem: P, Epoch: 49, Current best: 9.751300400534076, Global best: 9.751300400534076, Runtime: 4.76381 seconds\n",
      "2024/11/13 04:14:48 PM, INFO, mealpy.swarm_based.MPA.OriginalMPA: >>>Problem: P, Epoch: 50, Current best: 9.751117675659344, Global best: 9.751117675659344, Runtime: 4.77885 seconds\n"
     ]
    },
    {
     "name": "stdout",
     "output_type": "stream",
     "text": [
      "Replica 15: Solution = [74.10688574  0.07416165  0.38377805], Fitness = 9.751117675659344\n"
     ]
    },
    {
     "name": "stderr",
     "output_type": "stream",
     "text": [
      "2024/11/13 04:14:49 PM, INFO, mealpy.swarm_based.MPA.OriginalMPA: Solving single objective optimization problem.\n",
      "2024/11/13 04:14:58 PM, INFO, mealpy.swarm_based.MPA.OriginalMPA: >>>Problem: P, Epoch: 1, Current best: 10.155039144729123, Global best: 10.155039144729123, Runtime: 4.77709 seconds\n",
      "2024/11/13 04:15:03 PM, INFO, mealpy.swarm_based.MPA.OriginalMPA: >>>Problem: P, Epoch: 2, Current best: 1.0456467045767643, Global best: 1.0456467045767643, Runtime: 4.72102 seconds\n",
      "2024/11/13 04:15:08 PM, INFO, mealpy.swarm_based.MPA.OriginalMPA: >>>Problem: P, Epoch: 3, Current best: 0.8996623060768585, Global best: 0.8996623060768585, Runtime: 4.73788 seconds\n",
      "2024/11/13 04:15:12 PM, INFO, mealpy.swarm_based.MPA.OriginalMPA: >>>Problem: P, Epoch: 4, Current best: 0.7558105858941233, Global best: 0.7558105858941233, Runtime: 4.75079 seconds\n",
      "2024/11/13 04:15:17 PM, INFO, mealpy.swarm_based.MPA.OriginalMPA: >>>Problem: P, Epoch: 5, Current best: 0.12960538867696417, Global best: 0.12960538867696417, Runtime: 4.77123 seconds\n",
      "2024/11/13 04:15:22 PM, INFO, mealpy.swarm_based.MPA.OriginalMPA: >>>Problem: P, Epoch: 6, Current best: 0.05734490628011153, Global best: 0.05734490628011153, Runtime: 4.80705 seconds\n",
      "2024/11/13 04:15:27 PM, INFO, mealpy.swarm_based.MPA.OriginalMPA: >>>Problem: P, Epoch: 7, Current best: 0.05734490628011153, Global best: 0.05734490628011153, Runtime: 4.76638 seconds\n",
      "2024/11/13 04:15:32 PM, INFO, mealpy.swarm_based.MPA.OriginalMPA: >>>Problem: P, Epoch: 8, Current best: 0.05734490628011153, Global best: 0.05734490628011153, Runtime: 4.76259 seconds\n",
      "2024/11/13 04:15:36 PM, INFO, mealpy.swarm_based.MPA.OriginalMPA: >>>Problem: P, Epoch: 9, Current best: 0.038649285075615644, Global best: 0.038649285075615644, Runtime: 4.77412 seconds\n",
      "2024/11/13 04:15:41 PM, INFO, mealpy.swarm_based.MPA.OriginalMPA: >>>Problem: P, Epoch: 10, Current best: 0.038649285075615644, Global best: 0.038649285075615644, Runtime: 4.77276 seconds\n",
      "2024/11/13 04:15:46 PM, INFO, mealpy.swarm_based.MPA.OriginalMPA: >>>Problem: P, Epoch: 11, Current best: 0.038649285075615644, Global best: 0.038649285075615644, Runtime: 4.74668 seconds\n",
      "2024/11/13 04:15:51 PM, INFO, mealpy.swarm_based.MPA.OriginalMPA: >>>Problem: P, Epoch: 12, Current best: 0.038649285075615644, Global best: 0.038649285075615644, Runtime: 4.75825 seconds\n",
      "2024/11/13 04:15:55 PM, INFO, mealpy.swarm_based.MPA.OriginalMPA: >>>Problem: P, Epoch: 13, Current best: 0.038649285075615644, Global best: 0.038649285075615644, Runtime: 4.74586 seconds\n",
      "2024/11/13 04:16:00 PM, INFO, mealpy.swarm_based.MPA.OriginalMPA: >>>Problem: P, Epoch: 14, Current best: 0.038649285075615644, Global best: 0.038649285075615644, Runtime: 4.75322 seconds\n",
      "2024/11/13 04:16:05 PM, INFO, mealpy.swarm_based.MPA.OriginalMPA: >>>Problem: P, Epoch: 15, Current best: 0.03839635389085658, Global best: 0.03839635389085658, Runtime: 4.76283 seconds\n",
      "2024/11/13 04:16:10 PM, INFO, mealpy.swarm_based.MPA.OriginalMPA: >>>Problem: P, Epoch: 16, Current best: 0.03839635389085658, Global best: 0.03839635389085658, Runtime: 4.79360 seconds\n",
      "2024/11/13 04:16:14 PM, INFO, mealpy.swarm_based.MPA.OriginalMPA: >>>Problem: P, Epoch: 17, Current best: 0.03839635389085658, Global best: 0.03839635389085658, Runtime: 4.76544 seconds\n",
      "2024/11/13 04:16:19 PM, INFO, mealpy.swarm_based.MPA.OriginalMPA: >>>Problem: P, Epoch: 18, Current best: 0.03839635389085658, Global best: 0.03839635389085658, Runtime: 4.80589 seconds\n",
      "2024/11/13 04:16:24 PM, INFO, mealpy.swarm_based.MPA.OriginalMPA: >>>Problem: P, Epoch: 19, Current best: 0.03839635389085658, Global best: 0.03839635389085658, Runtime: 4.78571 seconds\n",
      "2024/11/13 04:16:29 PM, INFO, mealpy.swarm_based.MPA.OriginalMPA: >>>Problem: P, Epoch: 20, Current best: 0.0351639467770056, Global best: 0.0351639467770056, Runtime: 4.81096 seconds\n",
      "2024/11/13 04:16:34 PM, INFO, mealpy.swarm_based.MPA.OriginalMPA: >>>Problem: P, Epoch: 21, Current best: 0.0351639467770056, Global best: 0.0351639467770056, Runtime: 4.77598 seconds\n",
      "2024/11/13 04:16:38 PM, INFO, mealpy.swarm_based.MPA.OriginalMPA: >>>Problem: P, Epoch: 22, Current best: 0.0351639467770056, Global best: 0.0351639467770056, Runtime: 4.76889 seconds\n",
      "2024/11/13 04:16:43 PM, INFO, mealpy.swarm_based.MPA.OriginalMPA: >>>Problem: P, Epoch: 23, Current best: 0.0351639467770056, Global best: 0.0351639467770056, Runtime: 4.82176 seconds\n",
      "2024/11/13 04:16:48 PM, INFO, mealpy.swarm_based.MPA.OriginalMPA: >>>Problem: P, Epoch: 24, Current best: 0.03324475039823398, Global best: 0.03324475039823398, Runtime: 4.78279 seconds\n",
      "2024/11/13 04:16:53 PM, INFO, mealpy.swarm_based.MPA.OriginalMPA: >>>Problem: P, Epoch: 25, Current best: 0.03324475039823398, Global best: 0.03324475039823398, Runtime: 4.84042 seconds\n",
      "2024/11/13 04:16:58 PM, INFO, mealpy.swarm_based.MPA.OriginalMPA: >>>Problem: P, Epoch: 26, Current best: 0.03324475039823398, Global best: 0.03324475039823398, Runtime: 4.83526 seconds\n",
      "2024/11/13 04:17:02 PM, INFO, mealpy.swarm_based.MPA.OriginalMPA: >>>Problem: P, Epoch: 27, Current best: 0.03324475039823398, Global best: 0.03324475039823398, Runtime: 4.74656 seconds\n",
      "2024/11/13 04:17:07 PM, INFO, mealpy.swarm_based.MPA.OriginalMPA: >>>Problem: P, Epoch: 28, Current best: 0.03324475039823398, Global best: 0.03324475039823398, Runtime: 4.88804 seconds\n",
      "2024/11/13 04:17:12 PM, INFO, mealpy.swarm_based.MPA.OriginalMPA: >>>Problem: P, Epoch: 29, Current best: 0.030505726023905375, Global best: 0.030505726023905375, Runtime: 4.75717 seconds\n",
      "2024/11/13 04:17:17 PM, INFO, mealpy.swarm_based.MPA.OriginalMPA: >>>Problem: P, Epoch: 30, Current best: 0.030505726023905375, Global best: 0.030505726023905375, Runtime: 4.83055 seconds\n",
      "2024/11/13 04:17:22 PM, INFO, mealpy.swarm_based.MPA.OriginalMPA: >>>Problem: P, Epoch: 31, Current best: 0.030505726023905375, Global best: 0.030505726023905375, Runtime: 4.77727 seconds\n",
      "2024/11/13 04:17:26 PM, INFO, mealpy.swarm_based.MPA.OriginalMPA: >>>Problem: P, Epoch: 32, Current best: 0.030505726023905375, Global best: 0.030505726023905375, Runtime: 4.75095 seconds\n",
      "2024/11/13 04:17:31 PM, INFO, mealpy.swarm_based.MPA.OriginalMPA: >>>Problem: P, Epoch: 33, Current best: 0.030505726023905375, Global best: 0.030505726023905375, Runtime: 4.76563 seconds\n",
      "2024/11/13 04:17:36 PM, INFO, mealpy.swarm_based.MPA.OriginalMPA: >>>Problem: P, Epoch: 34, Current best: 0.030505726023905375, Global best: 0.030505726023905375, Runtime: 4.74798 seconds\n",
      "2024/11/13 04:17:41 PM, INFO, mealpy.swarm_based.MPA.OriginalMPA: >>>Problem: P, Epoch: 35, Current best: 0.030505726023905375, Global best: 0.030505726023905375, Runtime: 4.74136 seconds\n",
      "2024/11/13 04:17:46 PM, INFO, mealpy.swarm_based.MPA.OriginalMPA: >>>Problem: P, Epoch: 36, Current best: 0.030505726023905375, Global best: 0.030505726023905375, Runtime: 4.81417 seconds\n",
      "2024/11/13 04:17:50 PM, INFO, mealpy.swarm_based.MPA.OriginalMPA: >>>Problem: P, Epoch: 37, Current best: 0.029538673151127726, Global best: 0.029538673151127726, Runtime: 4.76197 seconds\n",
      "2024/11/13 04:17:55 PM, INFO, mealpy.swarm_based.MPA.OriginalMPA: >>>Problem: P, Epoch: 38, Current best: 0.02742145023666183, Global best: 0.02742145023666183, Runtime: 4.75619 seconds\n",
      "2024/11/13 04:18:00 PM, INFO, mealpy.swarm_based.MPA.OriginalMPA: >>>Problem: P, Epoch: 39, Current best: 0.02742145023666183, Global best: 0.02742145023666183, Runtime: 4.78312 seconds\n",
      "2024/11/13 04:18:05 PM, INFO, mealpy.swarm_based.MPA.OriginalMPA: >>>Problem: P, Epoch: 40, Current best: 0.026329681020515937, Global best: 0.026329681020515937, Runtime: 4.71689 seconds\n",
      "2024/11/13 04:18:09 PM, INFO, mealpy.swarm_based.MPA.OriginalMPA: >>>Problem: P, Epoch: 41, Current best: 0.017613853740069716, Global best: 0.017613853740069716, Runtime: 4.75337 seconds\n",
      "2024/11/13 04:18:14 PM, INFO, mealpy.swarm_based.MPA.OriginalMPA: >>>Problem: P, Epoch: 42, Current best: 0.013272203274573412, Global best: 0.013272203274573412, Runtime: 4.76512 seconds\n",
      "2024/11/13 04:18:19 PM, INFO, mealpy.swarm_based.MPA.OriginalMPA: >>>Problem: P, Epoch: 43, Current best: 0.005228202846950047, Global best: 0.005228202846950047, Runtime: 4.80532 seconds\n",
      "2024/11/13 04:18:24 PM, INFO, mealpy.swarm_based.MPA.OriginalMPA: >>>Problem: P, Epoch: 44, Current best: 0.001933174231112189, Global best: 0.001933174231112189, Runtime: 4.77261 seconds\n"
     ]
    },
    {
     "name": "stderr",
     "output_type": "stream",
     "text": [
      "2024/11/13 04:18:28 PM, INFO, mealpy.swarm_based.MPA.OriginalMPA: >>>Problem: P, Epoch: 45, Current best: 0.001933174231112189, Global best: 0.001933174231112189, Runtime: 4.75591 seconds\n",
      "2024/11/13 04:18:33 PM, INFO, mealpy.swarm_based.MPA.OriginalMPA: >>>Problem: P, Epoch: 46, Current best: 0.00042731927605428317, Global best: 0.00042731927605428317, Runtime: 4.78657 seconds\n",
      "2024/11/13 04:18:38 PM, INFO, mealpy.swarm_based.MPA.OriginalMPA: >>>Problem: P, Epoch: 47, Current best: 0.0002973845827802579, Global best: 0.0002973845827802579, Runtime: 4.76650 seconds\n",
      "2024/11/13 04:18:43 PM, INFO, mealpy.swarm_based.MPA.OriginalMPA: >>>Problem: P, Epoch: 48, Current best: 0.0002973845827802579, Global best: 0.0002973845827802579, Runtime: 4.75542 seconds\n",
      "2024/11/13 04:18:47 PM, INFO, mealpy.swarm_based.MPA.OriginalMPA: >>>Problem: P, Epoch: 49, Current best: 0.0002603328591607834, Global best: 0.0002603328591607834, Runtime: 4.78955 seconds\n",
      "2024/11/13 04:18:52 PM, INFO, mealpy.swarm_based.MPA.OriginalMPA: >>>Problem: P, Epoch: 50, Current best: 0.0002603328591607834, Global best: 0.0002603328591607834, Runtime: 4.86085 seconds\n"
     ]
    },
    {
     "name": "stdout",
     "output_type": "stream",
     "text": [
      "Replica 16: Solution = [50.35848331  0.          1.20259723], Fitness = 0.0002603328591607834\n"
     ]
    },
    {
     "name": "stderr",
     "output_type": "stream",
     "text": [
      "2024/11/13 04:18:53 PM, INFO, mealpy.swarm_based.MPA.OriginalMPA: Solving single objective optimization problem.\n",
      "2024/11/13 04:19:02 PM, INFO, mealpy.swarm_based.MPA.OriginalMPA: >>>Problem: P, Epoch: 1, Current best: 1.2864241648304104, Global best: 1.2864241648304104, Runtime: 4.78512 seconds\n",
      "2024/11/13 04:19:07 PM, INFO, mealpy.swarm_based.MPA.OriginalMPA: >>>Problem: P, Epoch: 2, Current best: 0.7967898227874798, Global best: 0.7967898227874798, Runtime: 4.83729 seconds\n",
      "2024/11/13 04:19:12 PM, INFO, mealpy.swarm_based.MPA.OriginalMPA: >>>Problem: P, Epoch: 3, Current best: 0.09816676846153158, Global best: 0.09816676846153158, Runtime: 4.79550 seconds\n",
      "2024/11/13 04:19:17 PM, INFO, mealpy.swarm_based.MPA.OriginalMPA: >>>Problem: P, Epoch: 4, Current best: 0.057781574694242895, Global best: 0.057781574694242895, Runtime: 4.77935 seconds\n",
      "2024/11/13 04:19:21 PM, INFO, mealpy.swarm_based.MPA.OriginalMPA: >>>Problem: P, Epoch: 5, Current best: 0.04485066742870995, Global best: 0.04485066742870995, Runtime: 4.85627 seconds\n",
      "2024/11/13 04:19:26 PM, INFO, mealpy.swarm_based.MPA.OriginalMPA: >>>Problem: P, Epoch: 6, Current best: 0.04485066742870995, Global best: 0.04485066742870995, Runtime: 4.77138 seconds\n",
      "2024/11/13 04:19:31 PM, INFO, mealpy.swarm_based.MPA.OriginalMPA: >>>Problem: P, Epoch: 7, Current best: 0.04485066742870995, Global best: 0.04485066742870995, Runtime: 4.79228 seconds\n",
      "2024/11/13 04:19:36 PM, INFO, mealpy.swarm_based.MPA.OriginalMPA: >>>Problem: P, Epoch: 8, Current best: 0.0411056210761197, Global best: 0.0411056210761197, Runtime: 4.81964 seconds\n",
      "2024/11/13 04:19:41 PM, INFO, mealpy.swarm_based.MPA.OriginalMPA: >>>Problem: P, Epoch: 9, Current best: 0.0411056210761197, Global best: 0.0411056210761197, Runtime: 4.82419 seconds\n",
      "2024/11/13 04:19:45 PM, INFO, mealpy.swarm_based.MPA.OriginalMPA: >>>Problem: P, Epoch: 10, Current best: 0.0411056210761197, Global best: 0.0411056210761197, Runtime: 4.75047 seconds\n",
      "2024/11/13 04:19:50 PM, INFO, mealpy.swarm_based.MPA.OriginalMPA: >>>Problem: P, Epoch: 11, Current best: 0.038960132874807665, Global best: 0.038960132874807665, Runtime: 4.81886 seconds\n",
      "2024/11/13 04:19:55 PM, INFO, mealpy.swarm_based.MPA.OriginalMPA: >>>Problem: P, Epoch: 12, Current best: 0.03542027400048644, Global best: 0.03542027400048644, Runtime: 4.85651 seconds\n",
      "2024/11/13 04:20:00 PM, INFO, mealpy.swarm_based.MPA.OriginalMPA: >>>Problem: P, Epoch: 13, Current best: 0.03542027400048644, Global best: 0.03542027400048644, Runtime: 4.82065 seconds\n",
      "2024/11/13 04:20:05 PM, INFO, mealpy.swarm_based.MPA.OriginalMPA: >>>Problem: P, Epoch: 14, Current best: 0.03542027400048644, Global best: 0.03542027400048644, Runtime: 4.80797 seconds\n",
      "2024/11/13 04:20:10 PM, INFO, mealpy.swarm_based.MPA.OriginalMPA: >>>Problem: P, Epoch: 15, Current best: 0.03542027400048644, Global best: 0.03542027400048644, Runtime: 4.83804 seconds\n",
      "2024/11/13 04:20:14 PM, INFO, mealpy.swarm_based.MPA.OriginalMPA: >>>Problem: P, Epoch: 16, Current best: 0.03542027400048644, Global best: 0.03542027400048644, Runtime: 4.79076 seconds\n",
      "2024/11/13 04:20:19 PM, INFO, mealpy.swarm_based.MPA.OriginalMPA: >>>Problem: P, Epoch: 17, Current best: 0.03542027400048644, Global best: 0.03542027400048644, Runtime: 4.80985 seconds\n",
      "2024/11/13 04:20:24 PM, INFO, mealpy.swarm_based.MPA.OriginalMPA: >>>Problem: P, Epoch: 18, Current best: 0.03542027400048644, Global best: 0.03542027400048644, Runtime: 4.83533 seconds\n",
      "2024/11/13 04:20:29 PM, INFO, mealpy.swarm_based.MPA.OriginalMPA: >>>Problem: P, Epoch: 19, Current best: 0.03542027400048644, Global best: 0.03542027400048644, Runtime: 4.83853 seconds\n",
      "2024/11/13 04:20:34 PM, INFO, mealpy.swarm_based.MPA.OriginalMPA: >>>Problem: P, Epoch: 20, Current best: 0.03542027400048644, Global best: 0.03542027400048644, Runtime: 4.81351 seconds\n",
      "2024/11/13 04:20:38 PM, INFO, mealpy.swarm_based.MPA.OriginalMPA: >>>Problem: P, Epoch: 21, Current best: 0.03542027400048644, Global best: 0.03542027400048644, Runtime: 4.79344 seconds\n",
      "2024/11/13 04:20:43 PM, INFO, mealpy.swarm_based.MPA.OriginalMPA: >>>Problem: P, Epoch: 22, Current best: 0.03542027400048644, Global best: 0.03542027400048644, Runtime: 4.87765 seconds\n",
      "2024/11/13 04:20:48 PM, INFO, mealpy.swarm_based.MPA.OriginalMPA: >>>Problem: P, Epoch: 23, Current best: 0.03542027400048644, Global best: 0.03542027400048644, Runtime: 4.84395 seconds\n",
      "2024/11/13 04:20:53 PM, INFO, mealpy.swarm_based.MPA.OriginalMPA: >>>Problem: P, Epoch: 24, Current best: 0.03542027400048644, Global best: 0.03542027400048644, Runtime: 4.84968 seconds\n",
      "2024/11/13 04:20:58 PM, INFO, mealpy.swarm_based.MPA.OriginalMPA: >>>Problem: P, Epoch: 25, Current best: 0.03542027400048644, Global best: 0.03542027400048644, Runtime: 4.84348 seconds\n",
      "2024/11/13 04:21:03 PM, INFO, mealpy.swarm_based.MPA.OriginalMPA: >>>Problem: P, Epoch: 26, Current best: 0.03542027400048644, Global best: 0.03542027400048644, Runtime: 4.83824 seconds\n",
      "2024/11/13 04:21:07 PM, INFO, mealpy.swarm_based.MPA.OriginalMPA: >>>Problem: P, Epoch: 27, Current best: 0.03457761215100192, Global best: 0.03457761215100192, Runtime: 4.79503 seconds\n",
      "2024/11/13 04:21:12 PM, INFO, mealpy.swarm_based.MPA.OriginalMPA: >>>Problem: P, Epoch: 28, Current best: 0.03457761215100192, Global best: 0.03457761215100192, Runtime: 4.81689 seconds\n",
      "2024/11/13 04:21:17 PM, INFO, mealpy.swarm_based.MPA.OriginalMPA: >>>Problem: P, Epoch: 29, Current best: 0.030432317084249497, Global best: 0.030432317084249497, Runtime: 4.84840 seconds\n",
      "2024/11/13 04:21:22 PM, INFO, mealpy.swarm_based.MPA.OriginalMPA: >>>Problem: P, Epoch: 30, Current best: 0.030432317084249497, Global best: 0.030432317084249497, Runtime: 4.84327 seconds\n",
      "2024/11/13 04:21:27 PM, INFO, mealpy.swarm_based.MPA.OriginalMPA: >>>Problem: P, Epoch: 31, Current best: 0.030432317084249497, Global best: 0.030432317084249497, Runtime: 4.81692 seconds\n",
      "2024/11/13 04:21:32 PM, INFO, mealpy.swarm_based.MPA.OriginalMPA: >>>Problem: P, Epoch: 32, Current best: 0.027368940813607457, Global best: 0.027368940813607457, Runtime: 4.86670 seconds\n",
      "2024/11/13 04:21:37 PM, INFO, mealpy.swarm_based.MPA.OriginalMPA: >>>Problem: P, Epoch: 33, Current best: 0.02515715203484257, Global best: 0.02515715203484257, Runtime: 4.81585 seconds\n",
      "2024/11/13 04:21:41 PM, INFO, mealpy.swarm_based.MPA.OriginalMPA: >>>Problem: P, Epoch: 34, Current best: 0.022395705146858468, Global best: 0.022395705146858468, Runtime: 4.81016 seconds\n",
      "2024/11/13 04:21:46 PM, INFO, mealpy.swarm_based.MPA.OriginalMPA: >>>Problem: P, Epoch: 35, Current best: 0.013376622234176083, Global best: 0.013376622234176083, Runtime: 4.84372 seconds\n",
      "2024/11/13 04:21:51 PM, INFO, mealpy.swarm_based.MPA.OriginalMPA: >>>Problem: P, Epoch: 36, Current best: 0.011162326919408971, Global best: 0.011162326919408971, Runtime: 4.82481 seconds\n",
      "2024/11/13 04:21:56 PM, INFO, mealpy.swarm_based.MPA.OriginalMPA: >>>Problem: P, Epoch: 37, Current best: 0.011162326919408971, Global best: 0.011162326919408971, Runtime: 4.86738 seconds\n",
      "2024/11/13 04:22:01 PM, INFO, mealpy.swarm_based.MPA.OriginalMPA: >>>Problem: P, Epoch: 38, Current best: 0.011162326919408971, Global best: 0.011162326919408971, Runtime: 4.85503 seconds\n",
      "2024/11/13 04:22:06 PM, INFO, mealpy.swarm_based.MPA.OriginalMPA: >>>Problem: P, Epoch: 39, Current best: 0.010917083684077622, Global best: 0.010917083684077622, Runtime: 4.84279 seconds\n",
      "2024/11/13 04:22:10 PM, INFO, mealpy.swarm_based.MPA.OriginalMPA: >>>Problem: P, Epoch: 40, Current best: 0.005958515134792329, Global best: 0.005958515134792329, Runtime: 4.86986 seconds\n",
      "2024/11/13 04:22:15 PM, INFO, mealpy.swarm_based.MPA.OriginalMPA: >>>Problem: P, Epoch: 41, Current best: 0.004547788015316012, Global best: 0.004547788015316012, Runtime: 4.78849 seconds\n",
      "2024/11/13 04:22:20 PM, INFO, mealpy.swarm_based.MPA.OriginalMPA: >>>Problem: P, Epoch: 42, Current best: 0.002844927374178829, Global best: 0.002844927374178829, Runtime: 4.86533 seconds\n",
      "2024/11/13 04:22:25 PM, INFO, mealpy.swarm_based.MPA.OriginalMPA: >>>Problem: P, Epoch: 43, Current best: 0.002844927374178829, Global best: 0.002844927374178829, Runtime: 4.84109 seconds\n",
      "2024/11/13 04:22:30 PM, INFO, mealpy.swarm_based.MPA.OriginalMPA: >>>Problem: P, Epoch: 44, Current best: 0.001545360143717156, Global best: 0.001545360143717156, Runtime: 4.84853 seconds\n"
     ]
    },
    {
     "name": "stderr",
     "output_type": "stream",
     "text": [
      "2024/11/13 04:22:35 PM, INFO, mealpy.swarm_based.MPA.OriginalMPA: >>>Problem: P, Epoch: 45, Current best: 0.001165972989838715, Global best: 0.001165972989838715, Runtime: 4.84432 seconds\n",
      "2024/11/13 04:22:39 PM, INFO, mealpy.swarm_based.MPA.OriginalMPA: >>>Problem: P, Epoch: 46, Current best: 0.0008876506464601253, Global best: 0.0008876506464601253, Runtime: 4.81769 seconds\n",
      "2024/11/13 04:22:44 PM, INFO, mealpy.swarm_based.MPA.OriginalMPA: >>>Problem: P, Epoch: 47, Current best: 0.0008876506464601253, Global best: 0.0008876506464601253, Runtime: 4.75137 seconds\n",
      "2024/11/13 04:22:49 PM, INFO, mealpy.swarm_based.MPA.OriginalMPA: >>>Problem: P, Epoch: 48, Current best: 0.0008876506464601253, Global best: 0.0008876506464601253, Runtime: 4.84563 seconds\n",
      "2024/11/13 04:22:54 PM, INFO, mealpy.swarm_based.MPA.OriginalMPA: >>>Problem: P, Epoch: 49, Current best: 0.0008768037749419479, Global best: 0.0008768037749419479, Runtime: 4.84091 seconds\n",
      "2024/11/13 04:22:59 PM, INFO, mealpy.swarm_based.MPA.OriginalMPA: >>>Problem: P, Epoch: 50, Current best: 0.000843366549055946, Global best: 0.000843366549055946, Runtime: 4.81516 seconds\n"
     ]
    },
    {
     "name": "stdout",
     "output_type": "stream",
     "text": [
      "Replica 17: Solution = [50.05841552  0.          1.20020589], Fitness = 0.000843366549055946\n"
     ]
    },
    {
     "name": "stderr",
     "output_type": "stream",
     "text": [
      "2024/11/13 04:22:59 PM, INFO, mealpy.swarm_based.MPA.OriginalMPA: Solving single objective optimization problem.\n",
      "2024/11/13 04:23:09 PM, INFO, mealpy.swarm_based.MPA.OriginalMPA: >>>Problem: P, Epoch: 1, Current best: 10.462146893385901, Global best: 10.462146893385901, Runtime: 4.84747 seconds\n",
      "2024/11/13 04:23:13 PM, INFO, mealpy.swarm_based.MPA.OriginalMPA: >>>Problem: P, Epoch: 2, Current best: 10.446144689411705, Global best: 10.446144689411705, Runtime: 4.79209 seconds\n",
      "2024/11/13 04:23:18 PM, INFO, mealpy.swarm_based.MPA.OriginalMPA: >>>Problem: P, Epoch: 3, Current best: 1.187450139947919, Global best: 1.187450139947919, Runtime: 4.82221 seconds\n",
      "2024/11/13 04:23:23 PM, INFO, mealpy.swarm_based.MPA.OriginalMPA: >>>Problem: P, Epoch: 4, Current best: 1.0747039008524941, Global best: 1.0747039008524941, Runtime: 4.88015 seconds\n",
      "2024/11/13 04:23:28 PM, INFO, mealpy.swarm_based.MPA.OriginalMPA: >>>Problem: P, Epoch: 5, Current best: 0.576277189711611, Global best: 0.576277189711611, Runtime: 4.81908 seconds\n",
      "2024/11/13 04:23:33 PM, INFO, mealpy.swarm_based.MPA.OriginalMPA: >>>Problem: P, Epoch: 6, Current best: 0.316664306517333, Global best: 0.316664306517333, Runtime: 4.77206 seconds\n",
      "2024/11/13 04:23:38 PM, INFO, mealpy.swarm_based.MPA.OriginalMPA: >>>Problem: P, Epoch: 7, Current best: 0.30899821894710094, Global best: 0.30899821894710094, Runtime: 4.85945 seconds\n",
      "2024/11/13 04:23:42 PM, INFO, mealpy.swarm_based.MPA.OriginalMPA: >>>Problem: P, Epoch: 8, Current best: 0.30899821894710094, Global best: 0.30899821894710094, Runtime: 4.82710 seconds\n",
      "2024/11/13 04:23:47 PM, INFO, mealpy.swarm_based.MPA.OriginalMPA: >>>Problem: P, Epoch: 9, Current best: 0.3088436847637502, Global best: 0.3088436847637502, Runtime: 4.80957 seconds\n",
      "2024/11/13 04:23:52 PM, INFO, mealpy.swarm_based.MPA.OriginalMPA: >>>Problem: P, Epoch: 10, Current best: 0.30100810372398945, Global best: 0.30100810372398945, Runtime: 4.84341 seconds\n",
      "2024/11/13 04:23:57 PM, INFO, mealpy.swarm_based.MPA.OriginalMPA: >>>Problem: P, Epoch: 11, Current best: 0.2735990677629049, Global best: 0.2735990677629049, Runtime: 4.82497 seconds\n",
      "2024/11/13 04:24:02 PM, INFO, mealpy.swarm_based.MPA.OriginalMPA: >>>Problem: P, Epoch: 12, Current best: 0.2735990677629049, Global best: 0.2735990677629049, Runtime: 4.78707 seconds\n",
      "2024/11/13 04:24:06 PM, INFO, mealpy.swarm_based.MPA.OriginalMPA: >>>Problem: P, Epoch: 13, Current best: 0.2735990677629049, Global best: 0.2735990677629049, Runtime: 4.78467 seconds\n",
      "2024/11/13 04:24:11 PM, INFO, mealpy.swarm_based.MPA.OriginalMPA: >>>Problem: P, Epoch: 14, Current best: 0.2735990677629049, Global best: 0.2735990677629049, Runtime: 4.84883 seconds\n",
      "2024/11/13 04:24:16 PM, INFO, mealpy.swarm_based.MPA.OriginalMPA: >>>Problem: P, Epoch: 15, Current best: 0.2735990677629049, Global best: 0.2735990677629049, Runtime: 4.78098 seconds\n",
      "2024/11/13 04:24:21 PM, INFO, mealpy.swarm_based.MPA.OriginalMPA: >>>Problem: P, Epoch: 16, Current best: 0.26869206112991434, Global best: 0.26869206112991434, Runtime: 4.89752 seconds\n",
      "2024/11/13 04:24:26 PM, INFO, mealpy.swarm_based.MPA.OriginalMPA: >>>Problem: P, Epoch: 17, Current best: 0.26869206112991434, Global best: 0.26869206112991434, Runtime: 4.85139 seconds\n",
      "2024/11/13 04:24:31 PM, INFO, mealpy.swarm_based.MPA.OriginalMPA: >>>Problem: P, Epoch: 18, Current best: 0.26869206112991434, Global best: 0.26869206112991434, Runtime: 4.94390 seconds\n",
      "2024/11/13 04:24:36 PM, INFO, mealpy.swarm_based.MPA.OriginalMPA: >>>Problem: P, Epoch: 19, Current best: 0.26823876592316853, Global best: 0.26823876592316853, Runtime: 4.82399 seconds\n",
      "2024/11/13 04:24:40 PM, INFO, mealpy.swarm_based.MPA.OriginalMPA: >>>Problem: P, Epoch: 20, Current best: 0.26823876592316853, Global best: 0.26823876592316853, Runtime: 4.85743 seconds\n",
      "2024/11/13 04:24:45 PM, INFO, mealpy.swarm_based.MPA.OriginalMPA: >>>Problem: P, Epoch: 21, Current best: 0.26730846461587127, Global best: 0.26730846461587127, Runtime: 4.85082 seconds\n",
      "2024/11/13 04:24:50 PM, INFO, mealpy.swarm_based.MPA.OriginalMPA: >>>Problem: P, Epoch: 22, Current best: 0.26730846461587127, Global best: 0.26730846461587127, Runtime: 4.83903 seconds\n",
      "2024/11/13 04:24:55 PM, INFO, mealpy.swarm_based.MPA.OriginalMPA: >>>Problem: P, Epoch: 23, Current best: 0.26471772818574085, Global best: 0.26471772818574085, Runtime: 4.90009 seconds\n",
      "2024/11/13 04:25:00 PM, INFO, mealpy.swarm_based.MPA.OriginalMPA: >>>Problem: P, Epoch: 24, Current best: 0.25258296282849024, Global best: 0.25258296282849024, Runtime: 4.82612 seconds\n",
      "2024/11/13 04:25:05 PM, INFO, mealpy.swarm_based.MPA.OriginalMPA: >>>Problem: P, Epoch: 25, Current best: 0.25258296282849024, Global best: 0.25258296282849024, Runtime: 4.81717 seconds\n",
      "2024/11/13 04:25:10 PM, INFO, mealpy.swarm_based.MPA.OriginalMPA: >>>Problem: P, Epoch: 26, Current best: 0.25258296282849024, Global best: 0.25258296282849024, Runtime: 4.82386 seconds\n",
      "2024/11/13 04:25:14 PM, INFO, mealpy.swarm_based.MPA.OriginalMPA: >>>Problem: P, Epoch: 27, Current best: 0.25258296282849024, Global best: 0.25258296282849024, Runtime: 4.86694 seconds\n",
      "2024/11/13 04:25:19 PM, INFO, mealpy.swarm_based.MPA.OriginalMPA: >>>Problem: P, Epoch: 28, Current best: 0.25258296282849024, Global best: 0.25258296282849024, Runtime: 4.85282 seconds\n",
      "2024/11/13 04:25:24 PM, INFO, mealpy.swarm_based.MPA.OriginalMPA: >>>Problem: P, Epoch: 29, Current best: 0.25258296282849024, Global best: 0.25258296282849024, Runtime: 4.77877 seconds\n",
      "2024/11/13 04:25:29 PM, INFO, mealpy.swarm_based.MPA.OriginalMPA: >>>Problem: P, Epoch: 30, Current best: 0.2524467834050023, Global best: 0.2524467834050023, Runtime: 4.78579 seconds\n",
      "2024/11/13 04:25:34 PM, INFO, mealpy.swarm_based.MPA.OriginalMPA: >>>Problem: P, Epoch: 31, Current best: 0.25121331458726165, Global best: 0.25121331458726165, Runtime: 4.81101 seconds\n",
      "2024/11/13 04:25:38 PM, INFO, mealpy.swarm_based.MPA.OriginalMPA: >>>Problem: P, Epoch: 32, Current best: 0.25121331458726165, Global best: 0.25121331458726165, Runtime: 4.79604 seconds\n",
      "2024/11/13 04:25:43 PM, INFO, mealpy.swarm_based.MPA.OriginalMPA: >>>Problem: P, Epoch: 33, Current best: 0.2509430890282413, Global best: 0.2509430890282413, Runtime: 4.81729 seconds\n",
      "2024/11/13 04:25:48 PM, INFO, mealpy.swarm_based.MPA.OriginalMPA: >>>Problem: P, Epoch: 34, Current best: 0.2483250226075115, Global best: 0.2483250226075115, Runtime: 4.81907 seconds\n",
      "2024/11/13 04:25:53 PM, INFO, mealpy.swarm_based.MPA.OriginalMPA: >>>Problem: P, Epoch: 35, Current best: 0.24725597510722402, Global best: 0.24725597510722402, Runtime: 4.79352 seconds\n",
      "2024/11/13 04:25:58 PM, INFO, mealpy.swarm_based.MPA.OriginalMPA: >>>Problem: P, Epoch: 36, Current best: 0.24404791982454746, Global best: 0.24404791982454746, Runtime: 4.80887 seconds\n",
      "2024/11/13 04:26:02 PM, INFO, mealpy.swarm_based.MPA.OriginalMPA: >>>Problem: P, Epoch: 37, Current best: 0.24393787808026451, Global best: 0.24393787808026451, Runtime: 4.82775 seconds\n",
      "2024/11/13 04:26:07 PM, INFO, mealpy.swarm_based.MPA.OriginalMPA: >>>Problem: P, Epoch: 38, Current best: 0.23276529970653265, Global best: 0.23276529970653265, Runtime: 4.84717 seconds\n",
      "2024/11/13 04:26:12 PM, INFO, mealpy.swarm_based.MPA.OriginalMPA: >>>Problem: P, Epoch: 39, Current best: 0.23276529970653265, Global best: 0.23276529970653265, Runtime: 4.79404 seconds\n",
      "2024/11/13 04:26:17 PM, INFO, mealpy.swarm_based.MPA.OriginalMPA: >>>Problem: P, Epoch: 40, Current best: 0.2294907943537812, Global best: 0.2294907943537812, Runtime: 4.83612 seconds\n",
      "2024/11/13 04:26:22 PM, INFO, mealpy.swarm_based.MPA.OriginalMPA: >>>Problem: P, Epoch: 41, Current best: 0.2294907943537812, Global best: 0.2294907943537812, Runtime: 4.80457 seconds\n",
      "2024/11/13 04:26:27 PM, INFO, mealpy.swarm_based.MPA.OriginalMPA: >>>Problem: P, Epoch: 42, Current best: 0.22536761518505682, Global best: 0.22536761518505682, Runtime: 4.78749 seconds\n",
      "2024/11/13 04:26:31 PM, INFO, mealpy.swarm_based.MPA.OriginalMPA: >>>Problem: P, Epoch: 43, Current best: 0.22373105595434564, Global best: 0.22373105595434564, Runtime: 4.81058 seconds\n",
      "2024/11/13 04:26:36 PM, INFO, mealpy.swarm_based.MPA.OriginalMPA: >>>Problem: P, Epoch: 44, Current best: 0.2214898241242707, Global best: 0.2214898241242707, Runtime: 4.84482 seconds\n"
     ]
    },
    {
     "name": "stderr",
     "output_type": "stream",
     "text": [
      "2024/11/13 04:26:41 PM, INFO, mealpy.swarm_based.MPA.OriginalMPA: >>>Problem: P, Epoch: 45, Current best: 0.22014116300747216, Global best: 0.22014116300747216, Runtime: 4.86673 seconds\n",
      "2024/11/13 04:26:46 PM, INFO, mealpy.swarm_based.MPA.OriginalMPA: >>>Problem: P, Epoch: 46, Current best: 0.21869349430700286, Global best: 0.21869349430700286, Runtime: 4.84936 seconds\n",
      "2024/11/13 04:26:51 PM, INFO, mealpy.swarm_based.MPA.OriginalMPA: >>>Problem: P, Epoch: 47, Current best: 0.21807874032619629, Global best: 0.21807874032619629, Runtime: 4.84352 seconds\n",
      "2024/11/13 04:26:56 PM, INFO, mealpy.swarm_based.MPA.OriginalMPA: >>>Problem: P, Epoch: 48, Current best: 0.21649314593371263, Global best: 0.21649314593371263, Runtime: 4.85627 seconds\n",
      "2024/11/13 04:27:00 PM, INFO, mealpy.swarm_based.MPA.OriginalMPA: >>>Problem: P, Epoch: 49, Current best: 0.21587267950260122, Global best: 0.21587267950260122, Runtime: 4.82841 seconds\n",
      "2024/11/13 04:27:05 PM, INFO, mealpy.swarm_based.MPA.OriginalMPA: >>>Problem: P, Epoch: 50, Current best: 0.2155828472456591, Global best: 0.2155828472456591, Runtime: 4.86298 seconds\n"
     ]
    },
    {
     "name": "stdout",
     "output_type": "stream",
     "text": [
      "Replica 18: Solution = [7.49628195e+01 3.94568497e-03 5.99991612e-01], Fitness = 0.2155828472456591\n"
     ]
    },
    {
     "name": "stderr",
     "output_type": "stream",
     "text": [
      "2024/11/13 04:27:06 PM, INFO, mealpy.swarm_based.MPA.OriginalMPA: Solving single objective optimization problem.\n",
      "2024/11/13 04:27:15 PM, INFO, mealpy.swarm_based.MPA.OriginalMPA: >>>Problem: P, Epoch: 1, Current best: 0.15035935303368128, Global best: 0.15035935303368128, Runtime: 4.83870 seconds\n",
      "2024/11/13 04:27:20 PM, INFO, mealpy.swarm_based.MPA.OriginalMPA: >>>Problem: P, Epoch: 2, Current best: 0.15035935303368128, Global best: 0.15035935303368128, Runtime: 4.84504 seconds\n",
      "2024/11/13 04:27:25 PM, INFO, mealpy.swarm_based.MPA.OriginalMPA: >>>Problem: P, Epoch: 3, Current best: 0.15035935303368128, Global best: 0.15035935303368128, Runtime: 4.87126 seconds\n",
      "2024/11/13 04:27:30 PM, INFO, mealpy.swarm_based.MPA.OriginalMPA: >>>Problem: P, Epoch: 4, Current best: 0.15035935303368128, Global best: 0.15035935303368128, Runtime: 4.83336 seconds\n",
      "2024/11/13 04:27:35 PM, INFO, mealpy.swarm_based.MPA.OriginalMPA: >>>Problem: P, Epoch: 5, Current best: 0.15035935303368128, Global best: 0.15035935303368128, Runtime: 4.84568 seconds\n",
      "2024/11/13 04:27:40 PM, INFO, mealpy.swarm_based.MPA.OriginalMPA: >>>Problem: P, Epoch: 6, Current best: 0.15035935303368128, Global best: 0.15035935303368128, Runtime: 4.85400 seconds\n",
      "2024/11/13 04:27:44 PM, INFO, mealpy.swarm_based.MPA.OriginalMPA: >>>Problem: P, Epoch: 7, Current best: 0.14446749773911763, Global best: 0.14446749773911763, Runtime: 4.83576 seconds\n",
      "2024/11/13 04:27:49 PM, INFO, mealpy.swarm_based.MPA.OriginalMPA: >>>Problem: P, Epoch: 8, Current best: 0.14446749773911763, Global best: 0.14446749773911763, Runtime: 4.84655 seconds\n",
      "2024/11/13 04:27:54 PM, INFO, mealpy.swarm_based.MPA.OriginalMPA: >>>Problem: P, Epoch: 9, Current best: 0.13907037778386086, Global best: 0.13907037778386086, Runtime: 4.84684 seconds\n",
      "2024/11/13 04:27:59 PM, INFO, mealpy.swarm_based.MPA.OriginalMPA: >>>Problem: P, Epoch: 10, Current best: 0.13907037778386086, Global best: 0.13907037778386086, Runtime: 4.84206 seconds\n",
      "2024/11/13 04:28:04 PM, INFO, mealpy.swarm_based.MPA.OriginalMPA: >>>Problem: P, Epoch: 11, Current best: 0.1376400644169561, Global best: 0.1376400644169561, Runtime: 4.83870 seconds\n",
      "2024/11/13 04:28:09 PM, INFO, mealpy.swarm_based.MPA.OriginalMPA: >>>Problem: P, Epoch: 12, Current best: 0.13668687461804369, Global best: 0.13668687461804369, Runtime: 4.87433 seconds\n",
      "2024/11/13 04:28:13 PM, INFO, mealpy.swarm_based.MPA.OriginalMPA: >>>Problem: P, Epoch: 13, Current best: 0.11988725986145507, Global best: 0.11988725986145507, Runtime: 4.82182 seconds\n",
      "2024/11/13 04:28:18 PM, INFO, mealpy.swarm_based.MPA.OriginalMPA: >>>Problem: P, Epoch: 14, Current best: 0.11988725986145507, Global best: 0.11988725986145507, Runtime: 4.85647 seconds\n",
      "2024/11/13 04:28:23 PM, INFO, mealpy.swarm_based.MPA.OriginalMPA: >>>Problem: P, Epoch: 15, Current best: 0.09743975560014267, Global best: 0.09743975560014267, Runtime: 4.83017 seconds\n",
      "2024/11/13 04:28:28 PM, INFO, mealpy.swarm_based.MPA.OriginalMPA: >>>Problem: P, Epoch: 16, Current best: 0.09299221326932065, Global best: 0.09299221326932065, Runtime: 4.84790 seconds\n",
      "2024/11/13 04:28:33 PM, INFO, mealpy.swarm_based.MPA.OriginalMPA: >>>Problem: P, Epoch: 17, Current best: 0.09119550700872865, Global best: 0.09119550700872865, Runtime: 4.83649 seconds\n",
      "2024/11/13 04:28:38 PM, INFO, mealpy.swarm_based.MPA.OriginalMPA: >>>Problem: P, Epoch: 18, Current best: 0.07926034002305565, Global best: 0.07926034002305565, Runtime: 4.84259 seconds\n",
      "2024/11/13 04:28:43 PM, INFO, mealpy.swarm_based.MPA.OriginalMPA: >>>Problem: P, Epoch: 19, Current best: 0.07926034002305565, Global best: 0.07926034002305565, Runtime: 4.88535 seconds\n",
      "2024/11/13 04:28:47 PM, INFO, mealpy.swarm_based.MPA.OriginalMPA: >>>Problem: P, Epoch: 20, Current best: 0.057899599151442466, Global best: 0.057899599151442466, Runtime: 4.83208 seconds\n",
      "2024/11/13 04:28:52 PM, INFO, mealpy.swarm_based.MPA.OriginalMPA: >>>Problem: P, Epoch: 21, Current best: 0.057899599151442466, Global best: 0.057899599151442466, Runtime: 4.84593 seconds\n",
      "2024/11/13 04:28:57 PM, INFO, mealpy.swarm_based.MPA.OriginalMPA: >>>Problem: P, Epoch: 22, Current best: 0.03807675660405138, Global best: 0.03807675660405138, Runtime: 4.84792 seconds\n",
      "2024/11/13 04:29:02 PM, INFO, mealpy.swarm_based.MPA.OriginalMPA: >>>Problem: P, Epoch: 23, Current best: 0.02388555932665697, Global best: 0.02388555932665697, Runtime: 4.84028 seconds\n",
      "2024/11/13 04:29:07 PM, INFO, mealpy.swarm_based.MPA.OriginalMPA: >>>Problem: P, Epoch: 24, Current best: 0.014827738029222326, Global best: 0.014827738029222326, Runtime: 4.84687 seconds\n",
      "2024/11/13 04:29:12 PM, INFO, mealpy.swarm_based.MPA.OriginalMPA: >>>Problem: P, Epoch: 25, Current best: 0.014827738029222326, Global best: 0.014827738029222326, Runtime: 4.87363 seconds\n",
      "2024/11/13 04:29:16 PM, INFO, mealpy.swarm_based.MPA.OriginalMPA: >>>Problem: P, Epoch: 26, Current best: 0.014827738029222326, Global best: 0.014827738029222326, Runtime: 4.86705 seconds\n",
      "2024/11/13 04:29:21 PM, INFO, mealpy.swarm_based.MPA.OriginalMPA: >>>Problem: P, Epoch: 27, Current best: 0.009092514228366964, Global best: 0.009092514228366964, Runtime: 4.84275 seconds\n",
      "2024/11/13 04:29:26 PM, INFO, mealpy.swarm_based.MPA.OriginalMPA: >>>Problem: P, Epoch: 28, Current best: 0.009092514228366964, Global best: 0.009092514228366964, Runtime: 4.84972 seconds\n",
      "2024/11/13 04:29:31 PM, INFO, mealpy.swarm_based.MPA.OriginalMPA: >>>Problem: P, Epoch: 29, Current best: 0.009092514228366964, Global best: 0.009092514228366964, Runtime: 4.85001 seconds\n",
      "2024/11/13 04:29:36 PM, INFO, mealpy.swarm_based.MPA.OriginalMPA: >>>Problem: P, Epoch: 30, Current best: 0.00788495453557696, Global best: 0.00788495453557696, Runtime: 4.82717 seconds\n",
      "2024/11/13 04:29:41 PM, INFO, mealpy.swarm_based.MPA.OriginalMPA: >>>Problem: P, Epoch: 31, Current best: 0.00788495453557696, Global best: 0.00788495453557696, Runtime: 4.85336 seconds\n",
      "2024/11/13 04:29:46 PM, INFO, mealpy.swarm_based.MPA.OriginalMPA: >>>Problem: P, Epoch: 32, Current best: 0.00788495453557696, Global best: 0.00788495453557696, Runtime: 4.83704 seconds\n",
      "2024/11/13 04:29:50 PM, INFO, mealpy.swarm_based.MPA.OriginalMPA: >>>Problem: P, Epoch: 33, Current best: 0.00788495453557696, Global best: 0.00788495453557696, Runtime: 4.82212 seconds\n",
      "2024/11/13 04:29:55 PM, INFO, mealpy.swarm_based.MPA.OriginalMPA: >>>Problem: P, Epoch: 34, Current best: 0.0030997035605868197, Global best: 0.0030997035605868197, Runtime: 4.80677 seconds\n",
      "2024/11/13 04:30:00 PM, INFO, mealpy.swarm_based.MPA.OriginalMPA: >>>Problem: P, Epoch: 35, Current best: 0.0030997035605868197, Global best: 0.0030997035605868197, Runtime: 4.82823 seconds\n",
      "2024/11/13 04:30:05 PM, INFO, mealpy.swarm_based.MPA.OriginalMPA: >>>Problem: P, Epoch: 36, Current best: 0.0030997035605868197, Global best: 0.0030997035605868197, Runtime: 4.88207 seconds\n",
      "2024/11/13 04:30:10 PM, INFO, mealpy.swarm_based.MPA.OriginalMPA: >>>Problem: P, Epoch: 37, Current best: 0.0030997035605868197, Global best: 0.0030997035605868197, Runtime: 4.83577 seconds\n",
      "2024/11/13 04:30:15 PM, INFO, mealpy.swarm_based.MPA.OriginalMPA: >>>Problem: P, Epoch: 38, Current best: 0.0030997035605868197, Global best: 0.0030997035605868197, Runtime: 4.88737 seconds\n",
      "2024/11/13 04:30:20 PM, INFO, mealpy.swarm_based.MPA.OriginalMPA: >>>Problem: P, Epoch: 39, Current best: 0.0030997035605868197, Global best: 0.0030997035605868197, Runtime: 4.90017 seconds\n",
      "2024/11/13 04:30:24 PM, INFO, mealpy.swarm_based.MPA.OriginalMPA: >>>Problem: P, Epoch: 40, Current best: 0.002535206305412485, Global best: 0.002535206305412485, Runtime: 4.84403 seconds\n",
      "2024/11/13 04:30:29 PM, INFO, mealpy.swarm_based.MPA.OriginalMPA: >>>Problem: P, Epoch: 41, Current best: 0.0017199988060175638, Global best: 0.0017199988060175638, Runtime: 4.84018 seconds\n",
      "2024/11/13 04:30:34 PM, INFO, mealpy.swarm_based.MPA.OriginalMPA: >>>Problem: P, Epoch: 42, Current best: 0.0017199988060175638, Global best: 0.0017199988060175638, Runtime: 4.84765 seconds\n",
      "2024/11/13 04:30:39 PM, INFO, mealpy.swarm_based.MPA.OriginalMPA: >>>Problem: P, Epoch: 43, Current best: 0.0017199988060175638, Global best: 0.0017199988060175638, Runtime: 4.84997 seconds\n",
      "2024/11/13 04:30:44 PM, INFO, mealpy.swarm_based.MPA.OriginalMPA: >>>Problem: P, Epoch: 44, Current best: 0.001102488364548959, Global best: 0.001102488364548959, Runtime: 4.84607 seconds\n"
     ]
    },
    {
     "name": "stderr",
     "output_type": "stream",
     "text": [
      "2024/11/13 04:30:49 PM, INFO, mealpy.swarm_based.MPA.OriginalMPA: >>>Problem: P, Epoch: 45, Current best: 0.0005151877800521065, Global best: 0.0005151877800521065, Runtime: 4.89853 seconds\n",
      "2024/11/13 04:30:54 PM, INFO, mealpy.swarm_based.MPA.OriginalMPA: >>>Problem: P, Epoch: 46, Current best: 0.00046657179858564655, Global best: 0.00046657179858564655, Runtime: 4.84171 seconds\n",
      "2024/11/13 04:30:58 PM, INFO, mealpy.swarm_based.MPA.OriginalMPA: >>>Problem: P, Epoch: 47, Current best: 0.0003634332617297842, Global best: 0.0003634332617297842, Runtime: 4.86079 seconds\n",
      "2024/11/13 04:31:03 PM, INFO, mealpy.swarm_based.MPA.OriginalMPA: >>>Problem: P, Epoch: 48, Current best: 0.00030387121124795244, Global best: 0.00030387121124795244, Runtime: 4.93684 seconds\n",
      "2024/11/13 04:31:08 PM, INFO, mealpy.swarm_based.MPA.OriginalMPA: >>>Problem: P, Epoch: 49, Current best: 0.00027655326987388037, Global best: 0.00027655326987388037, Runtime: 4.83735 seconds\n",
      "2024/11/13 04:31:13 PM, INFO, mealpy.swarm_based.MPA.OriginalMPA: >>>Problem: P, Epoch: 50, Current best: 0.00025243349681114413, Global best: 0.00025243349681114413, Runtime: 4.84607 seconds\n"
     ]
    },
    {
     "name": "stdout",
     "output_type": "stream",
     "text": [
      "Replica 19: Solution = [5.03654743e+01 9.92815965e-13 1.20262336e+00], Fitness = 0.00025243349681114413\n"
     ]
    },
    {
     "name": "stderr",
     "output_type": "stream",
     "text": [
      "2024/11/13 04:31:13 PM, INFO, mealpy.swarm_based.MPA.OriginalMPA: Solving single objective optimization problem.\n",
      "2024/11/13 04:31:23 PM, INFO, mealpy.swarm_based.MPA.OriginalMPA: >>>Problem: P, Epoch: 1, Current best: 0.9618964380496372, Global best: 0.9618964380496372, Runtime: 4.86943 seconds\n",
      "2024/11/13 04:31:28 PM, INFO, mealpy.swarm_based.MPA.OriginalMPA: >>>Problem: P, Epoch: 2, Current best: 0.38222440102704025, Global best: 0.38222440102704025, Runtime: 4.84804 seconds\n",
      "2024/11/13 04:31:33 PM, INFO, mealpy.swarm_based.MPA.OriginalMPA: >>>Problem: P, Epoch: 3, Current best: 0.38222440102704025, Global best: 0.38222440102704025, Runtime: 4.90425 seconds\n",
      "2024/11/13 04:31:38 PM, INFO, mealpy.swarm_based.MPA.OriginalMPA: >>>Problem: P, Epoch: 4, Current best: 0.31821560436892554, Global best: 0.31821560436892554, Runtime: 4.85803 seconds\n",
      "2024/11/13 04:31:42 PM, INFO, mealpy.swarm_based.MPA.OriginalMPA: >>>Problem: P, Epoch: 5, Current best: 0.21527568450908055, Global best: 0.21527568450908055, Runtime: 4.84843 seconds\n",
      "2024/11/13 04:31:47 PM, INFO, mealpy.swarm_based.MPA.OriginalMPA: >>>Problem: P, Epoch: 6, Current best: 0.21527568450908055, Global best: 0.21527568450908055, Runtime: 4.86422 seconds\n",
      "2024/11/13 04:31:52 PM, INFO, mealpy.swarm_based.MPA.OriginalMPA: >>>Problem: P, Epoch: 7, Current best: 0.20710469920733038, Global best: 0.20710469920733038, Runtime: 4.84693 seconds\n",
      "2024/11/13 04:31:57 PM, INFO, mealpy.swarm_based.MPA.OriginalMPA: >>>Problem: P, Epoch: 8, Current best: 0.199657581962854, Global best: 0.199657581962854, Runtime: 4.92309 seconds\n",
      "2024/11/13 04:32:02 PM, INFO, mealpy.swarm_based.MPA.OriginalMPA: >>>Problem: P, Epoch: 9, Current best: 0.199657581962854, Global best: 0.199657581962854, Runtime: 4.83641 seconds\n",
      "2024/11/13 04:32:07 PM, INFO, mealpy.swarm_based.MPA.OriginalMPA: >>>Problem: P, Epoch: 10, Current best: 0.199657581962854, Global best: 0.199657581962854, Runtime: 4.84807 seconds\n",
      "2024/11/13 04:32:12 PM, INFO, mealpy.swarm_based.MPA.OriginalMPA: >>>Problem: P, Epoch: 11, Current best: 0.199657581962854, Global best: 0.199657581962854, Runtime: 4.84118 seconds\n",
      "2024/11/13 04:32:17 PM, INFO, mealpy.swarm_based.MPA.OriginalMPA: >>>Problem: P, Epoch: 12, Current best: 0.1880780201942844, Global best: 0.1880780201942844, Runtime: 4.86015 seconds\n",
      "2024/11/13 04:32:21 PM, INFO, mealpy.swarm_based.MPA.OriginalMPA: >>>Problem: P, Epoch: 13, Current best: 0.1880780201942844, Global best: 0.1880780201942844, Runtime: 4.84571 seconds\n",
      "2024/11/13 04:32:26 PM, INFO, mealpy.swarm_based.MPA.OriginalMPA: >>>Problem: P, Epoch: 14, Current best: 0.18488694978573197, Global best: 0.18488694978573197, Runtime: 4.84327 seconds\n",
      "2024/11/13 04:32:31 PM, INFO, mealpy.swarm_based.MPA.OriginalMPA: >>>Problem: P, Epoch: 15, Current best: 0.1837708477450811, Global best: 0.1837708477450811, Runtime: 4.84330 seconds\n",
      "2024/11/13 04:32:36 PM, INFO, mealpy.swarm_based.MPA.OriginalMPA: >>>Problem: P, Epoch: 16, Current best: 0.1837708477450811, Global best: 0.1837708477450811, Runtime: 4.84498 seconds\n",
      "2024/11/13 04:32:41 PM, INFO, mealpy.swarm_based.MPA.OriginalMPA: >>>Problem: P, Epoch: 17, Current best: 0.1837708477450811, Global best: 0.1837708477450811, Runtime: 4.85026 seconds\n",
      "2024/11/13 04:32:46 PM, INFO, mealpy.swarm_based.MPA.OriginalMPA: >>>Problem: P, Epoch: 18, Current best: 0.16883934989737107, Global best: 0.16883934989737107, Runtime: 4.87135 seconds\n",
      "2024/11/13 04:32:50 PM, INFO, mealpy.swarm_based.MPA.OriginalMPA: >>>Problem: P, Epoch: 19, Current best: 0.16883934989737107, Global best: 0.16883934989737107, Runtime: 4.82398 seconds\n",
      "2024/11/13 04:32:55 PM, INFO, mealpy.swarm_based.MPA.OriginalMPA: >>>Problem: P, Epoch: 20, Current best: 0.16531420104204564, Global best: 0.16531420104204564, Runtime: 4.88623 seconds\n",
      "2024/11/13 04:33:00 PM, INFO, mealpy.swarm_based.MPA.OriginalMPA: >>>Problem: P, Epoch: 21, Current best: 0.15861284427432318, Global best: 0.15861284427432318, Runtime: 4.87815 seconds\n",
      "2024/11/13 04:33:05 PM, INFO, mealpy.swarm_based.MPA.OriginalMPA: >>>Problem: P, Epoch: 22, Current best: 0.15861284427432318, Global best: 0.15861284427432318, Runtime: 4.84390 seconds\n",
      "2024/11/13 04:33:10 PM, INFO, mealpy.swarm_based.MPA.OriginalMPA: >>>Problem: P, Epoch: 23, Current best: 0.15861284427432318, Global best: 0.15861284427432318, Runtime: 4.84406 seconds\n",
      "2024/11/13 04:33:15 PM, INFO, mealpy.swarm_based.MPA.OriginalMPA: >>>Problem: P, Epoch: 24, Current best: 0.15861284427432318, Global best: 0.15861284427432318, Runtime: 4.85168 seconds\n",
      "2024/11/13 04:33:20 PM, INFO, mealpy.swarm_based.MPA.OriginalMPA: >>>Problem: P, Epoch: 25, Current best: 0.15025404430290498, Global best: 0.15025404430290498, Runtime: 4.90627 seconds\n",
      "2024/11/13 04:33:25 PM, INFO, mealpy.swarm_based.MPA.OriginalMPA: >>>Problem: P, Epoch: 26, Current best: 0.14607645573856148, Global best: 0.14607645573856148, Runtime: 4.86981 seconds\n",
      "2024/11/13 04:33:29 PM, INFO, mealpy.swarm_based.MPA.OriginalMPA: >>>Problem: P, Epoch: 27, Current best: 0.14607645573856148, Global best: 0.14607645573856148, Runtime: 4.83319 seconds\n",
      "2024/11/13 04:33:34 PM, INFO, mealpy.swarm_based.MPA.OriginalMPA: >>>Problem: P, Epoch: 28, Current best: 0.1446655777608807, Global best: 0.1446655777608807, Runtime: 4.83974 seconds\n",
      "2024/11/13 04:33:39 PM, INFO, mealpy.swarm_based.MPA.OriginalMPA: >>>Problem: P, Epoch: 29, Current best: 0.1342894428730143, Global best: 0.1342894428730143, Runtime: 4.84391 seconds\n",
      "2024/11/13 04:33:44 PM, INFO, mealpy.swarm_based.MPA.OriginalMPA: >>>Problem: P, Epoch: 30, Current best: 0.1342894428730143, Global best: 0.1342894428730143, Runtime: 4.84519 seconds\n",
      "2024/11/13 04:33:49 PM, INFO, mealpy.swarm_based.MPA.OriginalMPA: >>>Problem: P, Epoch: 31, Current best: 0.1342894428730143, Global best: 0.1342894428730143, Runtime: 4.93213 seconds\n",
      "2024/11/13 04:33:54 PM, INFO, mealpy.swarm_based.MPA.OriginalMPA: >>>Problem: P, Epoch: 32, Current best: 0.13257593680526045, Global best: 0.13257593680526045, Runtime: 4.83131 seconds\n",
      "2024/11/13 04:33:59 PM, INFO, mealpy.swarm_based.MPA.OriginalMPA: >>>Problem: P, Epoch: 33, Current best: 0.13257593680526045, Global best: 0.13257593680526045, Runtime: 4.85327 seconds\n",
      "2024/11/13 04:34:03 PM, INFO, mealpy.swarm_based.MPA.OriginalMPA: >>>Problem: P, Epoch: 34, Current best: 0.13257593680526045, Global best: 0.13257593680526045, Runtime: 4.97231 seconds\n",
      "2024/11/13 04:34:08 PM, INFO, mealpy.swarm_based.MPA.OriginalMPA: >>>Problem: P, Epoch: 35, Current best: 0.13204317623390358, Global best: 0.13204317623390358, Runtime: 4.84488 seconds\n",
      "2024/11/13 04:34:13 PM, INFO, mealpy.swarm_based.MPA.OriginalMPA: >>>Problem: P, Epoch: 36, Current best: 0.12283214470295079, Global best: 0.12283214470295079, Runtime: 4.84148 seconds\n",
      "2024/11/13 04:34:18 PM, INFO, mealpy.swarm_based.MPA.OriginalMPA: >>>Problem: P, Epoch: 37, Current best: 0.11504640748173281, Global best: 0.11504640748173281, Runtime: 4.93856 seconds\n",
      "2024/11/13 04:34:23 PM, INFO, mealpy.swarm_based.MPA.OriginalMPA: >>>Problem: P, Epoch: 38, Current best: 0.11420429685970973, Global best: 0.11420429685970973, Runtime: 4.83865 seconds\n",
      "2024/11/13 04:34:28 PM, INFO, mealpy.swarm_based.MPA.OriginalMPA: >>>Problem: P, Epoch: 39, Current best: 0.11166106998791064, Global best: 0.11166106998791064, Runtime: 4.84012 seconds\n",
      "2024/11/13 04:34:33 PM, INFO, mealpy.swarm_based.MPA.OriginalMPA: >>>Problem: P, Epoch: 40, Current best: 0.10494211724504825, Global best: 0.10494211724504825, Runtime: 5.01528 seconds\n",
      "2024/11/13 04:34:38 PM, INFO, mealpy.swarm_based.MPA.OriginalMPA: >>>Problem: P, Epoch: 41, Current best: 0.10481704594349578, Global best: 0.10481704594349578, Runtime: 4.90860 seconds\n",
      "2024/11/13 04:34:43 PM, INFO, mealpy.swarm_based.MPA.OriginalMPA: >>>Problem: P, Epoch: 42, Current best: 0.10424257996887637, Global best: 0.10424257996887637, Runtime: 5.02936 seconds\n",
      "2024/11/13 04:34:48 PM, INFO, mealpy.swarm_based.MPA.OriginalMPA: >>>Problem: P, Epoch: 43, Current best: 0.10384267912025373, Global best: 0.10384267912025373, Runtime: 5.03536 seconds\n",
      "2024/11/13 04:34:53 PM, INFO, mealpy.swarm_based.MPA.OriginalMPA: >>>Problem: P, Epoch: 44, Current best: 0.10384267912025373, Global best: 0.10384267912025373, Runtime: 4.92650 seconds\n"
     ]
    },
    {
     "name": "stderr",
     "output_type": "stream",
     "text": [
      "2024/11/13 04:34:58 PM, INFO, mealpy.swarm_based.MPA.OriginalMPA: >>>Problem: P, Epoch: 45, Current best: 0.10384267912025373, Global best: 0.10384267912025373, Runtime: 4.85613 seconds\n",
      "2024/11/13 04:35:03 PM, INFO, mealpy.swarm_based.MPA.OriginalMPA: >>>Problem: P, Epoch: 46, Current best: 0.10384267912025373, Global best: 0.10384267912025373, Runtime: 4.92314 seconds\n",
      "2024/11/13 04:35:08 PM, INFO, mealpy.swarm_based.MPA.OriginalMPA: >>>Problem: P, Epoch: 47, Current best: 0.10384267912025373, Global best: 0.10384267912025373, Runtime: 5.03139 seconds\n",
      "2024/11/13 04:35:13 PM, INFO, mealpy.swarm_based.MPA.OriginalMPA: >>>Problem: P, Epoch: 48, Current best: 0.10357753024211622, Global best: 0.10357753024211622, Runtime: 5.00169 seconds\n",
      "2024/11/13 04:35:17 PM, INFO, mealpy.swarm_based.MPA.OriginalMPA: >>>Problem: P, Epoch: 49, Current best: 0.10352624015059904, Global best: 0.10352624015059904, Runtime: 4.94139 seconds\n",
      "2024/11/13 04:35:22 PM, INFO, mealpy.swarm_based.MPA.OriginalMPA: >>>Problem: P, Epoch: 50, Current best: 0.10340380718031587, Global best: 0.10340380718031587, Runtime: 4.99558 seconds\n"
     ]
    },
    {
     "name": "stdout",
     "output_type": "stream",
     "text": [
      "Replica 20: Solution = [7.44135647e+01 1.06682190e-03 8.00290333e-01], Fitness = 0.10340380718031587\n"
     ]
    }
   ],
   "source": [
    "solutions = []\n",
    "fitness_values = []\n",
    "\n",
    "\n",
    "num_replicas = 20\n",
    "for i in range(num_replicas):\n",
    "    model = MPA.OriginalMPA(epoch=50, pop_size=20)\n",
    "    g_best = model.solve(problem_dict)\n",
    "    solutions.append(g_best.solution)\n",
    "    fitness_values.append(g_best.target.fitness)\n",
    "    print(f\"Replica {i+1}: Solution = {g_best.solution}, Fitness = {g_best.target.fitness}\")\n",
    "\n",
    "import scipy.io as sio\n",
    "\n",
    "results = {\n",
    "    \"solutions\": np.array(solutions),\n",
    "    \"fitness_values\": np.array(fitness_values),\n",
    "\n",
    "}\n",
    "\n",
    "sio.savemat(\"results_MPA.mat\", results)\n",
    "\n",
    "print(\"Resultados guardados en 'results_MPA.mat'.\")"
   ]
  },
  {
   "cell_type": "code",
   "execution_count": 14,
   "id": "8ff12a49",
   "metadata": {},
   "outputs": [
    {
     "name": "stdout",
     "output_type": "stream",
     "text": [
      "Resultados guardados en 'results_MPA.mat'.\n"
     ]
    }
   ],
   "source": [
    "import scipy.io as sio\n",
    "\n",
    "results = {\n",
    "    \"solutions\": np.array(solutions),\n",
    "    \"fitness_values\": np.array(fitness_values),\n",
    "\n",
    "}\n",
    "\n",
    "sio.savemat(\"results_MPA.mat\", results)\n",
    "\n",
    "print(\"Resultados guardados en 'results_MPA.mat'.\")"
   ]
  },
  {
   "cell_type": "code",
   "execution_count": null,
   "id": "58e584e6",
   "metadata": {},
   "outputs": [],
   "source": []
  },
  {
   "cell_type": "code",
   "execution_count": 3,
   "id": "59acb98e",
   "metadata": {},
   "outputs": [
    {
     "name": "stderr",
     "output_type": "stream",
     "text": [
      "2024/11/14 04:22:17 PM, INFO, mealpy.swarm_based.GTO.Matlab101GTO: Solving single objective optimization problem.\n",
      "2024/11/14 04:23:12 PM, INFO, mealpy.swarm_based.GTO.Matlab101GTO: >>>Problem: P, Epoch: 1, Current best: 10.476665523913697, Global best: 10.476665523913697, Runtime: 50.46335 seconds\n"
     ]
    },
    {
     "name": "stdout",
     "output_type": "stream",
     "text": [
      "Solution: [22.55220691  0.04504648  0.31116729], Fitness: 10.476665523913697\n",
      "Solution: [22.55220691  0.04504648  0.31116729], Fitness: 10.476665523913697\n",
      "201\n"
     ]
    }
   ],
   "source": [
    "import numpy as np\n",
    "import matlab.engine\n",
    "from mealpy import FloatVar, GTO\n",
    "\n",
    "eng = matlab.engine.start_matlab()\n",
    "matlab_folder = r\"C:\\Users\\A00836756\\Desktop\\matematics\" \n",
    "eng.cd(matlab_folder)\n",
    "\n",
    "num_evaluations = 0\n",
    "\n",
    "def objective_function(solution):\n",
    "    global num_evaluations\n",
    "    num_evaluations += 1\n",
    "    x1, x2, x3 = float(solution[0]), float(solution[1]), float(solution[2])\n",
    "    fcost = eng.HHmododeslizante2(x1, x2, x3)\n",
    "    return fcost\n",
    "\n",
    "problem_dict = {\n",
    "    \"bounds\": FloatVar(lb=(0.0, 0.0, 0.0), ub=(75.0, 0.1, 5.0), name=\"delta\"),\n",
    "    \"minmax\": \"min\",\n",
    "    \"obj_func\": objective_function\n",
    "}\n",
    "\n",
    "model = GTO.Matlab101GTO(epoch=1, pop_size=10)\n",
    "g_best = model.solve(problem_dict)\n",
    "\n",
    "print(f\"Solution: {g_best.solution}, Fitness: {g_best.target.fitness}\")\n",
    "print(f\"Solution: {model.g_best.solution}, Fitness: {model.g_best.target.fitness}\")\n",
    "print(num_evaluations)\n"
   ]
  },
  {
   "cell_type": "code",
   "execution_count": null,
   "id": "c0567257",
   "metadata": {},
   "outputs": [],
   "source": []
  },
  {
   "cell_type": "code",
   "execution_count": 8,
   "id": "15d10414",
   "metadata": {},
   "outputs": [
    {
     "name": "stderr",
     "output_type": "stream",
     "text": [
      "2024/11/15 11:04:07 AM, INFO, mealpy.swarm_based.GTO.Matlab101GTO: Solving single objective optimization problem.\n",
      "2024/11/15 11:05:19 AM, INFO, mealpy.swarm_based.GTO.Matlab101GTO: >>>Problem: P, Epoch: 1, Current best: 9.812819045402382, Global best: 9.812819045402382, Runtime: 68.34081 seconds\n",
      "2024/11/15 11:06:28 AM, INFO, mealpy.swarm_based.GTO.Matlab101GTO: >>>Problem: P, Epoch: 2, Current best: 9.812819045402382, Global best: 9.812819045402382, Runtime: 68.40508 seconds\n",
      "2024/11/15 11:07:38 AM, INFO, mealpy.swarm_based.GTO.Matlab101GTO: >>>Problem: P, Epoch: 3, Current best: 9.812819045402382, Global best: 9.812819045402382, Runtime: 70.43981 seconds\n",
      "2024/11/15 11:08:48 AM, INFO, mealpy.swarm_based.GTO.Matlab101GTO: >>>Problem: P, Epoch: 4, Current best: 1.9746337188095737, Global best: 1.9746337188095737, Runtime: 69.60898 seconds\n",
      "2024/11/15 11:09:58 AM, INFO, mealpy.swarm_based.GTO.Matlab101GTO: >>>Problem: P, Epoch: 5, Current best: 1.9746337188095737, Global best: 1.9746337188095737, Runtime: 69.87729 seconds\n",
      "2024/11/15 11:11:08 AM, INFO, mealpy.swarm_based.GTO.Matlab101GTO: >>>Problem: P, Epoch: 6, Current best: 1.697829254910113, Global best: 1.697829254910113, Runtime: 70.63082 seconds\n",
      "2024/11/15 11:12:19 AM, INFO, mealpy.swarm_based.GTO.Matlab101GTO: >>>Problem: P, Epoch: 7, Current best: 1.697829254910113, Global best: 1.697829254910113, Runtime: 70.57711 seconds\n",
      "2024/11/15 11:13:29 AM, INFO, mealpy.swarm_based.GTO.Matlab101GTO: >>>Problem: P, Epoch: 8, Current best: 1.5159865810053086, Global best: 1.5159865810053086, Runtime: 70.35463 seconds\n",
      "2024/11/15 11:14:40 AM, INFO, mealpy.swarm_based.GTO.Matlab101GTO: >>>Problem: P, Epoch: 9, Current best: 1.4279385085304488, Global best: 1.4279385085304488, Runtime: 70.83810 seconds\n",
      "2024/11/15 11:15:54 AM, INFO, mealpy.swarm_based.GTO.Matlab101GTO: >>>Problem: P, Epoch: 10, Current best: 0.33409723627662935, Global best: 0.33409723627662935, Runtime: 73.30286 seconds\n"
     ]
    },
    {
     "name": "stdout",
     "output_type": "stream",
     "text": [
      "Replica 1: Solution = [2.61007201e+01 1.95032174e-03 5.66204190e-01], Fitness = 0.33409723627662935\n"
     ]
    },
    {
     "name": "stderr",
     "output_type": "stream",
     "text": [
      "2024/11/15 11:15:54 AM, INFO, mealpy.swarm_based.GTO.Matlab101GTO: Solving single objective optimization problem.\n",
      "2024/11/15 11:17:16 AM, INFO, mealpy.swarm_based.GTO.Matlab101GTO: >>>Problem: P, Epoch: 1, Current best: 2.7464237080884732, Global best: 2.7464237080884732, Runtime: 77.27976 seconds\n",
      "2024/11/15 11:18:40 AM, INFO, mealpy.swarm_based.GTO.Matlab101GTO: >>>Problem: P, Epoch: 2, Current best: 2.7464237080884732, Global best: 2.7464237080884732, Runtime: 83.19520 seconds\n",
      "2024/11/15 11:20:06 AM, INFO, mealpy.swarm_based.GTO.Matlab101GTO: >>>Problem: P, Epoch: 3, Current best: 2.315375156946436, Global best: 2.315375156946436, Runtime: 86.13994 seconds\n",
      "2024/11/15 11:21:35 AM, INFO, mealpy.swarm_based.GTO.Matlab101GTO: >>>Problem: P, Epoch: 4, Current best: 1.5860398571927492, Global best: 1.5860398571927492, Runtime: 89.16303 seconds\n",
      "2024/11/15 11:23:07 AM, INFO, mealpy.swarm_based.GTO.Matlab101GTO: >>>Problem: P, Epoch: 5, Current best: 1.5860398571927492, Global best: 1.5860398571927492, Runtime: 92.26804 seconds\n",
      "2024/11/15 11:24:40 AM, INFO, mealpy.swarm_based.GTO.Matlab101GTO: >>>Problem: P, Epoch: 6, Current best: 1.224209962038643, Global best: 1.224209962038643, Runtime: 92.82045 seconds\n",
      "2024/11/15 11:26:13 AM, INFO, mealpy.swarm_based.GTO.Matlab101GTO: >>>Problem: P, Epoch: 7, Current best: 0.32908576551276647, Global best: 0.32908576551276647, Runtime: 92.82331 seconds\n",
      "2024/11/15 11:27:46 AM, INFO, mealpy.swarm_based.GTO.Matlab101GTO: >>>Problem: P, Epoch: 8, Current best: 0.32908576551276647, Global best: 0.32908576551276647, Runtime: 92.99030 seconds\n",
      "2024/11/15 11:29:20 AM, INFO, mealpy.swarm_based.GTO.Matlab101GTO: >>>Problem: P, Epoch: 9, Current best: 0.32908576551276647, Global best: 0.32908576551276647, Runtime: 94.46144 seconds\n",
      "2024/11/15 11:30:53 AM, INFO, mealpy.swarm_based.GTO.Matlab101GTO: >>>Problem: P, Epoch: 10, Current best: 0.32908576551276647, Global best: 0.32908576551276647, Runtime: 92.40017 seconds\n"
     ]
    },
    {
     "name": "stdout",
     "output_type": "stream",
     "text": [
      "Replica 2: Solution = [2.00000000e+01 1.28315617e-03 5.78236260e-01], Fitness = 0.32908576551276647\n"
     ]
    },
    {
     "name": "stderr",
     "output_type": "stream",
     "text": [
      "2024/11/15 11:30:53 AM, INFO, mealpy.swarm_based.GTO.Matlab101GTO: Solving single objective optimization problem.\n",
      "2024/11/15 11:32:34 AM, INFO, mealpy.swarm_based.GTO.Matlab101GTO: >>>Problem: P, Epoch: 1, Current best: 3.149470045208077, Global best: 3.149470045208077, Runtime: 93.72089 seconds\n",
      "2024/11/15 11:34:08 AM, INFO, mealpy.swarm_based.GTO.Matlab101GTO: >>>Problem: P, Epoch: 2, Current best: 1.839472551500467, Global best: 1.839472551500467, Runtime: 94.29166 seconds\n",
      "2024/11/15 11:35:42 AM, INFO, mealpy.swarm_based.GTO.Matlab101GTO: >>>Problem: P, Epoch: 3, Current best: 1.839472551500467, Global best: 1.839472551500467, Runtime: 93.84070 seconds\n",
      "2024/11/15 11:37:17 AM, INFO, mealpy.swarm_based.GTO.Matlab101GTO: >>>Problem: P, Epoch: 4, Current best: 1.4758996441490475, Global best: 1.4758996441490475, Runtime: 95.05236 seconds\n",
      "2024/11/15 11:38:53 AM, INFO, mealpy.swarm_based.GTO.Matlab101GTO: >>>Problem: P, Epoch: 5, Current best: 1.4441678963207814, Global best: 1.4441678963207814, Runtime: 95.74776 seconds\n",
      "2024/11/15 11:40:29 AM, INFO, mealpy.swarm_based.GTO.Matlab101GTO: >>>Problem: P, Epoch: 6, Current best: 1.2687051407698595, Global best: 1.2687051407698595, Runtime: 96.17039 seconds\n",
      "2024/11/15 11:42:06 AM, INFO, mealpy.swarm_based.GTO.Matlab101GTO: >>>Problem: P, Epoch: 7, Current best: 0.9987235287328491, Global best: 0.9987235287328491, Runtime: 96.91614 seconds\n",
      "2024/11/15 11:43:40 AM, INFO, mealpy.swarm_based.GTO.Matlab101GTO: >>>Problem: P, Epoch: 8, Current best: 0.6203792699498589, Global best: 0.6203792699498589, Runtime: 94.46919 seconds\n",
      "2024/11/15 11:45:17 AM, INFO, mealpy.swarm_based.GTO.Matlab101GTO: >>>Problem: P, Epoch: 9, Current best: 0.4915807625098817, Global best: 0.4915807625098817, Runtime: 96.43334 seconds\n",
      "2024/11/15 11:46:53 AM, INFO, mealpy.swarm_based.GTO.Matlab101GTO: >>>Problem: P, Epoch: 10, Current best: 0.3458093840901336, Global best: 0.3458093840901336, Runtime: 96.67301 seconds\n"
     ]
    },
    {
     "name": "stdout",
     "output_type": "stream",
     "text": [
      "Replica 3: Solution = [2.00000000e+01 1.96570548e-03 5.38517562e-01], Fitness = 0.3458093840901336\n"
     ]
    },
    {
     "name": "stderr",
     "output_type": "stream",
     "text": [
      "2024/11/15 11:46:54 AM, INFO, mealpy.swarm_based.GTO.Matlab101GTO: Solving single objective optimization problem.\n",
      "2024/11/15 11:48:37 AM, INFO, mealpy.swarm_based.GTO.Matlab101GTO: >>>Problem: P, Epoch: 1, Current best: 0.514301270834925, Global best: 0.514301270834925, Runtime: 96.27236 seconds\n",
      "2024/11/15 11:50:14 AM, INFO, mealpy.swarm_based.GTO.Matlab101GTO: >>>Problem: P, Epoch: 2, Current best: 0.34138932697224655, Global best: 0.34138932697224655, Runtime: 97.12104 seconds\n",
      "2024/11/15 11:51:53 AM, INFO, mealpy.swarm_based.GTO.Matlab101GTO: >>>Problem: P, Epoch: 3, Current best: 0.34138932697224655, Global best: 0.34138932697224655, Runtime: 99.63675 seconds\n",
      "2024/11/15 11:53:31 AM, INFO, mealpy.swarm_based.GTO.Matlab101GTO: >>>Problem: P, Epoch: 4, Current best: 0.34138932697224655, Global best: 0.34138932697224655, Runtime: 97.10544 seconds\n",
      "2024/11/15 11:55:10 AM, INFO, mealpy.swarm_based.GTO.Matlab101GTO: >>>Problem: P, Epoch: 5, Current best: 0.34138932697224655, Global best: 0.34138932697224655, Runtime: 99.81344 seconds\n",
      "2024/11/15 11:56:50 AM, INFO, mealpy.swarm_based.GTO.Matlab101GTO: >>>Problem: P, Epoch: 6, Current best: 0.34138932697224655, Global best: 0.34138932697224655, Runtime: 99.69028 seconds\n",
      "2024/11/15 11:58:28 AM, INFO, mealpy.swarm_based.GTO.Matlab101GTO: >>>Problem: P, Epoch: 7, Current best: 0.34138932697224655, Global best: 0.34138932697224655, Runtime: 97.57014 seconds\n",
      "2024/11/15 12:00:07 PM, INFO, mealpy.swarm_based.GTO.Matlab101GTO: >>>Problem: P, Epoch: 8, Current best: 0.34138932697224655, Global best: 0.34138932697224655, Runtime: 99.67842 seconds\n",
      "2024/11/15 12:01:46 PM, INFO, mealpy.swarm_based.GTO.Matlab101GTO: >>>Problem: P, Epoch: 9, Current best: 0.34138932697224655, Global best: 0.34138932697224655, Runtime: 98.99762 seconds\n",
      "2024/11/15 12:03:28 PM, INFO, mealpy.swarm_based.GTO.Matlab101GTO: >>>Problem: P, Epoch: 10, Current best: 0.34138932697224655, Global best: 0.34138932697224655, Runtime: 102.08347 seconds\n"
     ]
    },
    {
     "name": "stdout",
     "output_type": "stream",
     "text": [
      "Replica 4: Solution = [3.00232446e+01 9.56725689e-04 6.48024793e-01], Fitness = 0.34138932697224655\n"
     ]
    },
    {
     "name": "stderr",
     "output_type": "stream",
     "text": [
      "2024/11/15 12:03:29 PM, INFO, mealpy.swarm_based.GTO.Matlab101GTO: Solving single objective optimization problem.\n",
      "2024/11/15 12:05:19 PM, INFO, mealpy.swarm_based.GTO.Matlab101GTO: >>>Problem: P, Epoch: 1, Current best: 10.39749582999932, Global best: 10.39749582999932, Runtime: 102.96258 seconds\n",
      "2024/11/15 12:06:59 PM, INFO, mealpy.swarm_based.GTO.Matlab101GTO: >>>Problem: P, Epoch: 2, Current best: 4.660143737702659, Global best: 4.660143737702659, Runtime: 99.79730 seconds\n",
      "2024/11/15 12:08:31 PM, INFO, mealpy.swarm_based.GTO.Matlab101GTO: >>>Problem: P, Epoch: 3, Current best: 2.302378255089179, Global best: 2.302378255089179, Runtime: 92.07022 seconds\n",
      "2024/11/15 12:10:03 PM, INFO, mealpy.swarm_based.GTO.Matlab101GTO: >>>Problem: P, Epoch: 4, Current best: 2.2071810410663044, Global best: 2.2071810410663044, Runtime: 91.69994 seconds\n",
      "2024/11/15 12:11:34 PM, INFO, mealpy.swarm_based.GTO.Matlab101GTO: >>>Problem: P, Epoch: 5, Current best: 1.8413959930136177, Global best: 1.8413959930136177, Runtime: 91.34129 seconds\n",
      "2024/11/15 12:13:05 PM, INFO, mealpy.swarm_based.GTO.Matlab101GTO: >>>Problem: P, Epoch: 6, Current best: 1.6504630173313513, Global best: 1.6504630173313513, Runtime: 91.20475 seconds\n",
      "2024/11/15 12:14:37 PM, INFO, mealpy.swarm_based.GTO.Matlab101GTO: >>>Problem: P, Epoch: 7, Current best: 0.23234339072089263, Global best: 0.23234339072089263, Runtime: 91.39979 seconds\n",
      "2024/11/15 12:16:10 PM, INFO, mealpy.swarm_based.GTO.Matlab101GTO: >>>Problem: P, Epoch: 8, Current best: 0.23234339072089263, Global best: 0.23234339072089263, Runtime: 93.43472 seconds\n",
      "2024/11/15 12:17:44 PM, INFO, mealpy.swarm_based.GTO.Matlab101GTO: >>>Problem: P, Epoch: 9, Current best: 0.23234339072089263, Global best: 0.23234339072089263, Runtime: 93.71609 seconds\n",
      "2024/11/15 12:19:17 PM, INFO, mealpy.swarm_based.GTO.Matlab101GTO: >>>Problem: P, Epoch: 10, Current best: 0.23234339072089263, Global best: 0.23234339072089263, Runtime: 92.79365 seconds\n"
     ]
    },
    {
     "name": "stdout",
     "output_type": "stream",
     "text": [
      "Replica 5: Solution = [20.          0.          0.89624217], Fitness = 0.23234339072089263\n"
     ]
    },
    {
     "name": "stderr",
     "output_type": "stream",
     "text": [
      "2024/11/15 12:19:17 PM, INFO, mealpy.swarm_based.GTO.Matlab101GTO: Solving single objective optimization problem.\n",
      "2024/11/15 12:20:57 PM, INFO, mealpy.swarm_based.GTO.Matlab101GTO: >>>Problem: P, Epoch: 1, Current best: 9.784468445183022, Global best: 9.784468445183022, Runtime: 93.15161 seconds\n",
      "2024/11/15 12:22:31 PM, INFO, mealpy.swarm_based.GTO.Matlab101GTO: >>>Problem: P, Epoch: 2, Current best: 9.784468445183022, Global best: 9.784468445183022, Runtime: 93.60374 seconds\n",
      "2024/11/15 12:24:04 PM, INFO, mealpy.swarm_based.GTO.Matlab101GTO: >>>Problem: P, Epoch: 3, Current best: 9.784468445183022, Global best: 9.784468445183022, Runtime: 93.06754 seconds\n",
      "2024/11/15 12:25:38 PM, INFO, mealpy.swarm_based.GTO.Matlab101GTO: >>>Problem: P, Epoch: 4, Current best: 9.768275466432685, Global best: 9.768275466432685, Runtime: 93.68038 seconds\n",
      "2024/11/15 12:27:12 PM, INFO, mealpy.swarm_based.GTO.Matlab101GTO: >>>Problem: P, Epoch: 5, Current best: 9.768275466432685, Global best: 9.768275466432685, Runtime: 94.84332 seconds\n",
      "2024/11/15 12:28:46 PM, INFO, mealpy.swarm_based.GTO.Matlab101GTO: >>>Problem: P, Epoch: 6, Current best: 9.768275466432685, Global best: 9.768275466432685, Runtime: 94.09562 seconds\n",
      "2024/11/15 12:30:21 PM, INFO, mealpy.swarm_based.GTO.Matlab101GTO: >>>Problem: P, Epoch: 7, Current best: 9.768275466432685, Global best: 9.768275466432685, Runtime: 94.50940 seconds\n",
      "2024/11/15 12:31:54 PM, INFO, mealpy.swarm_based.GTO.Matlab101GTO: >>>Problem: P, Epoch: 8, Current best: 9.768275466432685, Global best: 9.768275466432685, Runtime: 93.43901 seconds\n",
      "2024/11/15 12:33:30 PM, INFO, mealpy.swarm_based.GTO.Matlab101GTO: >>>Problem: P, Epoch: 9, Current best: 9.751517028702784, Global best: 9.751517028702784, Runtime: 95.95018 seconds\n",
      "2024/11/15 12:35:04 PM, INFO, mealpy.swarm_based.GTO.Matlab101GTO: >>>Problem: P, Epoch: 10, Current best: 9.751517028702784, Global best: 9.751517028702784, Runtime: 93.78409 seconds\n"
     ]
    },
    {
     "name": "stdout",
     "output_type": "stream",
     "text": [
      "Replica 6: Solution = [25.32274995  0.02608657  0.38805353], Fitness = 9.751517028702784\n"
     ]
    },
    {
     "name": "stderr",
     "output_type": "stream",
     "text": [
      "2024/11/15 12:35:05 PM, INFO, mealpy.swarm_based.GTO.Matlab101GTO: Solving single objective optimization problem.\n",
      "2024/11/15 12:36:43 PM, INFO, mealpy.swarm_based.GTO.Matlab101GTO: >>>Problem: P, Epoch: 1, Current best: 10.449202463886426, Global best: 10.449202463886426, Runtime: 91.82910 seconds\n",
      "2024/11/15 12:38:17 PM, INFO, mealpy.swarm_based.GTO.Matlab101GTO: >>>Problem: P, Epoch: 2, Current best: 10.401883784110042, Global best: 10.401883784110042, Runtime: 94.03382 seconds\n",
      "2024/11/15 12:39:50 PM, INFO, mealpy.swarm_based.GTO.Matlab101GTO: >>>Problem: P, Epoch: 3, Current best: 9.854366381729431, Global best: 9.854366381729431, Runtime: 93.25932 seconds\n",
      "2024/11/15 12:41:23 PM, INFO, mealpy.swarm_based.GTO.Matlab101GTO: >>>Problem: P, Epoch: 4, Current best: 9.854366381729431, Global best: 9.854366381729431, Runtime: 93.21678 seconds\n",
      "2024/11/15 12:42:58 PM, INFO, mealpy.swarm_based.GTO.Matlab101GTO: >>>Problem: P, Epoch: 5, Current best: 9.854366381729431, Global best: 9.854366381729431, Runtime: 95.06705 seconds\n",
      "2024/11/15 12:44:33 PM, INFO, mealpy.swarm_based.GTO.Matlab101GTO: >>>Problem: P, Epoch: 6, Current best: 9.854366381729431, Global best: 9.854366381729431, Runtime: 94.52299 seconds\n",
      "2024/11/15 12:46:08 PM, INFO, mealpy.swarm_based.GTO.Matlab101GTO: >>>Problem: P, Epoch: 7, Current best: 9.853070743294472, Global best: 9.853070743294472, Runtime: 94.87839 seconds\n",
      "2024/11/15 12:47:44 PM, INFO, mealpy.swarm_based.GTO.Matlab101GTO: >>>Problem: P, Epoch: 8, Current best: 9.853070743294472, Global best: 9.853070743294472, Runtime: 96.24753 seconds\n",
      "2024/11/15 12:49:19 PM, INFO, mealpy.swarm_based.GTO.Matlab101GTO: >>>Problem: P, Epoch: 9, Current best: 9.846086615778134, Global best: 9.846086615778134, Runtime: 95.37307 seconds\n",
      "2024/11/15 12:50:56 PM, INFO, mealpy.swarm_based.GTO.Matlab101GTO: >>>Problem: P, Epoch: 10, Current best: 9.846086615778134, Global best: 9.846086615778134, Runtime: 96.87683 seconds\n"
     ]
    },
    {
     "name": "stdout",
     "output_type": "stream",
     "text": [
      "Replica 7: Solution = [20.         0.0793824  0.3614035], Fitness = 9.846086615778134\n"
     ]
    },
    {
     "name": "stderr",
     "output_type": "stream",
     "text": [
      "2024/11/15 12:50:57 PM, INFO, mealpy.swarm_based.GTO.Matlab101GTO: Solving single objective optimization problem.\n",
      "2024/11/15 12:52:40 PM, INFO, mealpy.swarm_based.GTO.Matlab101GTO: >>>Problem: P, Epoch: 1, Current best: 10.169668793658229, Global best: 10.169668793658229, Runtime: 96.33211 seconds\n",
      "2024/11/15 12:54:16 PM, INFO, mealpy.swarm_based.GTO.Matlab101GTO: >>>Problem: P, Epoch: 2, Current best: 10.169668793658229, Global best: 10.169668793658229, Runtime: 95.71969 seconds\n",
      "2024/11/15 12:55:53 PM, INFO, mealpy.swarm_based.GTO.Matlab101GTO: >>>Problem: P, Epoch: 3, Current best: 10.169668793658229, Global best: 10.169668793658229, Runtime: 96.73830 seconds\n",
      "2024/11/15 12:57:30 PM, INFO, mealpy.swarm_based.GTO.Matlab101GTO: >>>Problem: P, Epoch: 4, Current best: 4.713625943544269, Global best: 4.713625943544269, Runtime: 97.73181 seconds\n",
      "2024/11/15 12:59:07 PM, INFO, mealpy.swarm_based.GTO.Matlab101GTO: >>>Problem: P, Epoch: 5, Current best: 0.3633227036980151, Global best: 0.3633227036980151, Runtime: 96.75380 seconds\n",
      "2024/11/15 01:00:44 PM, INFO, mealpy.swarm_based.GTO.Matlab101GTO: >>>Problem: P, Epoch: 6, Current best: 0.33899213753885893, Global best: 0.33899213753885893, Runtime: 97.24158 seconds\n",
      "2024/11/15 01:02:22 PM, INFO, mealpy.swarm_based.GTO.Matlab101GTO: >>>Problem: P, Epoch: 7, Current best: 0.33899213753885893, Global best: 0.33899213753885893, Runtime: 97.24418 seconds\n",
      "2024/11/15 01:03:59 PM, INFO, mealpy.swarm_based.GTO.Matlab101GTO: >>>Problem: P, Epoch: 8, Current best: 0.33899213753885893, Global best: 0.33899213753885893, Runtime: 97.19986 seconds\n",
      "2024/11/15 01:05:37 PM, INFO, mealpy.swarm_based.GTO.Matlab101GTO: >>>Problem: P, Epoch: 9, Current best: 0.33899213753885893, Global best: 0.33899213753885893, Runtime: 97.94619 seconds\n",
      "2024/11/15 01:07:16 PM, INFO, mealpy.swarm_based.GTO.Matlab101GTO: >>>Problem: P, Epoch: 10, Current best: 0.33100792596594614, Global best: 0.33100792596594614, Runtime: 99.21274 seconds\n"
     ]
    },
    {
     "name": "stdout",
     "output_type": "stream",
     "text": [
      "Replica 8: Solution = [2.01551371e+01 1.84075996e-03 5.45506674e-01], Fitness = 0.33100792596594614\n"
     ]
    },
    {
     "name": "stderr",
     "output_type": "stream",
     "text": [
      "2024/11/15 01:07:17 PM, INFO, mealpy.swarm_based.GTO.Matlab101GTO: Solving single objective optimization problem.\n",
      "2024/11/15 01:09:01 PM, INFO, mealpy.swarm_based.GTO.Matlab101GTO: >>>Problem: P, Epoch: 1, Current best: 0.9313075356181093, Global best: 0.9313075356181093, Runtime: 98.29584 seconds\n",
      "2024/11/15 01:10:41 PM, INFO, mealpy.swarm_based.GTO.Matlab101GTO: >>>Problem: P, Epoch: 2, Current best: 0.3222873725099625, Global best: 0.3222873725099625, Runtime: 99.64026 seconds\n",
      "2024/11/15 01:12:21 PM, INFO, mealpy.swarm_based.GTO.Matlab101GTO: >>>Problem: P, Epoch: 3, Current best: 0.3222873725099625, Global best: 0.3222873725099625, Runtime: 99.62087 seconds\n",
      "2024/11/15 01:14:01 PM, INFO, mealpy.swarm_based.GTO.Matlab101GTO: >>>Problem: P, Epoch: 4, Current best: 0.3222873725099625, Global best: 0.3222873725099625, Runtime: 100.28416 seconds\n",
      "2024/11/15 01:15:40 PM, INFO, mealpy.swarm_based.GTO.Matlab101GTO: >>>Problem: P, Epoch: 5, Current best: 0.3222873725099625, Global best: 0.3222873725099625, Runtime: 99.01071 seconds\n",
      "2024/11/15 01:17:21 PM, INFO, mealpy.swarm_based.GTO.Matlab101GTO: >>>Problem: P, Epoch: 6, Current best: 0.3222873725099625, Global best: 0.3222873725099625, Runtime: 100.85681 seconds\n",
      "2024/11/15 01:19:02 PM, INFO, mealpy.swarm_based.GTO.Matlab101GTO: >>>Problem: P, Epoch: 7, Current best: 0.3222873725099625, Global best: 0.3222873725099625, Runtime: 100.82713 seconds\n",
      "2024/11/15 01:20:44 PM, INFO, mealpy.swarm_based.GTO.Matlab101GTO: >>>Problem: P, Epoch: 8, Current best: 0.3222873725099625, Global best: 0.3222873725099625, Runtime: 101.91395 seconds\n",
      "2024/11/15 01:22:24 PM, INFO, mealpy.swarm_based.GTO.Matlab101GTO: >>>Problem: P, Epoch: 9, Current best: 0.3222873725099625, Global best: 0.3222873725099625, Runtime: 100.41594 seconds\n",
      "2024/11/15 01:24:05 PM, INFO, mealpy.swarm_based.GTO.Matlab101GTO: >>>Problem: P, Epoch: 10, Current best: 0.3222873725099625, Global best: 0.3222873725099625, Runtime: 101.18765 seconds\n"
     ]
    },
    {
     "name": "stdout",
     "output_type": "stream",
     "text": [
      "Replica 9: Solution = [2.00000000e+01 1.65608205e-03 5.53819481e-01], Fitness = 0.3222873725099625\n"
     ]
    },
    {
     "name": "stderr",
     "output_type": "stream",
     "text": [
      "2024/11/15 01:24:06 PM, INFO, mealpy.swarm_based.GTO.Matlab101GTO: Solving single objective optimization problem.\n",
      "2024/11/15 01:25:53 PM, INFO, mealpy.swarm_based.GTO.Matlab101GTO: >>>Problem: P, Epoch: 1, Current best: 10.24128589288622, Global best: 10.24128589288622, Runtime: 100.62238 seconds\n",
      "2024/11/15 01:27:35 PM, INFO, mealpy.swarm_based.GTO.Matlab101GTO: >>>Problem: P, Epoch: 2, Current best: 9.904931271024497, Global best: 9.904931271024497, Runtime: 101.64228 seconds\n",
      "2024/11/15 01:29:17 PM, INFO, mealpy.swarm_based.GTO.Matlab101GTO: >>>Problem: P, Epoch: 3, Current best: 9.904931271024497, Global best: 9.904931271024497, Runtime: 102.03232 seconds\n",
      "2024/11/15 01:30:58 PM, INFO, mealpy.swarm_based.GTO.Matlab101GTO: >>>Problem: P, Epoch: 4, Current best: 9.904931271024497, Global best: 9.904931271024497, Runtime: 101.11626 seconds\n",
      "2024/11/15 01:32:40 PM, INFO, mealpy.swarm_based.GTO.Matlab101GTO: >>>Problem: P, Epoch: 5, Current best: 9.904931271024497, Global best: 9.904931271024497, Runtime: 101.55999 seconds\n",
      "2024/11/15 01:34:22 PM, INFO, mealpy.swarm_based.GTO.Matlab101GTO: >>>Problem: P, Epoch: 6, Current best: 9.904931271024497, Global best: 9.904931271024497, Runtime: 102.65940 seconds\n",
      "2024/11/15 01:36:04 PM, INFO, mealpy.swarm_based.GTO.Matlab101GTO: >>>Problem: P, Epoch: 7, Current best: 9.904931271024497, Global best: 9.904931271024497, Runtime: 102.10035 seconds\n",
      "2024/11/15 01:37:48 PM, INFO, mealpy.swarm_based.GTO.Matlab101GTO: >>>Problem: P, Epoch: 8, Current best: 9.904931271024497, Global best: 9.904931271024497, Runtime: 103.73164 seconds\n",
      "2024/11/15 01:39:31 PM, INFO, mealpy.swarm_based.GTO.Matlab101GTO: >>>Problem: P, Epoch: 9, Current best: 9.904931271024497, Global best: 9.904931271024497, Runtime: 103.05874 seconds\n",
      "2024/11/15 01:41:14 PM, INFO, mealpy.swarm_based.GTO.Matlab101GTO: >>>Problem: P, Epoch: 10, Current best: 9.904931271024497, Global best: 9.904931271024497, Runtime: 102.89645 seconds\n"
     ]
    },
    {
     "name": "stdout",
     "output_type": "stream",
     "text": [
      "Replica 10: Solution = [20.          0.09116504  0.35692343], Fitness = 9.904931271024497\n"
     ]
    },
    {
     "name": "stderr",
     "output_type": "stream",
     "text": [
      "2024/11/15 01:41:15 PM, INFO, mealpy.swarm_based.GTO.Matlab101GTO: Solving single objective optimization problem.\n",
      "2024/11/15 01:43:05 PM, INFO, mealpy.swarm_based.GTO.Matlab101GTO: >>>Problem: P, Epoch: 1, Current best: 10.415505915867138, Global best: 10.415505915867138, Runtime: 102.89283 seconds\n",
      "2024/11/15 01:44:48 PM, INFO, mealpy.swarm_based.GTO.Matlab101GTO: >>>Problem: P, Epoch: 2, Current best: 10.384783225394365, Global best: 10.384783225394365, Runtime: 103.00558 seconds\n",
      "2024/11/15 01:46:33 PM, INFO, mealpy.swarm_based.GTO.Matlab101GTO: >>>Problem: P, Epoch: 3, Current best: 10.384783225394365, Global best: 10.384783225394365, Runtime: 104.77416 seconds\n",
      "2024/11/15 01:48:17 PM, INFO, mealpy.swarm_based.GTO.Matlab101GTO: >>>Problem: P, Epoch: 4, Current best: 9.963030908949332, Global best: 9.963030908949332, Runtime: 104.08550 seconds\n",
      "2024/11/15 01:50:00 PM, INFO, mealpy.swarm_based.GTO.Matlab101GTO: >>>Problem: P, Epoch: 5, Current best: 9.915138602985927, Global best: 9.915138602985927, Runtime: 103.44756 seconds\n",
      "2024/11/15 01:51:34 PM, INFO, mealpy.swarm_based.GTO.Matlab101GTO: >>>Problem: P, Epoch: 6, Current best: 9.852766463861565, Global best: 9.852766463861565, Runtime: 94.29408 seconds\n",
      "2024/11/15 01:52:58 PM, INFO, mealpy.swarm_based.GTO.Matlab101GTO: >>>Problem: P, Epoch: 7, Current best: 9.816324718559711, Global best: 9.816324718559711, Runtime: 83.75709 seconds\n",
      "2024/11/15 01:54:22 PM, INFO, mealpy.swarm_based.GTO.Matlab101GTO: >>>Problem: P, Epoch: 8, Current best: 9.816324718559711, Global best: 9.816324718559711, Runtime: 83.38695 seconds\n",
      "2024/11/15 01:55:46 PM, INFO, mealpy.swarm_based.GTO.Matlab101GTO: >>>Problem: P, Epoch: 9, Current best: 9.799873058819344, Global best: 9.799873058819344, Runtime: 84.69215 seconds\n",
      "2024/11/15 01:57:10 PM, INFO, mealpy.swarm_based.GTO.Matlab101GTO: >>>Problem: P, Epoch: 10, Current best: 9.799873058819344, Global best: 9.799873058819344, Runtime: 83.89867 seconds\n"
     ]
    },
    {
     "name": "stdout",
     "output_type": "stream",
     "text": [
      "Replica 11: Solution = [20.19155283  0.08176351  0.35970795], Fitness = 9.799873058819344\n"
     ]
    },
    {
     "name": "stderr",
     "output_type": "stream",
     "text": [
      "2024/11/15 01:57:11 PM, INFO, mealpy.swarm_based.GTO.Matlab101GTO: Solving single objective optimization problem.\n",
      "2024/11/15 01:58:40 PM, INFO, mealpy.swarm_based.GTO.Matlab101GTO: >>>Problem: P, Epoch: 1, Current best: 10.459148541642534, Global best: 10.459148541642534, Runtime: 83.93314 seconds\n",
      "2024/11/15 02:00:05 PM, INFO, mealpy.swarm_based.GTO.Matlab101GTO: >>>Problem: P, Epoch: 2, Current best: 9.889102331199874, Global best: 9.889102331199874, Runtime: 84.20845 seconds\n",
      "2024/11/15 02:01:29 PM, INFO, mealpy.swarm_based.GTO.Matlab101GTO: >>>Problem: P, Epoch: 3, Current best: 9.889102331199874, Global best: 9.889102331199874, Runtime: 84.24033 seconds\n",
      "2024/11/15 02:02:53 PM, INFO, mealpy.swarm_based.GTO.Matlab101GTO: >>>Problem: P, Epoch: 4, Current best: 9.889102331199874, Global best: 9.889102331199874, Runtime: 84.46505 seconds\n",
      "2024/11/15 02:04:18 PM, INFO, mealpy.swarm_based.GTO.Matlab101GTO: >>>Problem: P, Epoch: 5, Current best: 9.889102331199874, Global best: 9.889102331199874, Runtime: 84.50327 seconds\n",
      "2024/11/15 02:05:43 PM, INFO, mealpy.swarm_based.GTO.Matlab101GTO: >>>Problem: P, Epoch: 6, Current best: 9.889102331199874, Global best: 9.889102331199874, Runtime: 84.72305 seconds\n",
      "2024/11/15 02:07:08 PM, INFO, mealpy.swarm_based.GTO.Matlab101GTO: >>>Problem: P, Epoch: 7, Current best: 9.889102331199874, Global best: 9.889102331199874, Runtime: 85.07582 seconds\n",
      "2024/11/15 02:08:32 PM, INFO, mealpy.swarm_based.GTO.Matlab101GTO: >>>Problem: P, Epoch: 8, Current best: 9.889102331199874, Global best: 9.889102331199874, Runtime: 84.69834 seconds\n",
      "2024/11/15 02:09:57 PM, INFO, mealpy.swarm_based.GTO.Matlab101GTO: >>>Problem: P, Epoch: 9, Current best: 9.889102331199874, Global best: 9.889102331199874, Runtime: 85.08049 seconds\n",
      "2024/11/15 02:11:23 PM, INFO, mealpy.swarm_based.GTO.Matlab101GTO: >>>Problem: P, Epoch: 10, Current best: 9.889102331199874, Global best: 9.889102331199874, Runtime: 85.45100 seconds\n"
     ]
    },
    {
     "name": "stdout",
     "output_type": "stream",
     "text": [
      "Replica 12: Solution = [62.8790025   0.1         0.36955019], Fitness = 9.889102331199874\n"
     ]
    },
    {
     "name": "stderr",
     "output_type": "stream",
     "text": [
      "2024/11/15 02:11:24 PM, INFO, mealpy.swarm_based.GTO.Matlab101GTO: Solving single objective optimization problem.\n",
      "2024/11/15 02:12:55 PM, INFO, mealpy.swarm_based.GTO.Matlab101GTO: >>>Problem: P, Epoch: 1, Current best: 10.491687860914267, Global best: 10.491687860914267, Runtime: 85.58798 seconds\n",
      "2024/11/15 02:14:20 PM, INFO, mealpy.swarm_based.GTO.Matlab101GTO: >>>Problem: P, Epoch: 2, Current best: 9.973916683180983, Global best: 9.973916683180983, Runtime: 85.41772 seconds\n",
      "2024/11/15 02:15:47 PM, INFO, mealpy.swarm_based.GTO.Matlab101GTO: >>>Problem: P, Epoch: 3, Current best: 9.973916683180983, Global best: 9.973916683180983, Runtime: 86.28241 seconds\n",
      "2024/11/15 02:17:14 PM, INFO, mealpy.swarm_based.GTO.Matlab101GTO: >>>Problem: P, Epoch: 4, Current best: 9.86118184273935, Global best: 9.86118184273935, Runtime: 87.09688 seconds\n",
      "2024/11/15 02:18:40 PM, INFO, mealpy.swarm_based.GTO.Matlab101GTO: >>>Problem: P, Epoch: 5, Current best: 9.86118184273935, Global best: 9.86118184273935, Runtime: 86.13663 seconds\n",
      "2024/11/15 02:20:06 PM, INFO, mealpy.swarm_based.GTO.Matlab101GTO: >>>Problem: P, Epoch: 6, Current best: 9.782908111239815, Global best: 9.782908111239815, Runtime: 86.62684 seconds\n",
      "2024/11/15 02:21:33 PM, INFO, mealpy.swarm_based.GTO.Matlab101GTO: >>>Problem: P, Epoch: 7, Current best: 9.782908111239815, Global best: 9.782908111239815, Runtime: 86.62641 seconds\n",
      "2024/11/15 02:23:00 PM, INFO, mealpy.swarm_based.GTO.Matlab101GTO: >>>Problem: P, Epoch: 8, Current best: 9.782908111239815, Global best: 9.782908111239815, Runtime: 87.11432 seconds\n",
      "2024/11/15 02:24:27 PM, INFO, mealpy.swarm_based.GTO.Matlab101GTO: >>>Problem: P, Epoch: 9, Current best: 9.782908111239815, Global best: 9.782908111239815, Runtime: 87.06115 seconds\n",
      "2024/11/15 02:25:55 PM, INFO, mealpy.swarm_based.GTO.Matlab101GTO: >>>Problem: P, Epoch: 10, Current best: 9.782908111239815, Global best: 9.782908111239815, Runtime: 88.11815 seconds\n"
     ]
    },
    {
     "name": "stdout",
     "output_type": "stream",
     "text": [
      "Replica 13: Solution = [20.          0.07046915  0.36142178], Fitness = 9.782908111239815\n"
     ]
    },
    {
     "name": "stderr",
     "output_type": "stream",
     "text": [
      "2024/11/15 02:25:56 PM, INFO, mealpy.swarm_based.GTO.Matlab101GTO: Solving single objective optimization problem.\n",
      "2024/11/15 02:27:29 PM, INFO, mealpy.swarm_based.GTO.Matlab101GTO: >>>Problem: P, Epoch: 1, Current best: 10.456402878867435, Global best: 10.456402878867435, Runtime: 87.49190 seconds\n",
      "2024/11/15 02:28:57 PM, INFO, mealpy.swarm_based.GTO.Matlab101GTO: >>>Problem: P, Epoch: 2, Current best: 10.456402878867435, Global best: 10.456402878867435, Runtime: 87.26904 seconds\n",
      "2024/11/15 02:30:24 PM, INFO, mealpy.swarm_based.GTO.Matlab101GTO: >>>Problem: P, Epoch: 3, Current best: 3.8659457461595754, Global best: 3.8659457461595754, Runtime: 87.65517 seconds\n",
      "2024/11/15 02:31:52 PM, INFO, mealpy.swarm_based.GTO.Matlab101GTO: >>>Problem: P, Epoch: 4, Current best: 2.0974819748309628, Global best: 2.0974819748309628, Runtime: 88.06504 seconds\n",
      "2024/11/15 02:33:20 PM, INFO, mealpy.swarm_based.GTO.Matlab101GTO: >>>Problem: P, Epoch: 5, Current best: 1.8912811212186211, Global best: 1.8912811212186211, Runtime: 87.92999 seconds\n",
      "2024/11/15 02:34:49 PM, INFO, mealpy.swarm_based.GTO.Matlab101GTO: >>>Problem: P, Epoch: 6, Current best: 1.764985230487015, Global best: 1.764985230487015, Runtime: 88.30696 seconds\n",
      "2024/11/15 02:36:17 PM, INFO, mealpy.swarm_based.GTO.Matlab101GTO: >>>Problem: P, Epoch: 7, Current best: 1.749875538650091, Global best: 1.749875538650091, Runtime: 88.51447 seconds\n",
      "2024/11/15 02:37:47 PM, INFO, mealpy.swarm_based.GTO.Matlab101GTO: >>>Problem: P, Epoch: 8, Current best: 1.5123814559184656, Global best: 1.5123814559184656, Runtime: 89.75679 seconds\n",
      "2024/11/15 02:39:17 PM, INFO, mealpy.swarm_based.GTO.Matlab101GTO: >>>Problem: P, Epoch: 9, Current best: 1.3470966713786006, Global best: 1.3470966713786006, Runtime: 90.24900 seconds\n",
      "2024/11/15 02:40:49 PM, INFO, mealpy.swarm_based.GTO.Matlab101GTO: >>>Problem: P, Epoch: 10, Current best: 0.5916522409227385, Global best: 0.5916522409227385, Runtime: 92.06888 seconds\n"
     ]
    },
    {
     "name": "stdout",
     "output_type": "stream",
     "text": [
      "Replica 14: Solution = [2.55782495e+01 1.02489005e-03 6.08368524e-01], Fitness = 0.5916522409227385\n"
     ]
    },
    {
     "name": "stderr",
     "output_type": "stream",
     "text": [
      "2024/11/15 02:40:50 PM, INFO, mealpy.swarm_based.GTO.Matlab101GTO: Solving single objective optimization problem.\n",
      "2024/11/15 02:42:25 PM, INFO, mealpy.swarm_based.GTO.Matlab101GTO: >>>Problem: P, Epoch: 1, Current best: 10.486456335388892, Global best: 10.486456335388892, Runtime: 89.28762 seconds\n",
      "2024/11/15 02:43:56 PM, INFO, mealpy.swarm_based.GTO.Matlab101GTO: >>>Problem: P, Epoch: 2, Current best: 10.465016606442873, Global best: 10.465016606442873, Runtime: 91.13201 seconds\n",
      "2024/11/15 02:45:30 PM, INFO, mealpy.swarm_based.GTO.Matlab101GTO: >>>Problem: P, Epoch: 3, Current best: 9.949294987276321, Global best: 9.949294987276321, Runtime: 93.96742 seconds\n",
      "2024/11/15 02:47:08 PM, INFO, mealpy.swarm_based.GTO.Matlab101GTO: >>>Problem: P, Epoch: 4, Current best: 3.9248453215946166, Global best: 3.9248453215946166, Runtime: 97.85913 seconds\n",
      "2024/11/15 02:48:39 PM, INFO, mealpy.swarm_based.GTO.Matlab101GTO: >>>Problem: P, Epoch: 5, Current best: 2.8041433493903227, Global best: 2.8041433493903227, Runtime: 91.25862 seconds\n",
      "2024/11/15 02:50:10 PM, INFO, mealpy.swarm_based.GTO.Matlab101GTO: >>>Problem: P, Epoch: 6, Current best: 1.9690951939315793, Global best: 1.9690951939315793, Runtime: 90.53586 seconds\n",
      "2024/11/15 02:51:41 PM, INFO, mealpy.swarm_based.GTO.Matlab101GTO: >>>Problem: P, Epoch: 7, Current best: 1.9690951939315793, Global best: 1.9690951939315793, Runtime: 90.70761 seconds\n",
      "2024/11/15 02:53:12 PM, INFO, mealpy.swarm_based.GTO.Matlab101GTO: >>>Problem: P, Epoch: 8, Current best: 1.9690951939315793, Global best: 1.9690951939315793, Runtime: 91.32644 seconds\n",
      "2024/11/15 02:54:43 PM, INFO, mealpy.swarm_based.GTO.Matlab101GTO: >>>Problem: P, Epoch: 9, Current best: 1.9479246610845955, Global best: 1.9479246610845955, Runtime: 90.77052 seconds\n",
      "2024/11/15 02:56:14 PM, INFO, mealpy.swarm_based.GTO.Matlab101GTO: >>>Problem: P, Epoch: 10, Current best: 0.3108468845416503, Global best: 0.3108468845416503, Runtime: 91.43089 seconds\n"
     ]
    },
    {
     "name": "stdout",
     "output_type": "stream",
     "text": [
      "Replica 15: Solution = [3.72533419e+01 2.42057252e-03 5.81133523e-01], Fitness = 0.3108468845416503\n"
     ]
    },
    {
     "name": "stderr",
     "output_type": "stream",
     "text": [
      "2024/11/15 02:56:15 PM, INFO, mealpy.swarm_based.GTO.Matlab101GTO: Solving single objective optimization problem.\n",
      "2024/11/15 02:57:52 PM, INFO, mealpy.swarm_based.GTO.Matlab101GTO: >>>Problem: P, Epoch: 1, Current best: 9.790922856932267, Global best: 9.790922856932267, Runtime: 91.25003 seconds\n",
      "2024/11/15 02:59:23 PM, INFO, mealpy.swarm_based.GTO.Matlab101GTO: >>>Problem: P, Epoch: 2, Current best: 9.790922856932267, Global best: 9.790922856932267, Runtime: 91.10139 seconds\n",
      "2024/11/15 03:00:55 PM, INFO, mealpy.swarm_based.GTO.Matlab101GTO: >>>Problem: P, Epoch: 3, Current best: 3.4798462629756184, Global best: 3.4798462629756184, Runtime: 92.12076 seconds\n",
      "2024/11/15 03:02:27 PM, INFO, mealpy.swarm_based.GTO.Matlab101GTO: >>>Problem: P, Epoch: 4, Current best: 2.4975022214672578, Global best: 2.4975022214672578, Runtime: 91.51766 seconds\n",
      "2024/11/15 03:03:59 PM, INFO, mealpy.swarm_based.GTO.Matlab101GTO: >>>Problem: P, Epoch: 5, Current best: 1.6540139147428063, Global best: 1.6540139147428063, Runtime: 92.14734 seconds\n",
      "2024/11/15 03:05:31 PM, INFO, mealpy.swarm_based.GTO.Matlab101GTO: >>>Problem: P, Epoch: 6, Current best: 0.9348426554086076, Global best: 0.9348426554086076, Runtime: 91.43619 seconds\n",
      "2024/11/15 03:07:03 PM, INFO, mealpy.swarm_based.GTO.Matlab101GTO: >>>Problem: P, Epoch: 7, Current best: 0.8966341338957342, Global best: 0.8966341338957342, Runtime: 92.47935 seconds\n",
      "2024/11/15 03:08:36 PM, INFO, mealpy.swarm_based.GTO.Matlab101GTO: >>>Problem: P, Epoch: 8, Current best: 0.8966341338957342, Global best: 0.8966341338957342, Runtime: 93.11914 seconds\n",
      "2024/11/15 03:10:09 PM, INFO, mealpy.swarm_based.GTO.Matlab101GTO: >>>Problem: P, Epoch: 9, Current best: 0.5601136053524047, Global best: 0.5601136053524047, Runtime: 92.68449 seconds\n",
      "2024/11/15 03:11:41 PM, INFO, mealpy.swarm_based.GTO.Matlab101GTO: >>>Problem: P, Epoch: 10, Current best: 0.5601136053524047, Global best: 0.5601136053524047, Runtime: 92.18579 seconds\n"
     ]
    },
    {
     "name": "stdout",
     "output_type": "stream",
     "text": [
      "Replica 16: Solution = [2.00000000e+01 2.04836463e-04 7.06577596e-01], Fitness = 0.5601136053524047\n"
     ]
    },
    {
     "name": "stderr",
     "output_type": "stream",
     "text": [
      "2024/11/15 03:11:42 PM, INFO, mealpy.swarm_based.GTO.Matlab101GTO: Solving single objective optimization problem.\n",
      "2024/11/15 03:13:22 PM, INFO, mealpy.swarm_based.GTO.Matlab101GTO: >>>Problem: P, Epoch: 1, Current best: 2.48711141843861, Global best: 2.48711141843861, Runtime: 94.44356 seconds\n",
      "2024/11/15 03:14:56 PM, INFO, mealpy.swarm_based.GTO.Matlab101GTO: >>>Problem: P, Epoch: 2, Current best: 2.4737253094109017, Global best: 2.4737253094109017, Runtime: 93.11026 seconds\n",
      "2024/11/15 03:16:29 PM, INFO, mealpy.swarm_based.GTO.Matlab101GTO: >>>Problem: P, Epoch: 3, Current best: 1.7285914601882348, Global best: 1.7285914601882348, Runtime: 93.07620 seconds\n",
      "2024/11/15 03:18:02 PM, INFO, mealpy.swarm_based.GTO.Matlab101GTO: >>>Problem: P, Epoch: 4, Current best: 1.6172366440328523, Global best: 1.6172366440328523, Runtime: 93.66432 seconds\n",
      "2024/11/15 03:19:36 PM, INFO, mealpy.swarm_based.GTO.Matlab101GTO: >>>Problem: P, Epoch: 5, Current best: 1.6172366440328523, Global best: 1.6172366440328523, Runtime: 93.50262 seconds\n",
      "2024/11/15 03:21:11 PM, INFO, mealpy.swarm_based.GTO.Matlab101GTO: >>>Problem: P, Epoch: 6, Current best: 1.4730997155618928, Global best: 1.4730997155618928, Runtime: 95.09043 seconds\n",
      "2024/11/15 03:22:45 PM, INFO, mealpy.swarm_based.GTO.Matlab101GTO: >>>Problem: P, Epoch: 7, Current best: 1.1693869712575435, Global best: 1.1693869712575435, Runtime: 93.89433 seconds\n",
      "2024/11/15 03:24:19 PM, INFO, mealpy.swarm_based.GTO.Matlab101GTO: >>>Problem: P, Epoch: 8, Current best: 0.8751993341414892, Global best: 0.8751993341414892, Runtime: 94.47504 seconds\n",
      "2024/11/15 03:25:54 PM, INFO, mealpy.swarm_based.GTO.Matlab101GTO: >>>Problem: P, Epoch: 9, Current best: 0.34503888160965474, Global best: 0.34503888160965474, Runtime: 95.07758 seconds\n",
      "2024/11/15 03:27:29 PM, INFO, mealpy.swarm_based.GTO.Matlab101GTO: >>>Problem: P, Epoch: 10, Current best: 0.3417279637129933, Global best: 0.3417279637129933, Runtime: 94.52719 seconds\n"
     ]
    },
    {
     "name": "stdout",
     "output_type": "stream",
     "text": [
      "Replica 17: Solution = [2.00000000e+01 7.76701066e-04 6.26407196e-01], Fitness = 0.3417279637129933\n"
     ]
    },
    {
     "name": "stderr",
     "output_type": "stream",
     "text": [
      "2024/11/15 03:27:30 PM, INFO, mealpy.swarm_based.GTO.Matlab101GTO: Solving single objective optimization problem.\n",
      "2024/11/15 03:29:10 PM, INFO, mealpy.swarm_based.GTO.Matlab101GTO: >>>Problem: P, Epoch: 1, Current best: 10.47394265620214, Global best: 10.47394265620214, Runtime: 94.39091 seconds\n",
      "2024/11/15 03:30:45 PM, INFO, mealpy.swarm_based.GTO.Matlab101GTO: >>>Problem: P, Epoch: 2, Current best: 10.460652417215545, Global best: 10.460652417215545, Runtime: 94.62472 seconds\n",
      "2024/11/15 03:32:20 PM, INFO, mealpy.swarm_based.GTO.Matlab101GTO: >>>Problem: P, Epoch: 3, Current best: 10.460652417215545, Global best: 10.460652417215545, Runtime: 94.75280 seconds\n",
      "2024/11/15 03:33:55 PM, INFO, mealpy.swarm_based.GTO.Matlab101GTO: >>>Problem: P, Epoch: 4, Current best: 10.460652417215545, Global best: 10.460652417215545, Runtime: 95.20206 seconds\n",
      "2024/11/15 03:35:31 PM, INFO, mealpy.swarm_based.GTO.Matlab101GTO: >>>Problem: P, Epoch: 5, Current best: 10.198955497219288, Global best: 10.198955497219288, Runtime: 95.85787 seconds\n",
      "2024/11/15 03:37:06 PM, INFO, mealpy.swarm_based.GTO.Matlab101GTO: >>>Problem: P, Epoch: 6, Current best: 9.88459925824831, Global best: 9.88459925824831, Runtime: 95.64375 seconds\n",
      "2024/11/15 03:38:42 PM, INFO, mealpy.swarm_based.GTO.Matlab101GTO: >>>Problem: P, Epoch: 7, Current best: 9.88459925824831, Global best: 9.88459925824831, Runtime: 95.20574 seconds\n",
      "2024/11/15 03:40:17 PM, INFO, mealpy.swarm_based.GTO.Matlab101GTO: >>>Problem: P, Epoch: 8, Current best: 9.88459925824831, Global best: 9.88459925824831, Runtime: 95.63803 seconds\n",
      "2024/11/15 03:41:53 PM, INFO, mealpy.swarm_based.GTO.Matlab101GTO: >>>Problem: P, Epoch: 9, Current best: 9.88459925824831, Global best: 9.88459925824831, Runtime: 95.84634 seconds\n",
      "2024/11/15 03:43:29 PM, INFO, mealpy.swarm_based.GTO.Matlab101GTO: >>>Problem: P, Epoch: 10, Current best: 9.88459925824831, Global best: 9.88459925824831, Runtime: 96.37198 seconds\n"
     ]
    },
    {
     "name": "stdout",
     "output_type": "stream",
     "text": [
      "Replica 18: Solution = [52.27648073  0.06808684  0.3798206 ], Fitness = 9.88459925824831\n"
     ]
    },
    {
     "name": "stderr",
     "output_type": "stream",
     "text": [
      "2024/11/15 03:43:30 PM, INFO, mealpy.swarm_based.GTO.Matlab101GTO: Solving single objective optimization problem.\n",
      "2024/11/15 03:45:14 PM, INFO, mealpy.swarm_based.GTO.Matlab101GTO: >>>Problem: P, Epoch: 1, Current best: 0.452691580618603, Global best: 0.452691580618603, Runtime: 97.05634 seconds\n",
      "2024/11/15 03:46:50 PM, INFO, mealpy.swarm_based.GTO.Matlab101GTO: >>>Problem: P, Epoch: 2, Current best: 0.3563859268673029, Global best: 0.3563859268673029, Runtime: 96.21523 seconds\n",
      "2024/11/15 03:48:27 PM, INFO, mealpy.swarm_based.GTO.Matlab101GTO: >>>Problem: P, Epoch: 3, Current best: 0.3563859268673029, Global best: 0.3563859268673029, Runtime: 96.36930 seconds\n",
      "2024/11/15 03:50:03 PM, INFO, mealpy.swarm_based.GTO.Matlab101GTO: >>>Problem: P, Epoch: 4, Current best: 0.3563859268673029, Global best: 0.3563859268673029, Runtime: 96.86088 seconds\n",
      "2024/11/15 03:51:40 PM, INFO, mealpy.swarm_based.GTO.Matlab101GTO: >>>Problem: P, Epoch: 5, Current best: 0.3563859268673029, Global best: 0.3563859268673029, Runtime: 96.40478 seconds\n",
      "2024/11/15 03:53:17 PM, INFO, mealpy.swarm_based.GTO.Matlab101GTO: >>>Problem: P, Epoch: 6, Current best: 0.3563859268673029, Global best: 0.3563859268673029, Runtime: 97.55522 seconds\n",
      "2024/11/15 03:54:55 PM, INFO, mealpy.swarm_based.GTO.Matlab101GTO: >>>Problem: P, Epoch: 7, Current best: 0.3563859268673029, Global best: 0.3563859268673029, Runtime: 98.07838 seconds\n",
      "2024/11/15 03:56:32 PM, INFO, mealpy.swarm_based.GTO.Matlab101GTO: >>>Problem: P, Epoch: 8, Current best: 0.3563859268673029, Global best: 0.3563859268673029, Runtime: 97.04121 seconds\n",
      "2024/11/15 03:58:10 PM, INFO, mealpy.swarm_based.GTO.Matlab101GTO: >>>Problem: P, Epoch: 9, Current best: 0.3563859268673029, Global best: 0.3563859268673029, Runtime: 97.43604 seconds\n",
      "2024/11/15 03:59:47 PM, INFO, mealpy.swarm_based.GTO.Matlab101GTO: >>>Problem: P, Epoch: 10, Current best: 0.3563859268673029, Global best: 0.3563859268673029, Runtime: 97.51838 seconds\n"
     ]
    },
    {
     "name": "stdout",
     "output_type": "stream",
     "text": [
      "Replica 19: Solution = [3.55650341e+01 3.98374216e-03 5.21945216e-01], Fitness = 0.3563859268673029\n"
     ]
    },
    {
     "name": "stderr",
     "output_type": "stream",
     "text": [
      "2024/11/15 03:59:48 PM, INFO, mealpy.swarm_based.GTO.Matlab101GTO: Solving single objective optimization problem.\n",
      "2024/11/15 04:01:33 PM, INFO, mealpy.swarm_based.GTO.Matlab101GTO: >>>Problem: P, Epoch: 1, Current best: 9.84222569488459, Global best: 9.84222569488459, Runtime: 97.96505 seconds\n",
      "2024/11/15 04:03:11 PM, INFO, mealpy.swarm_based.GTO.Matlab101GTO: >>>Problem: P, Epoch: 2, Current best: 1.5473008321154431, Global best: 1.5473008321154431, Runtime: 98.01211 seconds\n",
      "2024/11/15 04:04:49 PM, INFO, mealpy.swarm_based.GTO.Matlab101GTO: >>>Problem: P, Epoch: 3, Current best: 1.5160355306061986, Global best: 1.5160355306061986, Runtime: 98.54963 seconds\n",
      "2024/11/15 04:06:28 PM, INFO, mealpy.swarm_based.GTO.Matlab101GTO: >>>Problem: P, Epoch: 4, Current best: 0.9653708692128281, Global best: 0.9653708692128281, Runtime: 98.94610 seconds\n",
      "2024/11/15 04:08:07 PM, INFO, mealpy.swarm_based.GTO.Matlab101GTO: >>>Problem: P, Epoch: 5, Current best: 0.3700207583416476, Global best: 0.3700207583416476, Runtime: 98.93026 seconds\n",
      "2024/11/15 04:09:46 PM, INFO, mealpy.swarm_based.GTO.Matlab101GTO: >>>Problem: P, Epoch: 6, Current best: 0.3700207583416476, Global best: 0.3700207583416476, Runtime: 99.31909 seconds\n",
      "2024/11/15 04:11:25 PM, INFO, mealpy.swarm_based.GTO.Matlab101GTO: >>>Problem: P, Epoch: 7, Current best: 0.3700207583416476, Global best: 0.3700207583416476, Runtime: 99.00466 seconds\n",
      "2024/11/15 04:13:04 PM, INFO, mealpy.swarm_based.GTO.Matlab101GTO: >>>Problem: P, Epoch: 8, Current best: 0.2997474655045687, Global best: 0.2997474655045687, Runtime: 98.98203 seconds\n",
      "2024/11/15 04:14:44 PM, INFO, mealpy.swarm_based.GTO.Matlab101GTO: >>>Problem: P, Epoch: 9, Current best: 0.279218583560028, Global best: 0.279218583560028, Runtime: 99.18429 seconds\n",
      "2024/11/15 04:16:23 PM, INFO, mealpy.swarm_based.GTO.Matlab101GTO: >>>Problem: P, Epoch: 10, Current best: 0.279218583560028, Global best: 0.279218583560028, Runtime: 99.30579 seconds\n"
     ]
    },
    {
     "name": "stdout",
     "output_type": "stream",
     "text": [
      "Replica 20: Solution = [2.00000000e+01 4.65534905e-04 6.69673696e-01], Fitness = 0.279218583560028\n",
      "Resultados guardados en 'results_GTO.mat'.\n"
     ]
    }
   ],
   "source": [
    "import numpy as np\n",
    "import matlab.engine\n",
    "from mealpy import FloatVar, GTO\n",
    "\n",
    "solutions2 = []\n",
    "fitness_values2 = []\n",
    "\n",
    "def objective_function(solution):\n",
    "    global num_evaluations\n",
    "    num_evaluations += 1\n",
    "    x1, x2, x3 = float(solution[0]), float(solution[1]), float(solution[2])\n",
    "    fcost = eng.HHmododeslizante2(x1, x2, x3)\n",
    "    return fcost\n",
    "\n",
    "problem_dict = {\n",
    "    \"bounds\": FloatVar(lb=(20,0,0), ub=(75.0, 0.1, 5.0), name=\"delta\"),\n",
    "    \"minmax\": \"min\",\n",
    "    \"obj_func\": objective_function\n",
    "}\n",
    "\n",
    "num_replicas = 20\n",
    "for i in range(num_replicas):\n",
    "    model = GTO.Matlab101GTO(epoch=10, pop_size=20)\n",
    "    g_best = model.solve(problem_dict)\n",
    "    solutions2.append(g_best.solution)\n",
    "    fitness_values2.append(g_best.target.fitness)\n",
    "    print(f\"Replica {i+1}: Solution = {g_best.solution}, Fitness = {g_best.target.fitness}\")\n",
    "results2 = {\n",
    "    \"solutions_GTO2\": np.array(solutions2),\n",
    "    \"fitness_values_GTO2\": np.array(fitness_values2),\n",
    "\n",
    "}\n",
    "\n",
    "sio.savemat(\"results2_GTO2_ultimatest.mat\", results2)\n",
    "print(\"Resultados guardados en 'results_GTO.mat'.\")"
   ]
  },
  {
   "cell_type": "code",
   "execution_count": null,
   "id": "829270f3",
   "metadata": {},
   "outputs": [],
   "source": []
  },
  {
   "cell_type": "code",
   "execution_count": null,
   "id": "c6803b5d",
   "metadata": {},
   "outputs": [],
   "source": []
  }
 ],
 "metadata": {
  "kernelspec": {
   "display_name": "Python 3 (ipykernel)",
   "language": "python",
   "name": "python3"
  },
  "language_info": {
   "codemirror_mode": {
    "name": "ipython",
    "version": 3
   },
   "file_extension": ".py",
   "mimetype": "text/x-python",
   "name": "python",
   "nbconvert_exporter": "python",
   "pygments_lexer": "ipython3",
   "version": "3.11.4"
  }
 },
 "nbformat": 4,
 "nbformat_minor": 5
}
